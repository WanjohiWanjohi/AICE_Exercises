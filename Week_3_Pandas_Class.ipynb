{
  "nbformat": 4,
  "nbformat_minor": 0,
  "metadata": {
    "colab": {
      "name": "Week 3 Pandas Class.ipynb",
      "provenance": [],
      "collapsed_sections": [
        "3gKwgmW2hM5K",
        "i4Van9TrqWPA",
        "QfppYkpr7xx-",
        "Jzl5sWC63-9n",
        "yPRyRBU3dNpw",
        "q11KNe7Kb89B",
        "cN6ZfLkisinS",
        "fQrOZq71yReO",
        "wCz8XxyA1exx",
        "x--BLn0_5aUW",
        "mJroR0uT8Ls3",
        "fDzaH1yfPskj"
      ],
      "toc_visible": true,
      "include_colab_link": true
    },
    "kernelspec": {
      "name": "python3",
      "display_name": "Python 3"
    }
  },
  "cells": [
    {
      "cell_type": "markdown",
      "metadata": {
        "id": "view-in-github",
        "colab_type": "text"
      },
      "source": [
        "<a href=\"https://colab.research.google.com/github/WanjohiWanjohi/AICE_Exercises/blob/week_3/Week_3_Pandas_Class.ipynb\" target=\"_parent\"><img src=\"https://colab.research.google.com/assets/colab-badge.svg\" alt=\"Open In Colab\"/></a>"
      ]
    },
    {
      "cell_type": "markdown",
      "metadata": {
        "id": "jbPCAJ7abfJW"
      },
      "source": [
        "\n",
        "# Week 3 Pandas Class\n",
        "Proprietary material - Under Creative Commons 4.0 licence CC-BY-NC https://creativecommons.org/licenses/by-nc/4.0/legalcode"
      ]
    },
    {
      "cell_type": "markdown",
      "metadata": {
        "id": "bEVtC55FikuK"
      },
      "source": [
        "# Tutorial Overview\n",
        "Hi everyone! Welcome to the week 3 tutorial - Data Manipulation with Pandas! \n",
        "\n",
        "In the lecture, we went through the basics of Pandas(Python Data Analysis Library) and now you should be\n",
        "familar with the following:\n",
        "\n",
        "     1) viewing and getting infos from data\n",
        "\n",
        "     2) handling duplicates\n",
        "\n",
        "     3) cleaning up columns \n",
        "\n",
        "     4) working with missing values\n",
        "\n",
        "     5) dataFrame slicing, selecting, and extracting\n",
        "\n",
        "\n",
        "Here, you will get a more detailed and rich introduction!\n",
        "\n",
        "***New!***\n",
        "In this tutorial, you will learn and get practices on:\n",
        "- applying functions\n",
        "- concatenating, merging, and joining DataFrames\n",
        "- multi-indexing\n",
        "- Data aggregation\n",
        "- grouping\n",
        "\n",
        "\n",
        "\n",
        "**Tips to get the most out of this tutorial:**\n",
        "1. Make sure you carefully read and understand how the example code works.  \n",
        "2. Try your best before looking at the hidden solutions\n",
        "\n",
        "\n",
        "\n",
        "\n",
        "\n",
        "\n"
      ]
    },
    {
      "cell_type": "markdown",
      "metadata": {
        "id": "SZPXleXirZA0"
      },
      "source": [
        "# Getting Started and a Quick Review!\n",
        "To get started, I'll briefly remind you of the two data structures Panda provides:\n",
        "1. Series - 1-dimensional array with labeled indices, capable of storing homogenous data of any type in python.\n",
        "\n",
        "2. DataFrame - a 2-dimensional array with labeled indices and columns, capable of storing heterogenous data of any type in python. This is analogous to what you see when you open an Excel file, for example.\n",
        "\n",
        "Let's start! \n"
      ]
    },
    {
      "cell_type": "code",
      "metadata": {
        "id": "7KkrT2Ywt7vZ"
      },
      "source": [
        "import pandas as pd"
      ],
      "execution_count": null,
      "outputs": []
    },
    {
      "cell_type": "markdown",
      "metadata": {
        "id": "A8H7BhPm8NOc"
      },
      "source": [
        "\n",
        "\n",
        "### Getting the data \n"
      ]
    },
    {
      "cell_type": "code",
      "metadata": {
        "id": "U6t6QdHdfoVw"
      },
      "source": [
        "\n",
        "# Reading the csv file into a pandas dataframe \n",
        "# setting the index column as the uniq_id at the same time\n",
        "\n",
        "wildlife_df = pd.read_csv('https://raw.githubusercontent.com/AICP-teaching/Datasets/main/wildlife.csv',delimiter = ',', index_col = \"uniq_id\")\n"
      ],
      "execution_count": null,
      "outputs": []
    },
    {
      "cell_type": "markdown",
      "metadata": {
        "id": "3gKwgmW2hM5K"
      },
      "source": [
        "### Viewing and getting info from the data"
      ]
    },
    {
      "cell_type": "code",
      "metadata": {
        "id": "ky6-F4WFhWjh",
        "colab": {
          "base_uri": "https://localhost:8080/",
          "height": 235
        },
        "outputId": "8acde4b7-9201-4e0f-bbe7-9c7fe0416479"
      },
      "source": [
        "# the entire dataframe\n",
        "wildlife_df\n",
        "# we can get 5 first/random/last rows to get a feel of the data\n",
        "#TODO: get the 5 first row (hint: lecture slides)\n",
        "wildlife_df.head(5)\n",
        "#TODO: get the 5 last row (hint: lecture slides)\n",
        "\n",
        "# if you want to see 5 random rows:\n",
        "# wildlife_df.sample(5)\n"
      ],
      "execution_count": null,
      "outputs": [
        {
          "output_type": "execute_result",
          "data": {
            "text/html": [
              "<div>\n",
              "<style scoped>\n",
              "    .dataframe tbody tr th:only-of-type {\n",
              "        vertical-align: middle;\n",
              "    }\n",
              "\n",
              "    .dataframe tbody tr th {\n",
              "        vertical-align: top;\n",
              "    }\n",
              "\n",
              "    .dataframe thead th {\n",
              "        text-align: right;\n",
              "    }\n",
              "</style>\n",
              "<table border=\"1\" class=\"dataframe\">\n",
              "  <thead>\n",
              "    <tr style=\"text-align: right;\">\n",
              "      <th></th>\n",
              "      <th>animal</th>\n",
              "      <th>water_need</th>\n",
              "    </tr>\n",
              "    <tr>\n",
              "      <th>uniq_id</th>\n",
              "      <th></th>\n",
              "      <th></th>\n",
              "    </tr>\n",
              "  </thead>\n",
              "  <tbody>\n",
              "    <tr>\n",
              "      <th>1001</th>\n",
              "      <td>elephant</td>\n",
              "      <td>500</td>\n",
              "    </tr>\n",
              "    <tr>\n",
              "      <th>1002</th>\n",
              "      <td>elephant</td>\n",
              "      <td>600</td>\n",
              "    </tr>\n",
              "    <tr>\n",
              "      <th>1003</th>\n",
              "      <td>elephant</td>\n",
              "      <td>550</td>\n",
              "    </tr>\n",
              "    <tr>\n",
              "      <th>1004</th>\n",
              "      <td>tiger</td>\n",
              "      <td>300</td>\n",
              "    </tr>\n",
              "    <tr>\n",
              "      <th>1005</th>\n",
              "      <td>tiger</td>\n",
              "      <td>320</td>\n",
              "    </tr>\n",
              "  </tbody>\n",
              "</table>\n",
              "</div>"
            ],
            "text/plain": [
              "           animal  water_need\n",
              "uniq_id                      \n",
              "1001     elephant         500\n",
              "1002     elephant         600\n",
              "1003     elephant         550\n",
              "1004        tiger         300\n",
              "1005        tiger         320"
            ]
          },
          "metadata": {
            "tags": []
          },
          "execution_count": 20
        }
      ]
    },
    {
      "cell_type": "code",
      "metadata": {
        "id": "Qa_uTGmBjNAf",
        "colab": {
          "base_uri": "https://localhost:8080/"
        },
        "outputId": "18ed6c70-bcfb-4fe5-969a-3d394ff966dc"
      },
      "source": [
        "# getting an information table\n",
        "wildlife_df.info()"
      ],
      "execution_count": null,
      "outputs": [
        {
          "output_type": "stream",
          "text": [
            "<class 'pandas.core.frame.DataFrame'>\n",
            "Int64Index: 22 entries, 1001 to 1022\n",
            "Data columns (total 2 columns):\n",
            " #   Column      Non-Null Count  Dtype \n",
            "---  ------      --------------  ----- \n",
            " 0   animal      22 non-null     object\n",
            " 1   water_need  22 non-null     int64 \n",
            "dtypes: int64(1), object(1)\n",
            "memory usage: 528.0+ bytes\n"
          ],
          "name": "stdout"
        }
      ]
    },
    {
      "cell_type": "markdown",
      "metadata": {
        "id": "a_vG5DSXjeEo"
      },
      "source": [
        "From here, we can see that there are no missing values, and the type of the three columns, as well as the memory usage. We can also tell the number of rows and columns of this dataframe but you can always use the .shape attribute to \n",
        "double check."
      ]
    },
    {
      "cell_type": "code",
      "metadata": {
        "id": "9Tn6VsiFkjFz"
      },
      "source": [
        "#TODO: use the .shape attribute to find the number of rows and columns\n"
      ],
      "execution_count": null,
      "outputs": []
    },
    {
      "cell_type": "code",
      "metadata": {
        "id": "fhTCekeKsRf8",
        "colab": {
          "base_uri": "https://localhost:8080/"
        },
        "outputId": "508be182-0ecb-4a19-80b7-a76bd68bbee4"
      },
      "source": [
        "#@title Solution (double click to see)\n",
        "#use the .shape attribute to find the number of rows and columns\n",
        "print (\"The number of rows is \" + str(wildlife_df.shape[0]) + \". The number of columns is \"+ str(wildlife_df.shape[1])+ \".\")"
      ],
      "execution_count": null,
      "outputs": [
        {
          "output_type": "stream",
          "text": [
            "The number of rows is 22. The number of columns is 2.\n"
          ],
          "name": "stdout"
        }
      ]
    },
    {
      "cell_type": "markdown",
      "metadata": {
        "id": "ViCJ6m0LTEPR"
      },
      "source": [
        "Now, most of times, using info() is insufficient for us to get a good grasp of our data. This is when we need to use the describe method. If you went to the lecture, you would know that it returns a full statistical summary for all columns in the dataframe, which is very useful."
      ]
    },
    {
      "cell_type": "code",
      "metadata": {
        "id": "ZyfqhrQuTsyM"
      },
      "source": [
        "#TODO: use the describe method ...\n",
        "# ... to generate a statistical summary of ALL THE COLUMNS in wildlife_df \n",
        "# (hint: there is an argument that you need to pass in the method - check the\n",
        "# lecture slides if you're stuck)\n"
      ],
      "execution_count": null,
      "outputs": []
    },
    {
      "cell_type": "code",
      "metadata": {
        "id": "iNUoPPgsULBm",
        "colab": {
          "base_uri": "https://localhost:8080/",
          "height": 390
        },
        "cellView": "form",
        "outputId": "1b5ce8a5-3f97-4744-925e-1894f7ba6dfe"
      },
      "source": [
        "#@title Solution (double click to see)\n",
        "#Hidden Solution\n",
        "wildlife_df.describe(include=\"all\")"
      ],
      "execution_count": null,
      "outputs": [
        {
          "output_type": "execute_result",
          "data": {
            "text/html": [
              "<div>\n",
              "<style scoped>\n",
              "    .dataframe tbody tr th:only-of-type {\n",
              "        vertical-align: middle;\n",
              "    }\n",
              "\n",
              "    .dataframe tbody tr th {\n",
              "        vertical-align: top;\n",
              "    }\n",
              "\n",
              "    .dataframe thead th {\n",
              "        text-align: right;\n",
              "    }\n",
              "</style>\n",
              "<table border=\"1\" class=\"dataframe\">\n",
              "  <thead>\n",
              "    <tr style=\"text-align: right;\">\n",
              "      <th></th>\n",
              "      <th>animal</th>\n",
              "      <th>water_need</th>\n",
              "    </tr>\n",
              "  </thead>\n",
              "  <tbody>\n",
              "    <tr>\n",
              "      <th>count</th>\n",
              "      <td>22</td>\n",
              "      <td>22.000000</td>\n",
              "    </tr>\n",
              "    <tr>\n",
              "      <th>unique</th>\n",
              "      <td>5</td>\n",
              "      <td>NaN</td>\n",
              "    </tr>\n",
              "    <tr>\n",
              "      <th>top</th>\n",
              "      <td>zebra</td>\n",
              "      <td>NaN</td>\n",
              "    </tr>\n",
              "    <tr>\n",
              "      <th>freq</th>\n",
              "      <td>7</td>\n",
              "      <td>NaN</td>\n",
              "    </tr>\n",
              "    <tr>\n",
              "      <th>mean</th>\n",
              "      <td>NaN</td>\n",
              "      <td>347.727273</td>\n",
              "    </tr>\n",
              "    <tr>\n",
              "      <th>std</th>\n",
              "      <td>NaN</td>\n",
              "      <td>147.549243</td>\n",
              "    </tr>\n",
              "    <tr>\n",
              "      <th>min</th>\n",
              "      <td>NaN</td>\n",
              "      <td>80.000000</td>\n",
              "    </tr>\n",
              "    <tr>\n",
              "      <th>25%</th>\n",
              "      <td>NaN</td>\n",
              "      <td>232.500000</td>\n",
              "    </tr>\n",
              "    <tr>\n",
              "      <th>50%</th>\n",
              "      <td>NaN</td>\n",
              "      <td>325.000000</td>\n",
              "    </tr>\n",
              "    <tr>\n",
              "      <th>75%</th>\n",
              "      <td>NaN</td>\n",
              "      <td>427.500000</td>\n",
              "    </tr>\n",
              "    <tr>\n",
              "      <th>max</th>\n",
              "      <td>NaN</td>\n",
              "      <td>600.000000</td>\n",
              "    </tr>\n",
              "  </tbody>\n",
              "</table>\n",
              "</div>"
            ],
            "text/plain": [
              "       animal  water_need\n",
              "count      22   22.000000\n",
              "unique      5         NaN\n",
              "top     zebra         NaN\n",
              "freq        7         NaN\n",
              "mean      NaN  347.727273\n",
              "std       NaN  147.549243\n",
              "min       NaN   80.000000\n",
              "25%       NaN  232.500000\n",
              "50%       NaN  325.000000\n",
              "75%       NaN  427.500000\n",
              "max       NaN  600.000000"
            ]
          },
          "metadata": {
            "tags": []
          },
          "execution_count": 23
        }
      ]
    },
    {
      "cell_type": "markdown",
      "metadata": {
        "id": "i4Van9TrqWPA"
      },
      "source": [
        "### Cleaning the data"
      ]
    },
    {
      "cell_type": "code",
      "metadata": {
        "id": "TK249dQzq_La",
        "colab": {
          "base_uri": "https://localhost:8080/"
        },
        "outputId": "d40f19e2-8178-4c23-8bca-d8758eb6c702"
      },
      "source": [
        "# The column names are already in nice formats.\n",
        "# But just for the sake of exercise, I'll mess them up a bit \n",
        "# and you will need to fix them so they are the same as before.\n",
        "wildlife_df.columns = ['AniMAL*&', 'uniq_id','WATerNeEd']\n",
        "# and if we print the column names right now\n",
        "wildlife_df.columns\n",
        "# okay, now they really need cleaning"
      ],
      "execution_count": null,
      "outputs": [
        {
          "output_type": "execute_result",
          "data": {
            "text/plain": [
              "Index(['AniMAL*&', 'uniq_id', 'WATerNeEd'], dtype='object')"
            ]
          },
          "metadata": {
            "tags": []
          },
          "execution_count": 10
        }
      ]
    },
    {
      "cell_type": "code",
      "metadata": {
        "id": "FgHlz78tsfj0",
        "colab": {
          "base_uri": "https://localhost:8080/",
          "height": 762
        },
        "outputId": "dd9f51d8-8ee0-40b0-99d4-690e77221e85"
      },
      "source": [
        "# One way of cleaning it is the same as reassign the list \n",
        "# to the columns attribute, like what I did above\n",
        "wildlife_df.columns = ['animal', 'water_need']\n",
        "# TODO: can you do the cleaning in a different way? (hint: look at lecture slides)\n",
        "wildlife_df"
      ],
      "execution_count": null,
      "outputs": [
        {
          "output_type": "execute_result",
          "data": {
            "text/html": [
              "<div>\n",
              "<style scoped>\n",
              "    .dataframe tbody tr th:only-of-type {\n",
              "        vertical-align: middle;\n",
              "    }\n",
              "\n",
              "    .dataframe tbody tr th {\n",
              "        vertical-align: top;\n",
              "    }\n",
              "\n",
              "    .dataframe thead th {\n",
              "        text-align: right;\n",
              "    }\n",
              "</style>\n",
              "<table border=\"1\" class=\"dataframe\">\n",
              "  <thead>\n",
              "    <tr style=\"text-align: right;\">\n",
              "      <th></th>\n",
              "      <th>animal</th>\n",
              "      <th>water_need</th>\n",
              "    </tr>\n",
              "    <tr>\n",
              "      <th>uniq_id</th>\n",
              "      <th></th>\n",
              "      <th></th>\n",
              "    </tr>\n",
              "  </thead>\n",
              "  <tbody>\n",
              "    <tr>\n",
              "      <th>1001</th>\n",
              "      <td>elephant</td>\n",
              "      <td>500</td>\n",
              "    </tr>\n",
              "    <tr>\n",
              "      <th>1002</th>\n",
              "      <td>elephant</td>\n",
              "      <td>600</td>\n",
              "    </tr>\n",
              "    <tr>\n",
              "      <th>1003</th>\n",
              "      <td>elephant</td>\n",
              "      <td>550</td>\n",
              "    </tr>\n",
              "    <tr>\n",
              "      <th>1004</th>\n",
              "      <td>tiger</td>\n",
              "      <td>300</td>\n",
              "    </tr>\n",
              "    <tr>\n",
              "      <th>1005</th>\n",
              "      <td>tiger</td>\n",
              "      <td>320</td>\n",
              "    </tr>\n",
              "    <tr>\n",
              "      <th>1006</th>\n",
              "      <td>tiger</td>\n",
              "      <td>330</td>\n",
              "    </tr>\n",
              "    <tr>\n",
              "      <th>1007</th>\n",
              "      <td>tiger</td>\n",
              "      <td>290</td>\n",
              "    </tr>\n",
              "    <tr>\n",
              "      <th>1008</th>\n",
              "      <td>tiger</td>\n",
              "      <td>310</td>\n",
              "    </tr>\n",
              "    <tr>\n",
              "      <th>1009</th>\n",
              "      <td>zebra</td>\n",
              "      <td>200</td>\n",
              "    </tr>\n",
              "    <tr>\n",
              "      <th>1010</th>\n",
              "      <td>zebra</td>\n",
              "      <td>220</td>\n",
              "    </tr>\n",
              "    <tr>\n",
              "      <th>1011</th>\n",
              "      <td>zebra</td>\n",
              "      <td>240</td>\n",
              "    </tr>\n",
              "    <tr>\n",
              "      <th>1012</th>\n",
              "      <td>zebra</td>\n",
              "      <td>230</td>\n",
              "    </tr>\n",
              "    <tr>\n",
              "      <th>1013</th>\n",
              "      <td>zebra</td>\n",
              "      <td>220</td>\n",
              "    </tr>\n",
              "    <tr>\n",
              "      <th>1014</th>\n",
              "      <td>zebra</td>\n",
              "      <td>100</td>\n",
              "    </tr>\n",
              "    <tr>\n",
              "      <th>1015</th>\n",
              "      <td>zebra</td>\n",
              "      <td>80</td>\n",
              "    </tr>\n",
              "    <tr>\n",
              "      <th>1016</th>\n",
              "      <td>lion</td>\n",
              "      <td>420</td>\n",
              "    </tr>\n",
              "    <tr>\n",
              "      <th>1017</th>\n",
              "      <td>lion</td>\n",
              "      <td>600</td>\n",
              "    </tr>\n",
              "    <tr>\n",
              "      <th>1018</th>\n",
              "      <td>lion</td>\n",
              "      <td>500</td>\n",
              "    </tr>\n",
              "    <tr>\n",
              "      <th>1019</th>\n",
              "      <td>lion</td>\n",
              "      <td>390</td>\n",
              "    </tr>\n",
              "    <tr>\n",
              "      <th>1020</th>\n",
              "      <td>hyppo</td>\n",
              "      <td>410</td>\n",
              "    </tr>\n",
              "    <tr>\n",
              "      <th>1021</th>\n",
              "      <td>hyppo</td>\n",
              "      <td>430</td>\n",
              "    </tr>\n",
              "    <tr>\n",
              "      <th>1022</th>\n",
              "      <td>hyppo</td>\n",
              "      <td>410</td>\n",
              "    </tr>\n",
              "  </tbody>\n",
              "</table>\n",
              "</div>"
            ],
            "text/plain": [
              "           animal  water_need\n",
              "uniq_id                      \n",
              "1001     elephant         500\n",
              "1002     elephant         600\n",
              "1003     elephant         550\n",
              "1004        tiger         300\n",
              "1005        tiger         320\n",
              "1006        tiger         330\n",
              "1007        tiger         290\n",
              "1008        tiger         310\n",
              "1009        zebra         200\n",
              "1010        zebra         220\n",
              "1011        zebra         240\n",
              "1012        zebra         230\n",
              "1013        zebra         220\n",
              "1014        zebra         100\n",
              "1015        zebra          80\n",
              "1016         lion         420\n",
              "1017         lion         600\n",
              "1018         lion         500\n",
              "1019         lion         390\n",
              "1020        hyppo         410\n",
              "1021        hyppo         430\n",
              "1022        hyppo         410"
            ]
          },
          "metadata": {
            "tags": []
          },
          "execution_count": 25
        }
      ]
    },
    {
      "cell_type": "markdown",
      "metadata": {
        "id": "eHfV6oNp7S0b"
      },
      "source": [
        "### Dataframe slicing, selecting, and extracting exercises"
      ]
    },
    {
      "cell_type": "markdown",
      "metadata": {
        "id": "_A4cb2vUvV_n"
      },
      "source": [
        "Extract rows "
      ]
    },
    {
      "cell_type": "code",
      "metadata": {
        "id": "n22B-XUd7hb6"
      },
      "source": [
        "# TODO: extract the row with uniq_id = 1012\n",
        "\n",
        "# TODO: extract the rows starting with the row with uniq_id = 1004 to the row with uniq_id = 1008\n",
        "\n"
      ],
      "execution_count": null,
      "outputs": []
    },
    {
      "cell_type": "code",
      "metadata": {
        "id": "nH0gKQ6cVBww",
        "colab": {
          "base_uri": "https://localhost:8080/",
          "height": 235
        },
        "outputId": "09a44aa7-c5b2-4fc2-845d-8d7a77ce7ca4"
      },
      "source": [
        "#@title Solution (double click to see)\n",
        "#Hidden solution\n",
        "\n",
        "# TODO: extract the row with uniq_id = 1012\n",
        "wildlife_df.loc[1012]\n",
        "# TODO: extract the rows starting with the row with uniq_id = 1004 to the row with uniq_id = 1008\n",
        "wildlife_df.loc[1004:1008]"
      ],
      "execution_count": null,
      "outputs": [
        {
          "output_type": "execute_result",
          "data": {
            "text/html": [
              "<div>\n",
              "<style scoped>\n",
              "    .dataframe tbody tr th:only-of-type {\n",
              "        vertical-align: middle;\n",
              "    }\n",
              "\n",
              "    .dataframe tbody tr th {\n",
              "        vertical-align: top;\n",
              "    }\n",
              "\n",
              "    .dataframe thead th {\n",
              "        text-align: right;\n",
              "    }\n",
              "</style>\n",
              "<table border=\"1\" class=\"dataframe\">\n",
              "  <thead>\n",
              "    <tr style=\"text-align: right;\">\n",
              "      <th></th>\n",
              "      <th>animal</th>\n",
              "      <th>water_need</th>\n",
              "    </tr>\n",
              "    <tr>\n",
              "      <th>uniq_id</th>\n",
              "      <th></th>\n",
              "      <th></th>\n",
              "    </tr>\n",
              "  </thead>\n",
              "  <tbody>\n",
              "    <tr>\n",
              "      <th>1004</th>\n",
              "      <td>tiger</td>\n",
              "      <td>300</td>\n",
              "    </tr>\n",
              "    <tr>\n",
              "      <th>1005</th>\n",
              "      <td>tiger</td>\n",
              "      <td>320</td>\n",
              "    </tr>\n",
              "    <tr>\n",
              "      <th>1006</th>\n",
              "      <td>tiger</td>\n",
              "      <td>330</td>\n",
              "    </tr>\n",
              "    <tr>\n",
              "      <th>1007</th>\n",
              "      <td>tiger</td>\n",
              "      <td>290</td>\n",
              "    </tr>\n",
              "    <tr>\n",
              "      <th>1008</th>\n",
              "      <td>tiger</td>\n",
              "      <td>310</td>\n",
              "    </tr>\n",
              "  </tbody>\n",
              "</table>\n",
              "</div>"
            ],
            "text/plain": [
              "        animal  water_need\n",
              "uniq_id                   \n",
              "1004     tiger         300\n",
              "1005     tiger         320\n",
              "1006     tiger         330\n",
              "1007     tiger         290\n",
              "1008     tiger         310"
            ]
          },
          "metadata": {
            "tags": []
          },
          "execution_count": 26
        }
      ]
    },
    {
      "cell_type": "markdown",
      "metadata": {
        "id": "22kR34-TvZS4"
      },
      "source": [
        "Extract columns"
      ]
    },
    {
      "cell_type": "code",
      "metadata": {
        "id": "YB4-wKTsvbXW"
      },
      "source": [
        "# TODO: extract the animal column\n",
        "\n",
        "# TODO: extract the columns animal and water_need\n",
        "\n",
        "# Bonus: can you find a way to extract the index as a column? \n",
        "# (hint: look up the reset_index method)\n",
        "# Note: don't use inplace = True, in other words, don't modify the wildlife_df dataframe\n",
        "\n"
      ],
      "execution_count": null,
      "outputs": []
    },
    {
      "cell_type": "code",
      "metadata": {
        "id": "7JzSi9e5Xbou",
        "colab": {
          "base_uri": "https://localhost:8080/"
        },
        "outputId": "2b55b97e-4aaf-4a6a-82f2-204d33d76ac6"
      },
      "source": [
        "#@title Solution (double click to see)\n",
        "# Hidden solution\n",
        "# TODO: extract the animal column\n",
        "wildlife_df['animal']\n",
        "# TODO: extract the columns animal and water_need\n",
        "wildlife_df[['animal', 'water_need']]\n",
        "# Bonus: can you find a way to extract the index as a column? (hint: look up the reset_index method) \n",
        "wildlife_2 = wildlife_df.reset_index()\n",
        "wildlife_2['uniq_id']\n"
      ],
      "execution_count": null,
      "outputs": [
        {
          "output_type": "execute_result",
          "data": {
            "text/plain": [
              "0     1001\n",
              "1     1002\n",
              "2     1003\n",
              "3     1004\n",
              "4     1005\n",
              "5     1006\n",
              "6     1007\n",
              "7     1008\n",
              "8     1009\n",
              "9     1010\n",
              "10    1011\n",
              "11    1012\n",
              "12    1013\n",
              "13    1014\n",
              "14    1015\n",
              "15    1016\n",
              "16    1017\n",
              "17    1018\n",
              "18    1019\n",
              "19    1020\n",
              "20    1021\n",
              "21    1022\n",
              "Name: uniq_id, dtype: int64"
            ]
          },
          "metadata": {
            "tags": []
          },
          "execution_count": 27
        }
      ]
    },
    {
      "cell_type": "markdown",
      "metadata": {
        "id": "8iteasynwcva"
      },
      "source": [
        "Conditional selection"
      ]
    },
    {
      "cell_type": "code",
      "metadata": {
        "id": "Wq3uDLUtwfMo"
      },
      "source": [
        "# TODO: find out which of the tigers or zebras has water_need less than 300 but more than 200\n"
      ],
      "execution_count": null,
      "outputs": []
    },
    {
      "cell_type": "code",
      "metadata": {
        "id": "H40AYs6HcPnn",
        "colab": {
          "base_uri": "https://localhost:8080/",
          "height": 235
        },
        "outputId": "bd8d8dfb-30d8-41d6-b7fc-56defaa62157"
      },
      "source": [
        "#@title Solution (double click to see)\n",
        "# Hidden solution\n",
        "# TODO: find out which of the tigers or zebras has water_need less than 300 but more than 200\n",
        "wildlife_df[(wildlife_df['water_need'] < 300) & (wildlife_df['water_need'] > 200)]"
      ],
      "execution_count": null,
      "outputs": [
        {
          "output_type": "execute_result",
          "data": {
            "text/html": [
              "<div>\n",
              "<style scoped>\n",
              "    .dataframe tbody tr th:only-of-type {\n",
              "        vertical-align: middle;\n",
              "    }\n",
              "\n",
              "    .dataframe tbody tr th {\n",
              "        vertical-align: top;\n",
              "    }\n",
              "\n",
              "    .dataframe thead th {\n",
              "        text-align: right;\n",
              "    }\n",
              "</style>\n",
              "<table border=\"1\" class=\"dataframe\">\n",
              "  <thead>\n",
              "    <tr style=\"text-align: right;\">\n",
              "      <th></th>\n",
              "      <th>animal</th>\n",
              "      <th>water_need</th>\n",
              "    </tr>\n",
              "    <tr>\n",
              "      <th>uniq_id</th>\n",
              "      <th></th>\n",
              "      <th></th>\n",
              "    </tr>\n",
              "  </thead>\n",
              "  <tbody>\n",
              "    <tr>\n",
              "      <th>1007</th>\n",
              "      <td>tiger</td>\n",
              "      <td>290</td>\n",
              "    </tr>\n",
              "    <tr>\n",
              "      <th>1010</th>\n",
              "      <td>zebra</td>\n",
              "      <td>220</td>\n",
              "    </tr>\n",
              "    <tr>\n",
              "      <th>1011</th>\n",
              "      <td>zebra</td>\n",
              "      <td>240</td>\n",
              "    </tr>\n",
              "    <tr>\n",
              "      <th>1012</th>\n",
              "      <td>zebra</td>\n",
              "      <td>230</td>\n",
              "    </tr>\n",
              "    <tr>\n",
              "      <th>1013</th>\n",
              "      <td>zebra</td>\n",
              "      <td>220</td>\n",
              "    </tr>\n",
              "  </tbody>\n",
              "</table>\n",
              "</div>"
            ],
            "text/plain": [
              "        animal  water_need\n",
              "uniq_id                   \n",
              "1007     tiger         290\n",
              "1010     zebra         220\n",
              "1011     zebra         240\n",
              "1012     zebra         230\n",
              "1013     zebra         220"
            ]
          },
          "metadata": {
            "tags": []
          },
          "execution_count": 28
        }
      ]
    },
    {
      "cell_type": "markdown",
      "metadata": {
        "id": "QfppYkpr7xx-"
      },
      "source": [
        "# Applying functions\n",
        "\n",
        "It is possible to iterate over a DataFrame or Series as you would with a list, but doing so is slow and inefficient.\n",
        "\n",
        "An good alternative is to apply() a function to the dataset. For example, we could use a function to convert animals with water_need less than 200 to a string value of \"low\", animals with water_need more and equal to 200 but less than 400 to a string value of \"mid\", and the rest to \"high\" and use this transformed values to create a new column."
      ]
    },
    {
      "cell_type": "markdown",
      "metadata": {
        "id": "r4KmlO66yMEL"
      },
      "source": [
        "First we would create a function that, when given a water_need, determines if it's low, mid, or high:"
      ]
    },
    {
      "cell_type": "code",
      "metadata": {
        "id": "m2kfbA_00TMW"
      },
      "source": [
        "def water_need_to_category (water_need):\n",
        "  if water_need < 200:\n",
        "    return \"low\"\n",
        "  elif 200 <= water_need < 400:\n",
        "    return \"mid\"\n",
        "  else:\n",
        "    return \"high\"   \n"
      ],
      "execution_count": null,
      "outputs": []
    },
    {
      "cell_type": "markdown",
      "metadata": {
        "id": "PIQDpMbU032F"
      },
      "source": [
        "Now we want to send the entire water_need column through this function, which is what apply() does:"
      ]
    },
    {
      "cell_type": "code",
      "metadata": {
        "id": "hYvMZTsO07x9",
        "colab": {
          "base_uri": "https://localhost:8080/",
          "height": 235
        },
        "outputId": "a66deaee-58ea-49d3-b6c0-71ee7cf04994"
      },
      "source": [
        "wildlife_df['water_need_category'] = wildlife_df['water_need'].apply(water_need_to_category)\n",
        "# it's always a good idea to view the dataframe after we make any changes to it\n",
        "wildlife_df.head()"
      ],
      "execution_count": null,
      "outputs": [
        {
          "output_type": "execute_result",
          "data": {
            "text/html": [
              "<div>\n",
              "<style scoped>\n",
              "    .dataframe tbody tr th:only-of-type {\n",
              "        vertical-align: middle;\n",
              "    }\n",
              "\n",
              "    .dataframe tbody tr th {\n",
              "        vertical-align: top;\n",
              "    }\n",
              "\n",
              "    .dataframe thead th {\n",
              "        text-align: right;\n",
              "    }\n",
              "</style>\n",
              "<table border=\"1\" class=\"dataframe\">\n",
              "  <thead>\n",
              "    <tr style=\"text-align: right;\">\n",
              "      <th></th>\n",
              "      <th>animal</th>\n",
              "      <th>water_need</th>\n",
              "      <th>water_need_category</th>\n",
              "    </tr>\n",
              "    <tr>\n",
              "      <th>uniq_id</th>\n",
              "      <th></th>\n",
              "      <th></th>\n",
              "      <th></th>\n",
              "    </tr>\n",
              "  </thead>\n",
              "  <tbody>\n",
              "    <tr>\n",
              "      <th>1001</th>\n",
              "      <td>elephant</td>\n",
              "      <td>500</td>\n",
              "      <td>high</td>\n",
              "    </tr>\n",
              "    <tr>\n",
              "      <th>1002</th>\n",
              "      <td>elephant</td>\n",
              "      <td>600</td>\n",
              "      <td>high</td>\n",
              "    </tr>\n",
              "    <tr>\n",
              "      <th>1003</th>\n",
              "      <td>elephant</td>\n",
              "      <td>550</td>\n",
              "      <td>high</td>\n",
              "    </tr>\n",
              "    <tr>\n",
              "      <th>1004</th>\n",
              "      <td>tiger</td>\n",
              "      <td>300</td>\n",
              "      <td>mid</td>\n",
              "    </tr>\n",
              "    <tr>\n",
              "      <th>1005</th>\n",
              "      <td>tiger</td>\n",
              "      <td>320</td>\n",
              "      <td>mid</td>\n",
              "    </tr>\n",
              "  </tbody>\n",
              "</table>\n",
              "</div>"
            ],
            "text/plain": [
              "           animal  water_need water_need_category\n",
              "uniq_id                                          \n",
              "1001     elephant         500                high\n",
              "1002     elephant         600                high\n",
              "1003     elephant         550                high\n",
              "1004        tiger         300                 mid\n",
              "1005        tiger         320                 mid"
            ]
          },
          "metadata": {
            "tags": []
          },
          "execution_count": 31
        }
      ]
    },
    {
      "cell_type": "markdown",
      "metadata": {
        "id": "WcuDUWgr2E-4"
      },
      "source": [
        "The .apply() method looks at every value in the water_need column through the water_need_to_category function and then returns a new Series. This Series is then assigned to a new column called water_need_category.\n",
        "\n",
        "You can also use anonymous functions as well. This lambda function achieves the same result:\n",
        "\n"
      ]
    },
    {
      "cell_type": "code",
      "metadata": {
        "id": "MOp6_6Dy2Y7J",
        "colab": {
          "base_uri": "https://localhost:8080/",
          "height": 235
        },
        "outputId": "aa32ec9e-e345-496d-c39d-fc5fa73f089a"
      },
      "source": [
        "wildlife_df[\"water_need_category\"] = wildlife_df[\"water_need\"].apply(lambda x: 'low' if x < 200 else ('mid' if 200 <= x < 400 else 'high'))\n",
        "# now let's view our dataframe again\n",
        "# it should look exactly the same as after we applied the water_need_to_category function\n",
        "wildlife_df.head()\n",
        "# a good link if you want to learn more about lambda functions: https://www.programiz.com/python-programming/anonymous-function"
      ],
      "execution_count": null,
      "outputs": [
        {
          "output_type": "execute_result",
          "data": {
            "text/html": [
              "<div>\n",
              "<style scoped>\n",
              "    .dataframe tbody tr th:only-of-type {\n",
              "        vertical-align: middle;\n",
              "    }\n",
              "\n",
              "    .dataframe tbody tr th {\n",
              "        vertical-align: top;\n",
              "    }\n",
              "\n",
              "    .dataframe thead th {\n",
              "        text-align: right;\n",
              "    }\n",
              "</style>\n",
              "<table border=\"1\" class=\"dataframe\">\n",
              "  <thead>\n",
              "    <tr style=\"text-align: right;\">\n",
              "      <th></th>\n",
              "      <th>animal</th>\n",
              "      <th>water_need</th>\n",
              "      <th>water_need_category</th>\n",
              "    </tr>\n",
              "    <tr>\n",
              "      <th>uniq_id</th>\n",
              "      <th></th>\n",
              "      <th></th>\n",
              "      <th></th>\n",
              "    </tr>\n",
              "  </thead>\n",
              "  <tbody>\n",
              "    <tr>\n",
              "      <th>1001</th>\n",
              "      <td>elephant</td>\n",
              "      <td>500</td>\n",
              "      <td>high</td>\n",
              "    </tr>\n",
              "    <tr>\n",
              "      <th>1002</th>\n",
              "      <td>elephant</td>\n",
              "      <td>600</td>\n",
              "      <td>high</td>\n",
              "    </tr>\n",
              "    <tr>\n",
              "      <th>1003</th>\n",
              "      <td>elephant</td>\n",
              "      <td>550</td>\n",
              "      <td>high</td>\n",
              "    </tr>\n",
              "    <tr>\n",
              "      <th>1004</th>\n",
              "      <td>tiger</td>\n",
              "      <td>300</td>\n",
              "      <td>mid</td>\n",
              "    </tr>\n",
              "    <tr>\n",
              "      <th>1005</th>\n",
              "      <td>tiger</td>\n",
              "      <td>320</td>\n",
              "      <td>mid</td>\n",
              "    </tr>\n",
              "  </tbody>\n",
              "</table>\n",
              "</div>"
            ],
            "text/plain": [
              "           animal  water_need water_need_category\n",
              "uniq_id                                          \n",
              "1001     elephant         500                high\n",
              "1002     elephant         600                high\n",
              "1003     elephant         550                high\n",
              "1004        tiger         300                 mid\n",
              "1005        tiger         320                 mid"
            ]
          },
          "metadata": {
            "tags": []
          },
          "execution_count": 32
        }
      ]
    },
    {
      "cell_type": "markdown",
      "metadata": {
        "id": "nQZ3CC-14HeK"
      },
      "source": [
        "## Exercise time!\n",
        "\n",
        "**Your task:** add a new column (you can name it)  to the wildlife_df dataframe that\n",
        "records how much higher each animal's water_need is than the average\n",
        "water-need."
      ]
    },
    {
      "cell_type": "code",
      "metadata": {
        "id": "GAxHHqiD4OGr"
      },
      "source": [
        "#TODO: find the average/mean water_need (hint: extract the column) (hint: mean method)\n",
        "\n",
        "#TODO: create the function that you want to apply (if you're using lambda function then you don't need this step)\n",
        "\n",
        "#TODO: apply the function \n",
        "\n",
        "#TODO: view the dataframe and check"
      ],
      "execution_count": null,
      "outputs": []
    },
    {
      "cell_type": "code",
      "metadata": {
        "id": "wMDFCW5hOnK5",
        "colab": {
          "base_uri": "https://localhost:8080/",
          "height": 235
        },
        "outputId": "4942c01d-6e25-49ed-cfed-71829229af27"
      },
      "source": [
        "#@title Solution (double click to see)\n",
        "# Hidden solution \n",
        "# Find the mean water_need\n",
        "mean = wildlife_df['water_need'].mean()\n",
        "# create the function that we want to apply\n",
        "def diff_from_mean (water_need):\n",
        "  return water_need - mean\n",
        "# apply the function\n",
        "wildlife_df['diff_from_mean'] = wildlife_df['water_need'].apply(diff_from_mean)\n",
        "# view the dataframe and check\n",
        "wildlife_df.tail()"
      ],
      "execution_count": null,
      "outputs": [
        {
          "output_type": "execute_result",
          "data": {
            "text/html": [
              "<div>\n",
              "<style scoped>\n",
              "    .dataframe tbody tr th:only-of-type {\n",
              "        vertical-align: middle;\n",
              "    }\n",
              "\n",
              "    .dataframe tbody tr th {\n",
              "        vertical-align: top;\n",
              "    }\n",
              "\n",
              "    .dataframe thead th {\n",
              "        text-align: right;\n",
              "    }\n",
              "</style>\n",
              "<table border=\"1\" class=\"dataframe\">\n",
              "  <thead>\n",
              "    <tr style=\"text-align: right;\">\n",
              "      <th></th>\n",
              "      <th>animal</th>\n",
              "      <th>water_need</th>\n",
              "      <th>water_need_category</th>\n",
              "      <th>diff_from_mean</th>\n",
              "    </tr>\n",
              "    <tr>\n",
              "      <th>uniq_id</th>\n",
              "      <th></th>\n",
              "      <th></th>\n",
              "      <th></th>\n",
              "      <th></th>\n",
              "    </tr>\n",
              "  </thead>\n",
              "  <tbody>\n",
              "    <tr>\n",
              "      <th>1018</th>\n",
              "      <td>lion</td>\n",
              "      <td>500</td>\n",
              "      <td>high</td>\n",
              "      <td>152.272727</td>\n",
              "    </tr>\n",
              "    <tr>\n",
              "      <th>1019</th>\n",
              "      <td>lion</td>\n",
              "      <td>390</td>\n",
              "      <td>mid</td>\n",
              "      <td>42.272727</td>\n",
              "    </tr>\n",
              "    <tr>\n",
              "      <th>1020</th>\n",
              "      <td>hyppo</td>\n",
              "      <td>410</td>\n",
              "      <td>high</td>\n",
              "      <td>62.272727</td>\n",
              "    </tr>\n",
              "    <tr>\n",
              "      <th>1021</th>\n",
              "      <td>hyppo</td>\n",
              "      <td>430</td>\n",
              "      <td>high</td>\n",
              "      <td>82.272727</td>\n",
              "    </tr>\n",
              "    <tr>\n",
              "      <th>1022</th>\n",
              "      <td>hyppo</td>\n",
              "      <td>410</td>\n",
              "      <td>high</td>\n",
              "      <td>62.272727</td>\n",
              "    </tr>\n",
              "  </tbody>\n",
              "</table>\n",
              "</div>"
            ],
            "text/plain": [
              "        animal  water_need water_need_category  diff_from_mean\n",
              "uniq_id                                                       \n",
              "1018      lion         500                high      152.272727\n",
              "1019      lion         390                 mid       42.272727\n",
              "1020     hyppo         410                high       62.272727\n",
              "1021     hyppo         430                high       82.272727\n",
              "1022     hyppo         410                high       62.272727"
            ]
          },
          "metadata": {
            "tags": []
          },
          "execution_count": 33
        }
      ]
    },
    {
      "cell_type": "markdown",
      "metadata": {
        "id": "bQBmK6WG76c3"
      },
      "source": [
        "# Concatenating, Merging, and Joining DataFrames\n"
      ]
    },
    {
      "cell_type": "markdown",
      "metadata": {
        "id": "Jzl5sWC63-9n"
      },
      "source": [
        "## Concatenating\n",
        "\n",
        "Concatenation combines dataFrames in a sequential manner. For example, concatenating two dataframes 'adds' one to the bottom of the other. When concatenating, keep in mind that dimensions should match along the axis you are concatenating. "
      ]
    },
    {
      "cell_type": "code",
      "metadata": {
        "id": "N_wZBVuIXPOK"
      },
      "source": [
        "# dataframe 1\n",
        "df1 = pd.DataFrame({'A': ['A0', 'A1', 'A2', 'A3'],\n",
        "                        'B': ['B0', 'B1', 'B2', 'B3'],\n",
        "                        'C': ['C0', 'C1', 'C2', 'C3'],\n",
        "                        'D': ['D0', 'D1', 'D2', 'D3']},\n",
        "                        index=[0, 1, 2, 3])\n",
        "# dataframe 2\n",
        "df2 = pd.DataFrame({'A': ['A4', 'A5', 'A6', 'A7'],\n",
        "                        'B': ['B4', 'B5', 'B6', 'B7'],\n",
        "                        'C': ['C4', 'C5', 'C6', 'C7'],\n",
        "                        'D': ['D4', 'D5', 'D6', 'D7']},\n",
        "                         index=[4, 5, 6, 7]) \n",
        "# dataframe 3\n",
        "df3 = pd.DataFrame({'A': ['A8', 'A9', 'A10', 'A11'],\n",
        "                        'B': ['B8', 'B9', 'B10', 'B11'],\n",
        "                        'C': ['C8', 'C9', 'C10', 'C11'],\n",
        "                        'D': ['D8', 'D9', 'D10', 'D11']},\n",
        "                        index=[8, 9, 10, 11])\n"
      ],
      "execution_count": null,
      "outputs": []
    },
    {
      "cell_type": "markdown",
      "metadata": {
        "id": "seysG2s4XeZk"
      },
      "source": [
        "We can concatenate them using the pd.concat() method."
      ]
    },
    {
      "cell_type": "code",
      "metadata": {
        "id": "8d3EB91QXksu",
        "colab": {
          "base_uri": "https://localhost:8080/",
          "height": 421
        },
        "outputId": "5d60405f-e75f-46af-f37d-ccecd6265982"
      },
      "source": [
        "# play around with this (try different combinations)\n",
        "pd.concat([df1, df2, df3])"
      ],
      "execution_count": null,
      "outputs": [
        {
          "output_type": "execute_result",
          "data": {
            "text/html": [
              "<div>\n",
              "<style scoped>\n",
              "    .dataframe tbody tr th:only-of-type {\n",
              "        vertical-align: middle;\n",
              "    }\n",
              "\n",
              "    .dataframe tbody tr th {\n",
              "        vertical-align: top;\n",
              "    }\n",
              "\n",
              "    .dataframe thead th {\n",
              "        text-align: right;\n",
              "    }\n",
              "</style>\n",
              "<table border=\"1\" class=\"dataframe\">\n",
              "  <thead>\n",
              "    <tr style=\"text-align: right;\">\n",
              "      <th></th>\n",
              "      <th>A</th>\n",
              "      <th>B</th>\n",
              "      <th>C</th>\n",
              "      <th>D</th>\n",
              "    </tr>\n",
              "  </thead>\n",
              "  <tbody>\n",
              "    <tr>\n",
              "      <th>0</th>\n",
              "      <td>A0</td>\n",
              "      <td>B0</td>\n",
              "      <td>C0</td>\n",
              "      <td>D0</td>\n",
              "    </tr>\n",
              "    <tr>\n",
              "      <th>1</th>\n",
              "      <td>A1</td>\n",
              "      <td>B1</td>\n",
              "      <td>C1</td>\n",
              "      <td>D1</td>\n",
              "    </tr>\n",
              "    <tr>\n",
              "      <th>2</th>\n",
              "      <td>A2</td>\n",
              "      <td>B2</td>\n",
              "      <td>C2</td>\n",
              "      <td>D2</td>\n",
              "    </tr>\n",
              "    <tr>\n",
              "      <th>3</th>\n",
              "      <td>A3</td>\n",
              "      <td>B3</td>\n",
              "      <td>C3</td>\n",
              "      <td>D3</td>\n",
              "    </tr>\n",
              "    <tr>\n",
              "      <th>4</th>\n",
              "      <td>A4</td>\n",
              "      <td>B4</td>\n",
              "      <td>C4</td>\n",
              "      <td>D4</td>\n",
              "    </tr>\n",
              "    <tr>\n",
              "      <th>5</th>\n",
              "      <td>A5</td>\n",
              "      <td>B5</td>\n",
              "      <td>C5</td>\n",
              "      <td>D5</td>\n",
              "    </tr>\n",
              "    <tr>\n",
              "      <th>6</th>\n",
              "      <td>A6</td>\n",
              "      <td>B6</td>\n",
              "      <td>C6</td>\n",
              "      <td>D6</td>\n",
              "    </tr>\n",
              "    <tr>\n",
              "      <th>7</th>\n",
              "      <td>A7</td>\n",
              "      <td>B7</td>\n",
              "      <td>C7</td>\n",
              "      <td>D7</td>\n",
              "    </tr>\n",
              "    <tr>\n",
              "      <th>8</th>\n",
              "      <td>A8</td>\n",
              "      <td>B8</td>\n",
              "      <td>C8</td>\n",
              "      <td>D8</td>\n",
              "    </tr>\n",
              "    <tr>\n",
              "      <th>9</th>\n",
              "      <td>A9</td>\n",
              "      <td>B9</td>\n",
              "      <td>C9</td>\n",
              "      <td>D9</td>\n",
              "    </tr>\n",
              "    <tr>\n",
              "      <th>10</th>\n",
              "      <td>A10</td>\n",
              "      <td>B10</td>\n",
              "      <td>C10</td>\n",
              "      <td>D10</td>\n",
              "    </tr>\n",
              "    <tr>\n",
              "      <th>11</th>\n",
              "      <td>A11</td>\n",
              "      <td>B11</td>\n",
              "      <td>C11</td>\n",
              "      <td>D11</td>\n",
              "    </tr>\n",
              "  </tbody>\n",
              "</table>\n",
              "</div>"
            ],
            "text/plain": [
              "      A    B    C    D\n",
              "0    A0   B0   C0   D0\n",
              "1    A1   B1   C1   D1\n",
              "2    A2   B2   C2   D2\n",
              "3    A3   B3   C3   D3\n",
              "4    A4   B4   C4   D4\n",
              "5    A5   B5   C5   D5\n",
              "6    A6   B6   C6   D6\n",
              "7    A7   B7   C7   D7\n",
              "8    A8   B8   C8   D8\n",
              "9    A9   B9   C9   D9\n",
              "10  A10  B10  C10  D10\n",
              "11  A11  B11  C11  D11"
            ]
          },
          "metadata": {
            "tags": []
          },
          "execution_count": 40
        }
      ]
    },
    {
      "cell_type": "markdown",
      "metadata": {
        "id": "A_kbDGFRY5FM"
      },
      "source": [
        "We didn't specify the axis on which we want the concatenation to occur on so Pandas uses the row axis, by default. It joins the rows of df1 to df2 and to df3\n",
        "as you can see above. The order matters - if we have df2, df1, df3, then the \n",
        "concatenating will be performed in that specific order. \n",
        "\n",
        "Now, if we want to concatenate the columns of the dataframes instead of rows,\n",
        "we need to set the axis = 1."
      ]
    },
    {
      "cell_type": "code",
      "metadata": {
        "id": "0ZP5zHZWaLli",
        "colab": {
          "base_uri": "https://localhost:8080/",
          "height": 421
        },
        "outputId": "cb65637f-02ed-437e-ae51-947ff2f8cde2"
      },
      "source": [
        "# concatenate on the column axis\n",
        "# remember that axis = 1 is for columns because columns is in index 1 in the tuple that represents the shape of a dataframe\n",
        "pd.concat([df1, df2, df3], axis = 1)"
      ],
      "execution_count": null,
      "outputs": [
        {
          "output_type": "execute_result",
          "data": {
            "text/html": [
              "<div>\n",
              "<style scoped>\n",
              "    .dataframe tbody tr th:only-of-type {\n",
              "        vertical-align: middle;\n",
              "    }\n",
              "\n",
              "    .dataframe tbody tr th {\n",
              "        vertical-align: top;\n",
              "    }\n",
              "\n",
              "    .dataframe thead th {\n",
              "        text-align: right;\n",
              "    }\n",
              "</style>\n",
              "<table border=\"1\" class=\"dataframe\">\n",
              "  <thead>\n",
              "    <tr style=\"text-align: right;\">\n",
              "      <th></th>\n",
              "      <th>A</th>\n",
              "      <th>B</th>\n",
              "      <th>C</th>\n",
              "      <th>D</th>\n",
              "      <th>A</th>\n",
              "      <th>B</th>\n",
              "      <th>C</th>\n",
              "      <th>D</th>\n",
              "      <th>A</th>\n",
              "      <th>B</th>\n",
              "      <th>C</th>\n",
              "      <th>D</th>\n",
              "    </tr>\n",
              "  </thead>\n",
              "  <tbody>\n",
              "    <tr>\n",
              "      <th>0</th>\n",
              "      <td>A0</td>\n",
              "      <td>B0</td>\n",
              "      <td>C0</td>\n",
              "      <td>D0</td>\n",
              "      <td>NaN</td>\n",
              "      <td>NaN</td>\n",
              "      <td>NaN</td>\n",
              "      <td>NaN</td>\n",
              "      <td>NaN</td>\n",
              "      <td>NaN</td>\n",
              "      <td>NaN</td>\n",
              "      <td>NaN</td>\n",
              "    </tr>\n",
              "    <tr>\n",
              "      <th>1</th>\n",
              "      <td>A1</td>\n",
              "      <td>B1</td>\n",
              "      <td>C1</td>\n",
              "      <td>D1</td>\n",
              "      <td>NaN</td>\n",
              "      <td>NaN</td>\n",
              "      <td>NaN</td>\n",
              "      <td>NaN</td>\n",
              "      <td>NaN</td>\n",
              "      <td>NaN</td>\n",
              "      <td>NaN</td>\n",
              "      <td>NaN</td>\n",
              "    </tr>\n",
              "    <tr>\n",
              "      <th>2</th>\n",
              "      <td>A2</td>\n",
              "      <td>B2</td>\n",
              "      <td>C2</td>\n",
              "      <td>D2</td>\n",
              "      <td>NaN</td>\n",
              "      <td>NaN</td>\n",
              "      <td>NaN</td>\n",
              "      <td>NaN</td>\n",
              "      <td>NaN</td>\n",
              "      <td>NaN</td>\n",
              "      <td>NaN</td>\n",
              "      <td>NaN</td>\n",
              "    </tr>\n",
              "    <tr>\n",
              "      <th>3</th>\n",
              "      <td>A3</td>\n",
              "      <td>B3</td>\n",
              "      <td>C3</td>\n",
              "      <td>D3</td>\n",
              "      <td>NaN</td>\n",
              "      <td>NaN</td>\n",
              "      <td>NaN</td>\n",
              "      <td>NaN</td>\n",
              "      <td>NaN</td>\n",
              "      <td>NaN</td>\n",
              "      <td>NaN</td>\n",
              "      <td>NaN</td>\n",
              "    </tr>\n",
              "    <tr>\n",
              "      <th>4</th>\n",
              "      <td>NaN</td>\n",
              "      <td>NaN</td>\n",
              "      <td>NaN</td>\n",
              "      <td>NaN</td>\n",
              "      <td>A4</td>\n",
              "      <td>B4</td>\n",
              "      <td>C4</td>\n",
              "      <td>D4</td>\n",
              "      <td>NaN</td>\n",
              "      <td>NaN</td>\n",
              "      <td>NaN</td>\n",
              "      <td>NaN</td>\n",
              "    </tr>\n",
              "    <tr>\n",
              "      <th>5</th>\n",
              "      <td>NaN</td>\n",
              "      <td>NaN</td>\n",
              "      <td>NaN</td>\n",
              "      <td>NaN</td>\n",
              "      <td>A5</td>\n",
              "      <td>B5</td>\n",
              "      <td>C5</td>\n",
              "      <td>D5</td>\n",
              "      <td>NaN</td>\n",
              "      <td>NaN</td>\n",
              "      <td>NaN</td>\n",
              "      <td>NaN</td>\n",
              "    </tr>\n",
              "    <tr>\n",
              "      <th>6</th>\n",
              "      <td>NaN</td>\n",
              "      <td>NaN</td>\n",
              "      <td>NaN</td>\n",
              "      <td>NaN</td>\n",
              "      <td>A6</td>\n",
              "      <td>B6</td>\n",
              "      <td>C6</td>\n",
              "      <td>D6</td>\n",
              "      <td>NaN</td>\n",
              "      <td>NaN</td>\n",
              "      <td>NaN</td>\n",
              "      <td>NaN</td>\n",
              "    </tr>\n",
              "    <tr>\n",
              "      <th>7</th>\n",
              "      <td>NaN</td>\n",
              "      <td>NaN</td>\n",
              "      <td>NaN</td>\n",
              "      <td>NaN</td>\n",
              "      <td>A7</td>\n",
              "      <td>B7</td>\n",
              "      <td>C7</td>\n",
              "      <td>D7</td>\n",
              "      <td>NaN</td>\n",
              "      <td>NaN</td>\n",
              "      <td>NaN</td>\n",
              "      <td>NaN</td>\n",
              "    </tr>\n",
              "    <tr>\n",
              "      <th>8</th>\n",
              "      <td>NaN</td>\n",
              "      <td>NaN</td>\n",
              "      <td>NaN</td>\n",
              "      <td>NaN</td>\n",
              "      <td>NaN</td>\n",
              "      <td>NaN</td>\n",
              "      <td>NaN</td>\n",
              "      <td>NaN</td>\n",
              "      <td>A8</td>\n",
              "      <td>B8</td>\n",
              "      <td>C8</td>\n",
              "      <td>D8</td>\n",
              "    </tr>\n",
              "    <tr>\n",
              "      <th>9</th>\n",
              "      <td>NaN</td>\n",
              "      <td>NaN</td>\n",
              "      <td>NaN</td>\n",
              "      <td>NaN</td>\n",
              "      <td>NaN</td>\n",
              "      <td>NaN</td>\n",
              "      <td>NaN</td>\n",
              "      <td>NaN</td>\n",
              "      <td>A9</td>\n",
              "      <td>B9</td>\n",
              "      <td>C9</td>\n",
              "      <td>D9</td>\n",
              "    </tr>\n",
              "    <tr>\n",
              "      <th>10</th>\n",
              "      <td>NaN</td>\n",
              "      <td>NaN</td>\n",
              "      <td>NaN</td>\n",
              "      <td>NaN</td>\n",
              "      <td>NaN</td>\n",
              "      <td>NaN</td>\n",
              "      <td>NaN</td>\n",
              "      <td>NaN</td>\n",
              "      <td>A10</td>\n",
              "      <td>B10</td>\n",
              "      <td>C10</td>\n",
              "      <td>D10</td>\n",
              "    </tr>\n",
              "    <tr>\n",
              "      <th>11</th>\n",
              "      <td>NaN</td>\n",
              "      <td>NaN</td>\n",
              "      <td>NaN</td>\n",
              "      <td>NaN</td>\n",
              "      <td>NaN</td>\n",
              "      <td>NaN</td>\n",
              "      <td>NaN</td>\n",
              "      <td>NaN</td>\n",
              "      <td>A11</td>\n",
              "      <td>B11</td>\n",
              "      <td>C11</td>\n",
              "      <td>D11</td>\n",
              "    </tr>\n",
              "  </tbody>\n",
              "</table>\n",
              "</div>"
            ],
            "text/plain": [
              "      A    B    C    D    A    B    C    D    A    B    C    D\n",
              "0    A0   B0   C0   D0  NaN  NaN  NaN  NaN  NaN  NaN  NaN  NaN\n",
              "1    A1   B1   C1   D1  NaN  NaN  NaN  NaN  NaN  NaN  NaN  NaN\n",
              "2    A2   B2   C2   D2  NaN  NaN  NaN  NaN  NaN  NaN  NaN  NaN\n",
              "3    A3   B3   C3   D3  NaN  NaN  NaN  NaN  NaN  NaN  NaN  NaN\n",
              "4   NaN  NaN  NaN  NaN   A4   B4   C4   D4  NaN  NaN  NaN  NaN\n",
              "5   NaN  NaN  NaN  NaN   A5   B5   C5   D5  NaN  NaN  NaN  NaN\n",
              "6   NaN  NaN  NaN  NaN   A6   B6   C6   D6  NaN  NaN  NaN  NaN\n",
              "7   NaN  NaN  NaN  NaN   A7   B7   C7   D7  NaN  NaN  NaN  NaN\n",
              "8   NaN  NaN  NaN  NaN  NaN  NaN  NaN  NaN   A8   B8   C8   D8\n",
              "9   NaN  NaN  NaN  NaN  NaN  NaN  NaN  NaN   A9   B9   C9   D9\n",
              "10  NaN  NaN  NaN  NaN  NaN  NaN  NaN  NaN  A10  B10  C10  D10\n",
              "11  NaN  NaN  NaN  NaN  NaN  NaN  NaN  NaN  A11  B11  C11  D11"
            ]
          },
          "metadata": {
            "tags": []
          },
          "execution_count": 41
        }
      ]
    },
    {
      "cell_type": "markdown",
      "metadata": {
        "id": "meLX5x3uav02"
      },
      "source": [
        "Note that here we have many missing values. Why would this be the case? This is because the DataFrame did not have values for all the indexes we wanted it to concatenate on. Hence, when working with pd.concat(), make sure your dataframes contain information for all the potential indexes for the concatenated dataframe."
      ]
    },
    {
      "cell_type": "markdown",
      "metadata": {
        "id": "yPRyRBU3dNpw"
      },
      "source": [
        "###Exercise time!\n",
        "\n",
        "**Your task:** concatenate the three smaller dataframes below\n",
        "in the axis that is appropriate.\n"
      ]
    },
    {
      "cell_type": "code",
      "metadata": {
        "id": "-XCzLSYoe9wq"
      },
      "source": [
        "# Set up\n",
        "# dataframe with only elephants\n",
        "elephants_df = wildlife_df.iloc[0: 3]\n",
        "# dataframe with only lion\n",
        "lions_df = wildlife_df.iloc[15: 19]\n",
        "# dataframe with only zebra\n",
        "zebras_df = wildlife_df.iloc[8: 15]\n",
        "# view them (uncomment to view)\n",
        "#elephants_df\n",
        "#lions_df\n",
        "#zebras_df"
      ],
      "execution_count": null,
      "outputs": []
    },
    {
      "cell_type": "code",
      "metadata": {
        "id": "DUS7oyLWi2zT"
      },
      "source": [
        "# TODO: concatenate them in the axis that you think is appropriate\n",
        "# order: elephants -> lion -> zebra\n",
        "\n",
        "# Something to think about... \n",
        "# are there other appropriate ways of combining these three data frames?"
      ],
      "execution_count": null,
      "outputs": []
    },
    {
      "cell_type": "code",
      "metadata": {
        "id": "Nqv4T14flNPh",
        "colab": {
          "base_uri": "https://localhost:8080/",
          "height": 514
        },
        "outputId": "94e7f7ad-69bf-404e-a6ee-292e5343f09d"
      },
      "source": [
        "#@title Solution (double click to see)\n",
        "# Hidden solution\n",
        "# concatenate them in the row axis \n",
        "# order: elephants -> lion -> zebra\n",
        "wildlife_df2 = pd.concat([elephants_df, lions_df, zebras_df])\n",
        "wildlife_df2"
      ],
      "execution_count": null,
      "outputs": [
        {
          "output_type": "execute_result",
          "data": {
            "text/html": [
              "<div>\n",
              "<style scoped>\n",
              "    .dataframe tbody tr th:only-of-type {\n",
              "        vertical-align: middle;\n",
              "    }\n",
              "\n",
              "    .dataframe tbody tr th {\n",
              "        vertical-align: top;\n",
              "    }\n",
              "\n",
              "    .dataframe thead th {\n",
              "        text-align: right;\n",
              "    }\n",
              "</style>\n",
              "<table border=\"1\" class=\"dataframe\">\n",
              "  <thead>\n",
              "    <tr style=\"text-align: right;\">\n",
              "      <th></th>\n",
              "      <th>animal</th>\n",
              "      <th>water_need</th>\n",
              "      <th>water_need_category</th>\n",
              "      <th>diff_from_mean</th>\n",
              "    </tr>\n",
              "    <tr>\n",
              "      <th>uniq_id</th>\n",
              "      <th></th>\n",
              "      <th></th>\n",
              "      <th></th>\n",
              "      <th></th>\n",
              "    </tr>\n",
              "  </thead>\n",
              "  <tbody>\n",
              "    <tr>\n",
              "      <th>1001</th>\n",
              "      <td>elephant</td>\n",
              "      <td>500</td>\n",
              "      <td>high</td>\n",
              "      <td>152.272727</td>\n",
              "    </tr>\n",
              "    <tr>\n",
              "      <th>1002</th>\n",
              "      <td>elephant</td>\n",
              "      <td>600</td>\n",
              "      <td>high</td>\n",
              "      <td>252.272727</td>\n",
              "    </tr>\n",
              "    <tr>\n",
              "      <th>1003</th>\n",
              "      <td>elephant</td>\n",
              "      <td>550</td>\n",
              "      <td>high</td>\n",
              "      <td>202.272727</td>\n",
              "    </tr>\n",
              "    <tr>\n",
              "      <th>1016</th>\n",
              "      <td>lion</td>\n",
              "      <td>420</td>\n",
              "      <td>high</td>\n",
              "      <td>72.272727</td>\n",
              "    </tr>\n",
              "    <tr>\n",
              "      <th>1017</th>\n",
              "      <td>lion</td>\n",
              "      <td>600</td>\n",
              "      <td>high</td>\n",
              "      <td>252.272727</td>\n",
              "    </tr>\n",
              "    <tr>\n",
              "      <th>1018</th>\n",
              "      <td>lion</td>\n",
              "      <td>500</td>\n",
              "      <td>high</td>\n",
              "      <td>152.272727</td>\n",
              "    </tr>\n",
              "    <tr>\n",
              "      <th>1019</th>\n",
              "      <td>lion</td>\n",
              "      <td>390</td>\n",
              "      <td>mid</td>\n",
              "      <td>42.272727</td>\n",
              "    </tr>\n",
              "    <tr>\n",
              "      <th>1009</th>\n",
              "      <td>zebra</td>\n",
              "      <td>200</td>\n",
              "      <td>mid</td>\n",
              "      <td>-147.727273</td>\n",
              "    </tr>\n",
              "    <tr>\n",
              "      <th>1010</th>\n",
              "      <td>zebra</td>\n",
              "      <td>220</td>\n",
              "      <td>mid</td>\n",
              "      <td>-127.727273</td>\n",
              "    </tr>\n",
              "    <tr>\n",
              "      <th>1011</th>\n",
              "      <td>zebra</td>\n",
              "      <td>240</td>\n",
              "      <td>mid</td>\n",
              "      <td>-107.727273</td>\n",
              "    </tr>\n",
              "    <tr>\n",
              "      <th>1012</th>\n",
              "      <td>zebra</td>\n",
              "      <td>230</td>\n",
              "      <td>mid</td>\n",
              "      <td>-117.727273</td>\n",
              "    </tr>\n",
              "    <tr>\n",
              "      <th>1013</th>\n",
              "      <td>zebra</td>\n",
              "      <td>220</td>\n",
              "      <td>mid</td>\n",
              "      <td>-127.727273</td>\n",
              "    </tr>\n",
              "    <tr>\n",
              "      <th>1014</th>\n",
              "      <td>zebra</td>\n",
              "      <td>100</td>\n",
              "      <td>low</td>\n",
              "      <td>-247.727273</td>\n",
              "    </tr>\n",
              "    <tr>\n",
              "      <th>1015</th>\n",
              "      <td>zebra</td>\n",
              "      <td>80</td>\n",
              "      <td>low</td>\n",
              "      <td>-267.727273</td>\n",
              "    </tr>\n",
              "  </tbody>\n",
              "</table>\n",
              "</div>"
            ],
            "text/plain": [
              "           animal  water_need water_need_category  diff_from_mean\n",
              "uniq_id                                                          \n",
              "1001     elephant         500                high      152.272727\n",
              "1002     elephant         600                high      252.272727\n",
              "1003     elephant         550                high      202.272727\n",
              "1016         lion         420                high       72.272727\n",
              "1017         lion         600                high      252.272727\n",
              "1018         lion         500                high      152.272727\n",
              "1019         lion         390                 mid       42.272727\n",
              "1009        zebra         200                 mid     -147.727273\n",
              "1010        zebra         220                 mid     -127.727273\n",
              "1011        zebra         240                 mid     -107.727273\n",
              "1012        zebra         230                 mid     -117.727273\n",
              "1013        zebra         220                 mid     -127.727273\n",
              "1014        zebra         100                 low     -247.727273\n",
              "1015        zebra          80                 low     -267.727273"
            ]
          },
          "metadata": {
            "tags": []
          },
          "execution_count": 44
        }
      ]
    },
    {
      "cell_type": "markdown",
      "metadata": {
        "id": "q11KNe7Kb89B"
      },
      "source": [
        "## Merging \n",
        "\n",
        "Merging is another way to combine dataframes, but it is usually\n",
        "done when the two dataframes have a \"key\" in common.\n",
        "\n",
        "Generally, the syntax you'd want for merging DataFrames is pd.merge(left, right, how='inner', on='Key').\n",
        "\n",
        "left = the DataFrame that should appear on the left side, \n",
        "\n",
        "right = the DataFrame that should appear on the right side, \n",
        "\n",
        "how='inner' -->  whether the merge operation should be handled as an intersection inner or a union Outer. \n",
        "\n",
        "on='Key' -> the key column on which the merge occurs. It has to be similar across all the DataFrames before the merge function can occur.\n",
        "\n"
      ]
    },
    {
      "cell_type": "markdown",
      "metadata": {
        "id": "V8w0kPd_wEFD"
      },
      "source": [
        "The basic merge method is pretty simple, usually you won't have any problem\n",
        "deciding which dataframe should be on the left, which should be on the\n",
        "right, or which key column the merge should occur on.\n",
        "\n",
        "\n",
        "However, one of the most important question when it comes to merging is **how** you want to merge them, so now I'll take you through the four JOIN types.\n",
        "\n",
        "But before that, here's an image to help you get the intuition:\n",
        "\n",
        "![alt text](http://www.datasciencemadesimple.com/wp-content/uploads/2017/09/join-or-merge-in-python-pandas-1.png)\n",
        "\n",
        "Cr: http://www.datasciencemadesimple.com/wp-content/uploads/2017/09/join-or-merge-in-python-pandas-1.png"
      ]
    },
    {
      "cell_type": "code",
      "metadata": {
        "id": "wgXvF7p0nnan"
      },
      "source": [
        "# sample dataframe 1\n",
        "left = pd.DataFrame({'key1': ['K0', 'K0', 'K1', 'K2'],\n",
        "                     'key2': ['K0', 'K1', 'K0', 'K1'],\n",
        "                     'A': ['A0', 'A1', 'A2', 'A3'],\n",
        "                     'B': ['B0', 'B1', 'B2', 'B3']})\n",
        "\n",
        "# sample dataframe 2\n",
        "right = pd.DataFrame({'key1': ['K0', 'K1', 'K1', 'K2'],\n",
        "                      'key2': ['K0', 'K0', 'K0', 'K0'],\n",
        "                      'C': ['C0', 'C1', 'C2', 'C3'],\n",
        "                      'D': ['D0', 'D1', 'D2', 'D3']})\n"
      ],
      "execution_count": null,
      "outputs": []
    },
    {
      "cell_type": "code",
      "metadata": {
        "id": "hy9oHbg4qNRU",
        "colab": {
          "base_uri": "https://localhost:8080/",
          "height": 142
        },
        "outputId": "97afa680-228d-4ce4-a144-bb57742e60e3"
      },
      "source": [
        "# INNER JOIN (how = 'inner')\n",
        "\n",
        "# merge the two dataframes\n",
        "# how = 'inner' by default\n",
        "result = pd.merge(left, right, on=['key1', 'key2'])\n",
        "# view \n",
        "result"
      ],
      "execution_count": null,
      "outputs": [
        {
          "output_type": "execute_result",
          "data": {
            "text/html": [
              "<div>\n",
              "<style scoped>\n",
              "    .dataframe tbody tr th:only-of-type {\n",
              "        vertical-align: middle;\n",
              "    }\n",
              "\n",
              "    .dataframe tbody tr th {\n",
              "        vertical-align: top;\n",
              "    }\n",
              "\n",
              "    .dataframe thead th {\n",
              "        text-align: right;\n",
              "    }\n",
              "</style>\n",
              "<table border=\"1\" class=\"dataframe\">\n",
              "  <thead>\n",
              "    <tr style=\"text-align: right;\">\n",
              "      <th></th>\n",
              "      <th>key1</th>\n",
              "      <th>key2</th>\n",
              "      <th>A</th>\n",
              "      <th>B</th>\n",
              "      <th>C</th>\n",
              "      <th>D</th>\n",
              "    </tr>\n",
              "  </thead>\n",
              "  <tbody>\n",
              "    <tr>\n",
              "      <th>0</th>\n",
              "      <td>K0</td>\n",
              "      <td>K0</td>\n",
              "      <td>A0</td>\n",
              "      <td>B0</td>\n",
              "      <td>C0</td>\n",
              "      <td>D0</td>\n",
              "    </tr>\n",
              "    <tr>\n",
              "      <th>1</th>\n",
              "      <td>K1</td>\n",
              "      <td>K0</td>\n",
              "      <td>A2</td>\n",
              "      <td>B2</td>\n",
              "      <td>C1</td>\n",
              "      <td>D1</td>\n",
              "    </tr>\n",
              "    <tr>\n",
              "      <th>2</th>\n",
              "      <td>K1</td>\n",
              "      <td>K0</td>\n",
              "      <td>A2</td>\n",
              "      <td>B2</td>\n",
              "      <td>C2</td>\n",
              "      <td>D2</td>\n",
              "    </tr>\n",
              "  </tbody>\n",
              "</table>\n",
              "</div>"
            ],
            "text/plain": [
              "  key1 key2   A   B   C   D\n",
              "0   K0   K0  A0  B0  C0  D0\n",
              "1   K1   K0  A2  B2  C1  D1\n",
              "2   K1   K0  A2  B2  C2  D2"
            ]
          },
          "metadata": {
            "tags": []
          },
          "execution_count": 46
        }
      ]
    },
    {
      "cell_type": "code",
      "metadata": {
        "id": "5bptprp5qPUL",
        "colab": {
          "base_uri": "https://localhost:8080/",
          "height": 235
        },
        "outputId": "c229165c-c719-4ec4-c040-9cb619bda1e9"
      },
      "source": [
        "# OUTER JOIN (how = 'outer')\n",
        "\n",
        "# merge the two dataframes\n",
        "result = pd.merge(left, right, how ='outer', on=['key1', 'key2'])\n",
        "# view \n",
        "result"
      ],
      "execution_count": null,
      "outputs": [
        {
          "output_type": "execute_result",
          "data": {
            "text/html": [
              "<div>\n",
              "<style scoped>\n",
              "    .dataframe tbody tr th:only-of-type {\n",
              "        vertical-align: middle;\n",
              "    }\n",
              "\n",
              "    .dataframe tbody tr th {\n",
              "        vertical-align: top;\n",
              "    }\n",
              "\n",
              "    .dataframe thead th {\n",
              "        text-align: right;\n",
              "    }\n",
              "</style>\n",
              "<table border=\"1\" class=\"dataframe\">\n",
              "  <thead>\n",
              "    <tr style=\"text-align: right;\">\n",
              "      <th></th>\n",
              "      <th>key1</th>\n",
              "      <th>key2</th>\n",
              "      <th>A</th>\n",
              "      <th>B</th>\n",
              "      <th>C</th>\n",
              "      <th>D</th>\n",
              "    </tr>\n",
              "  </thead>\n",
              "  <tbody>\n",
              "    <tr>\n",
              "      <th>0</th>\n",
              "      <td>K0</td>\n",
              "      <td>K0</td>\n",
              "      <td>A0</td>\n",
              "      <td>B0</td>\n",
              "      <td>C0</td>\n",
              "      <td>D0</td>\n",
              "    </tr>\n",
              "    <tr>\n",
              "      <th>1</th>\n",
              "      <td>K0</td>\n",
              "      <td>K1</td>\n",
              "      <td>A1</td>\n",
              "      <td>B1</td>\n",
              "      <td>NaN</td>\n",
              "      <td>NaN</td>\n",
              "    </tr>\n",
              "    <tr>\n",
              "      <th>2</th>\n",
              "      <td>K1</td>\n",
              "      <td>K0</td>\n",
              "      <td>A2</td>\n",
              "      <td>B2</td>\n",
              "      <td>C1</td>\n",
              "      <td>D1</td>\n",
              "    </tr>\n",
              "    <tr>\n",
              "      <th>3</th>\n",
              "      <td>K1</td>\n",
              "      <td>K0</td>\n",
              "      <td>A2</td>\n",
              "      <td>B2</td>\n",
              "      <td>C2</td>\n",
              "      <td>D2</td>\n",
              "    </tr>\n",
              "    <tr>\n",
              "      <th>4</th>\n",
              "      <td>K2</td>\n",
              "      <td>K1</td>\n",
              "      <td>A3</td>\n",
              "      <td>B3</td>\n",
              "      <td>NaN</td>\n",
              "      <td>NaN</td>\n",
              "    </tr>\n",
              "    <tr>\n",
              "      <th>5</th>\n",
              "      <td>K2</td>\n",
              "      <td>K0</td>\n",
              "      <td>NaN</td>\n",
              "      <td>NaN</td>\n",
              "      <td>C3</td>\n",
              "      <td>D3</td>\n",
              "    </tr>\n",
              "  </tbody>\n",
              "</table>\n",
              "</div>"
            ],
            "text/plain": [
              "  key1 key2    A    B    C    D\n",
              "0   K0   K0   A0   B0   C0   D0\n",
              "1   K0   K1   A1   B1  NaN  NaN\n",
              "2   K1   K0   A2   B2   C1   D1\n",
              "3   K1   K0   A2   B2   C2   D2\n",
              "4   K2   K1   A3   B3  NaN  NaN\n",
              "5   K2   K0  NaN  NaN   C3   D3"
            ]
          },
          "metadata": {
            "tags": []
          },
          "execution_count": 47
        }
      ]
    },
    {
      "cell_type": "markdown",
      "metadata": {
        "id": "pKg6K5iqqfG2"
      },
      "source": [
        "Do you see the difference? \n",
        "\n",
        "**Inner join** keeps only the rows the dataframes have in common (intersection),\n",
        "while **outer join** keeps all the rows (union)(that's why you see the missing values)."
      ]
    },
    {
      "cell_type": "code",
      "metadata": {
        "id": "cLgZVnNHrf-a",
        "colab": {
          "base_uri": "https://localhost:8080/",
          "height": 204
        },
        "outputId": "cf848919-792d-4b01-92eb-22b32daddf2b"
      },
      "source": [
        "# LEFT JOIN (how = 'left')\n",
        "\n",
        "# merge the two dataframes\n",
        "result = pd.merge(left, right, how = 'left', on=['key1', 'key2'])\n",
        "# view \n",
        "result"
      ],
      "execution_count": null,
      "outputs": [
        {
          "output_type": "execute_result",
          "data": {
            "text/html": [
              "<div>\n",
              "<style scoped>\n",
              "    .dataframe tbody tr th:only-of-type {\n",
              "        vertical-align: middle;\n",
              "    }\n",
              "\n",
              "    .dataframe tbody tr th {\n",
              "        vertical-align: top;\n",
              "    }\n",
              "\n",
              "    .dataframe thead th {\n",
              "        text-align: right;\n",
              "    }\n",
              "</style>\n",
              "<table border=\"1\" class=\"dataframe\">\n",
              "  <thead>\n",
              "    <tr style=\"text-align: right;\">\n",
              "      <th></th>\n",
              "      <th>key1</th>\n",
              "      <th>key2</th>\n",
              "      <th>A</th>\n",
              "      <th>B</th>\n",
              "      <th>C</th>\n",
              "      <th>D</th>\n",
              "    </tr>\n",
              "  </thead>\n",
              "  <tbody>\n",
              "    <tr>\n",
              "      <th>0</th>\n",
              "      <td>K0</td>\n",
              "      <td>K0</td>\n",
              "      <td>A0</td>\n",
              "      <td>B0</td>\n",
              "      <td>C0</td>\n",
              "      <td>D0</td>\n",
              "    </tr>\n",
              "    <tr>\n",
              "      <th>1</th>\n",
              "      <td>K0</td>\n",
              "      <td>K1</td>\n",
              "      <td>A1</td>\n",
              "      <td>B1</td>\n",
              "      <td>NaN</td>\n",
              "      <td>NaN</td>\n",
              "    </tr>\n",
              "    <tr>\n",
              "      <th>2</th>\n",
              "      <td>K1</td>\n",
              "      <td>K0</td>\n",
              "      <td>A2</td>\n",
              "      <td>B2</td>\n",
              "      <td>C1</td>\n",
              "      <td>D1</td>\n",
              "    </tr>\n",
              "    <tr>\n",
              "      <th>3</th>\n",
              "      <td>K1</td>\n",
              "      <td>K0</td>\n",
              "      <td>A2</td>\n",
              "      <td>B2</td>\n",
              "      <td>C2</td>\n",
              "      <td>D2</td>\n",
              "    </tr>\n",
              "    <tr>\n",
              "      <th>4</th>\n",
              "      <td>K2</td>\n",
              "      <td>K1</td>\n",
              "      <td>A3</td>\n",
              "      <td>B3</td>\n",
              "      <td>NaN</td>\n",
              "      <td>NaN</td>\n",
              "    </tr>\n",
              "  </tbody>\n",
              "</table>\n",
              "</div>"
            ],
            "text/plain": [
              "  key1 key2   A   B    C    D\n",
              "0   K0   K0  A0  B0   C0   D0\n",
              "1   K0   K1  A1  B1  NaN  NaN\n",
              "2   K1   K0  A2  B2   C1   D1\n",
              "3   K1   K0  A2  B2   C2   D2\n",
              "4   K2   K1  A3  B3  NaN  NaN"
            ]
          },
          "metadata": {
            "tags": []
          },
          "execution_count": 48
        }
      ]
    },
    {
      "cell_type": "code",
      "metadata": {
        "id": "IvrMHOJYr0do",
        "colab": {
          "base_uri": "https://localhost:8080/",
          "height": 173
        },
        "outputId": "8581e062-da8c-40c3-8904-39fd75be749b"
      },
      "source": [
        "# RIGHT JOIN (how = 'right')\n",
        "\n",
        "# merge the two dataframes\n",
        "result = pd.merge(left, right, how = 'right', on=['key1', 'key2'])\n",
        "# view \n",
        "result"
      ],
      "execution_count": null,
      "outputs": [
        {
          "output_type": "execute_result",
          "data": {
            "text/html": [
              "<div>\n",
              "<style scoped>\n",
              "    .dataframe tbody tr th:only-of-type {\n",
              "        vertical-align: middle;\n",
              "    }\n",
              "\n",
              "    .dataframe tbody tr th {\n",
              "        vertical-align: top;\n",
              "    }\n",
              "\n",
              "    .dataframe thead th {\n",
              "        text-align: right;\n",
              "    }\n",
              "</style>\n",
              "<table border=\"1\" class=\"dataframe\">\n",
              "  <thead>\n",
              "    <tr style=\"text-align: right;\">\n",
              "      <th></th>\n",
              "      <th>key1</th>\n",
              "      <th>key2</th>\n",
              "      <th>A</th>\n",
              "      <th>B</th>\n",
              "      <th>C</th>\n",
              "      <th>D</th>\n",
              "    </tr>\n",
              "  </thead>\n",
              "  <tbody>\n",
              "    <tr>\n",
              "      <th>0</th>\n",
              "      <td>K0</td>\n",
              "      <td>K0</td>\n",
              "      <td>A0</td>\n",
              "      <td>B0</td>\n",
              "      <td>C0</td>\n",
              "      <td>D0</td>\n",
              "    </tr>\n",
              "    <tr>\n",
              "      <th>1</th>\n",
              "      <td>K1</td>\n",
              "      <td>K0</td>\n",
              "      <td>A2</td>\n",
              "      <td>B2</td>\n",
              "      <td>C1</td>\n",
              "      <td>D1</td>\n",
              "    </tr>\n",
              "    <tr>\n",
              "      <th>2</th>\n",
              "      <td>K1</td>\n",
              "      <td>K0</td>\n",
              "      <td>A2</td>\n",
              "      <td>B2</td>\n",
              "      <td>C2</td>\n",
              "      <td>D2</td>\n",
              "    </tr>\n",
              "    <tr>\n",
              "      <th>3</th>\n",
              "      <td>K2</td>\n",
              "      <td>K0</td>\n",
              "      <td>NaN</td>\n",
              "      <td>NaN</td>\n",
              "      <td>C3</td>\n",
              "      <td>D3</td>\n",
              "    </tr>\n",
              "  </tbody>\n",
              "</table>\n",
              "</div>"
            ],
            "text/plain": [
              "  key1 key2    A    B   C   D\n",
              "0   K0   K0   A0   B0  C0  D0\n",
              "1   K1   K0   A2   B2  C1  D1\n",
              "2   K1   K0   A2   B2  C2  D2\n",
              "3   K2   K0  NaN  NaN  C3  D3"
            ]
          },
          "metadata": {
            "tags": []
          },
          "execution_count": 49
        }
      ]
    },
    {
      "cell_type": "markdown",
      "metadata": {
        "id": "-LpGTD-_r-Hq"
      },
      "source": [
        "As you can see, **left join** keeps all the keys from the left dataframe\n",
        "while **right join** keeps all the keys in the right dataframe."
      ]
    },
    {
      "cell_type": "markdown",
      "metadata": {
        "id": "EzxJXYP1xc8o"
      },
      "source": [
        "Now, a common question here is **“What’s the “safest” way of merging? Should you go with inner, outer, left or right, as a best practice?”**\n",
        "\n",
        "And there really isn't a right answer to this question. \"While inner is the default merge type in pandas, whether you should go with that, or change to outer, left or right, really depends on the task itself.\""
      ]
    },
    {
      "cell_type": "markdown",
      "metadata": {
        "id": "cN6ZfLkisinS"
      },
      "source": [
        "### Explore time!"
      ]
    },
    {
      "cell_type": "code",
      "metadata": {
        "id": "F7BIeiuis92W"
      },
      "source": [
        "# TODO: what if the key column in which the merge occurs is not similar across all the dataframes?\n",
        "\n",
        "\n",
        "# TODO: look at pandas doc (https://pandas.pydata.org/pandas-docs/stable/reference/api/pandas.DataFrame.merge.html)\n",
        "# for at least 2 more parameters that you think are important. \n",
        "# Learn about them and feel free to experiment them on the dataframes provided.\n",
        "\n",
        "# Parameter name 1:\n",
        "# What does it do?\n",
        "\n",
        "# Parameter name 2:\n",
        "# What does it do?"
      ],
      "execution_count": null,
      "outputs": []
    },
    {
      "cell_type": "code",
      "metadata": {
        "id": "Ljgm7RLTzvpp"
      },
      "source": [
        "# Experiment here!"
      ],
      "execution_count": null,
      "outputs": []
    },
    {
      "cell_type": "markdown",
      "metadata": {
        "id": "fQrOZq71yReO"
      },
      "source": [
        "### Exercise time!\n",
        "\n",
        "**Your task:** merge wildlife_df to the wildlife_eats dataframe."
      ]
    },
    {
      "cell_type": "code",
      "metadata": {
        "id": "E0RitLN4yqbd",
        "colab": {
          "base_uri": "https://localhost:8080/",
          "height": 204
        },
        "outputId": "7e9d9f5c-7916-4bc8-901b-74c60667f30d"
      },
      "source": [
        "# Set up\n",
        "wildlife_eats = pd.DataFrame([['elephant','vegetables'], ['tiger','meat'], ['lion','meat'], ['zebra','vegetables'], ['giraffe','vegetables']], columns=['animal', 'food'])\n",
        "# view wildlife_eats\n",
        "wildlife_eats"
      ],
      "execution_count": null,
      "outputs": [
        {
          "output_type": "execute_result",
          "data": {
            "text/html": [
              "<div>\n",
              "<style scoped>\n",
              "    .dataframe tbody tr th:only-of-type {\n",
              "        vertical-align: middle;\n",
              "    }\n",
              "\n",
              "    .dataframe tbody tr th {\n",
              "        vertical-align: top;\n",
              "    }\n",
              "\n",
              "    .dataframe thead th {\n",
              "        text-align: right;\n",
              "    }\n",
              "</style>\n",
              "<table border=\"1\" class=\"dataframe\">\n",
              "  <thead>\n",
              "    <tr style=\"text-align: right;\">\n",
              "      <th></th>\n",
              "      <th>animal</th>\n",
              "      <th>food</th>\n",
              "    </tr>\n",
              "  </thead>\n",
              "  <tbody>\n",
              "    <tr>\n",
              "      <th>0</th>\n",
              "      <td>elephant</td>\n",
              "      <td>vegetables</td>\n",
              "    </tr>\n",
              "    <tr>\n",
              "      <th>1</th>\n",
              "      <td>tiger</td>\n",
              "      <td>meat</td>\n",
              "    </tr>\n",
              "    <tr>\n",
              "      <th>2</th>\n",
              "      <td>lion</td>\n",
              "      <td>meat</td>\n",
              "    </tr>\n",
              "    <tr>\n",
              "      <th>3</th>\n",
              "      <td>zebra</td>\n",
              "      <td>vegetables</td>\n",
              "    </tr>\n",
              "    <tr>\n",
              "      <th>4</th>\n",
              "      <td>giraffe</td>\n",
              "      <td>vegetables</td>\n",
              "    </tr>\n",
              "  </tbody>\n",
              "</table>\n",
              "</div>"
            ],
            "text/plain": [
              "     animal        food\n",
              "0  elephant  vegetables\n",
              "1     tiger        meat\n",
              "2      lion        meat\n",
              "3     zebra  vegetables\n",
              "4   giraffe  vegetables"
            ]
          },
          "metadata": {
            "tags": []
          },
          "execution_count": 51
        }
      ]
    },
    {
      "cell_type": "code",
      "metadata": {
        "id": "5WX23gZ20G2t"
      },
      "source": [
        "# TODO: merge wildlife_df and wildlife_eats such that there're no missing values"
      ],
      "execution_count": null,
      "outputs": []
    },
    {
      "cell_type": "code",
      "metadata": {
        "id": "F2aC19f80NZC",
        "colab": {
          "base_uri": "https://localhost:8080/",
          "height": 638
        },
        "outputId": "b23c515c-8366-4868-e7f0-d4ea526794d6"
      },
      "source": [
        "#@title Solution (double click to open)\n",
        "# Hidden solution\n",
        "# merge wildlife_df and wildlife_eats such that there're no missing values\n",
        "pd.merge(wildlife_eats, wildlife_df, on = 'animal')"
      ],
      "execution_count": null,
      "outputs": [
        {
          "output_type": "execute_result",
          "data": {
            "text/html": [
              "<div>\n",
              "<style scoped>\n",
              "    .dataframe tbody tr th:only-of-type {\n",
              "        vertical-align: middle;\n",
              "    }\n",
              "\n",
              "    .dataframe tbody tr th {\n",
              "        vertical-align: top;\n",
              "    }\n",
              "\n",
              "    .dataframe thead th {\n",
              "        text-align: right;\n",
              "    }\n",
              "</style>\n",
              "<table border=\"1\" class=\"dataframe\">\n",
              "  <thead>\n",
              "    <tr style=\"text-align: right;\">\n",
              "      <th></th>\n",
              "      <th>animal</th>\n",
              "      <th>food</th>\n",
              "      <th>water_need</th>\n",
              "      <th>water_need_category</th>\n",
              "      <th>diff_from_mean</th>\n",
              "    </tr>\n",
              "  </thead>\n",
              "  <tbody>\n",
              "    <tr>\n",
              "      <th>0</th>\n",
              "      <td>elephant</td>\n",
              "      <td>vegetables</td>\n",
              "      <td>500</td>\n",
              "      <td>high</td>\n",
              "      <td>152.272727</td>\n",
              "    </tr>\n",
              "    <tr>\n",
              "      <th>1</th>\n",
              "      <td>elephant</td>\n",
              "      <td>vegetables</td>\n",
              "      <td>600</td>\n",
              "      <td>high</td>\n",
              "      <td>252.272727</td>\n",
              "    </tr>\n",
              "    <tr>\n",
              "      <th>2</th>\n",
              "      <td>elephant</td>\n",
              "      <td>vegetables</td>\n",
              "      <td>550</td>\n",
              "      <td>high</td>\n",
              "      <td>202.272727</td>\n",
              "    </tr>\n",
              "    <tr>\n",
              "      <th>3</th>\n",
              "      <td>tiger</td>\n",
              "      <td>meat</td>\n",
              "      <td>300</td>\n",
              "      <td>mid</td>\n",
              "      <td>-47.727273</td>\n",
              "    </tr>\n",
              "    <tr>\n",
              "      <th>4</th>\n",
              "      <td>tiger</td>\n",
              "      <td>meat</td>\n",
              "      <td>320</td>\n",
              "      <td>mid</td>\n",
              "      <td>-27.727273</td>\n",
              "    </tr>\n",
              "    <tr>\n",
              "      <th>5</th>\n",
              "      <td>tiger</td>\n",
              "      <td>meat</td>\n",
              "      <td>330</td>\n",
              "      <td>mid</td>\n",
              "      <td>-17.727273</td>\n",
              "    </tr>\n",
              "    <tr>\n",
              "      <th>6</th>\n",
              "      <td>tiger</td>\n",
              "      <td>meat</td>\n",
              "      <td>290</td>\n",
              "      <td>mid</td>\n",
              "      <td>-57.727273</td>\n",
              "    </tr>\n",
              "    <tr>\n",
              "      <th>7</th>\n",
              "      <td>tiger</td>\n",
              "      <td>meat</td>\n",
              "      <td>310</td>\n",
              "      <td>mid</td>\n",
              "      <td>-37.727273</td>\n",
              "    </tr>\n",
              "    <tr>\n",
              "      <th>8</th>\n",
              "      <td>lion</td>\n",
              "      <td>meat</td>\n",
              "      <td>420</td>\n",
              "      <td>high</td>\n",
              "      <td>72.272727</td>\n",
              "    </tr>\n",
              "    <tr>\n",
              "      <th>9</th>\n",
              "      <td>lion</td>\n",
              "      <td>meat</td>\n",
              "      <td>600</td>\n",
              "      <td>high</td>\n",
              "      <td>252.272727</td>\n",
              "    </tr>\n",
              "    <tr>\n",
              "      <th>10</th>\n",
              "      <td>lion</td>\n",
              "      <td>meat</td>\n",
              "      <td>500</td>\n",
              "      <td>high</td>\n",
              "      <td>152.272727</td>\n",
              "    </tr>\n",
              "    <tr>\n",
              "      <th>11</th>\n",
              "      <td>lion</td>\n",
              "      <td>meat</td>\n",
              "      <td>390</td>\n",
              "      <td>mid</td>\n",
              "      <td>42.272727</td>\n",
              "    </tr>\n",
              "    <tr>\n",
              "      <th>12</th>\n",
              "      <td>zebra</td>\n",
              "      <td>vegetables</td>\n",
              "      <td>200</td>\n",
              "      <td>mid</td>\n",
              "      <td>-147.727273</td>\n",
              "    </tr>\n",
              "    <tr>\n",
              "      <th>13</th>\n",
              "      <td>zebra</td>\n",
              "      <td>vegetables</td>\n",
              "      <td>220</td>\n",
              "      <td>mid</td>\n",
              "      <td>-127.727273</td>\n",
              "    </tr>\n",
              "    <tr>\n",
              "      <th>14</th>\n",
              "      <td>zebra</td>\n",
              "      <td>vegetables</td>\n",
              "      <td>240</td>\n",
              "      <td>mid</td>\n",
              "      <td>-107.727273</td>\n",
              "    </tr>\n",
              "    <tr>\n",
              "      <th>15</th>\n",
              "      <td>zebra</td>\n",
              "      <td>vegetables</td>\n",
              "      <td>230</td>\n",
              "      <td>mid</td>\n",
              "      <td>-117.727273</td>\n",
              "    </tr>\n",
              "    <tr>\n",
              "      <th>16</th>\n",
              "      <td>zebra</td>\n",
              "      <td>vegetables</td>\n",
              "      <td>220</td>\n",
              "      <td>mid</td>\n",
              "      <td>-127.727273</td>\n",
              "    </tr>\n",
              "    <tr>\n",
              "      <th>17</th>\n",
              "      <td>zebra</td>\n",
              "      <td>vegetables</td>\n",
              "      <td>100</td>\n",
              "      <td>low</td>\n",
              "      <td>-247.727273</td>\n",
              "    </tr>\n",
              "    <tr>\n",
              "      <th>18</th>\n",
              "      <td>zebra</td>\n",
              "      <td>vegetables</td>\n",
              "      <td>80</td>\n",
              "      <td>low</td>\n",
              "      <td>-267.727273</td>\n",
              "    </tr>\n",
              "  </tbody>\n",
              "</table>\n",
              "</div>"
            ],
            "text/plain": [
              "      animal        food  water_need water_need_category  diff_from_mean\n",
              "0   elephant  vegetables         500                high      152.272727\n",
              "1   elephant  vegetables         600                high      252.272727\n",
              "2   elephant  vegetables         550                high      202.272727\n",
              "3      tiger        meat         300                 mid      -47.727273\n",
              "4      tiger        meat         320                 mid      -27.727273\n",
              "5      tiger        meat         330                 mid      -17.727273\n",
              "6      tiger        meat         290                 mid      -57.727273\n",
              "7      tiger        meat         310                 mid      -37.727273\n",
              "8       lion        meat         420                high       72.272727\n",
              "9       lion        meat         600                high      252.272727\n",
              "10      lion        meat         500                high      152.272727\n",
              "11      lion        meat         390                 mid       42.272727\n",
              "12     zebra  vegetables         200                 mid     -147.727273\n",
              "13     zebra  vegetables         220                 mid     -127.727273\n",
              "14     zebra  vegetables         240                 mid     -107.727273\n",
              "15     zebra  vegetables         230                 mid     -117.727273\n",
              "16     zebra  vegetables         220                 mid     -127.727273\n",
              "17     zebra  vegetables         100                 low     -247.727273\n",
              "18     zebra  vegetables          80                 low     -267.727273"
            ]
          },
          "metadata": {
            "tags": []
          },
          "execution_count": 52
        }
      ]
    },
    {
      "cell_type": "code",
      "metadata": {
        "id": "NF8aRr7kyxuu"
      },
      "source": [
        "# TODO: merge wildlife_df and wildlife_eats such that all the animals gets included"
      ],
      "execution_count": null,
      "outputs": []
    },
    {
      "cell_type": "code",
      "metadata": {
        "id": "EcfdUda90vju",
        "colab": {
          "base_uri": "https://localhost:8080/",
          "height": 762
        },
        "outputId": "791c40c9-01ea-4a54-83fa-685f607e18ba"
      },
      "source": [
        "#@title Solution (double click to see)\n",
        "# Hidden solution\n",
        "# merge wildlife_df and wildlife_eats such that all the animals gets included\n",
        "pd.merge(wildlife_eats, wildlife_df, how = 'outer', on = 'animal')"
      ],
      "execution_count": null,
      "outputs": [
        {
          "output_type": "execute_result",
          "data": {
            "text/html": [
              "<div>\n",
              "<style scoped>\n",
              "    .dataframe tbody tr th:only-of-type {\n",
              "        vertical-align: middle;\n",
              "    }\n",
              "\n",
              "    .dataframe tbody tr th {\n",
              "        vertical-align: top;\n",
              "    }\n",
              "\n",
              "    .dataframe thead th {\n",
              "        text-align: right;\n",
              "    }\n",
              "</style>\n",
              "<table border=\"1\" class=\"dataframe\">\n",
              "  <thead>\n",
              "    <tr style=\"text-align: right;\">\n",
              "      <th></th>\n",
              "      <th>animal</th>\n",
              "      <th>food</th>\n",
              "      <th>water_need</th>\n",
              "      <th>water_need_category</th>\n",
              "      <th>diff_from_mean</th>\n",
              "    </tr>\n",
              "  </thead>\n",
              "  <tbody>\n",
              "    <tr>\n",
              "      <th>0</th>\n",
              "      <td>elephant</td>\n",
              "      <td>vegetables</td>\n",
              "      <td>500.0</td>\n",
              "      <td>high</td>\n",
              "      <td>152.272727</td>\n",
              "    </tr>\n",
              "    <tr>\n",
              "      <th>1</th>\n",
              "      <td>elephant</td>\n",
              "      <td>vegetables</td>\n",
              "      <td>600.0</td>\n",
              "      <td>high</td>\n",
              "      <td>252.272727</td>\n",
              "    </tr>\n",
              "    <tr>\n",
              "      <th>2</th>\n",
              "      <td>elephant</td>\n",
              "      <td>vegetables</td>\n",
              "      <td>550.0</td>\n",
              "      <td>high</td>\n",
              "      <td>202.272727</td>\n",
              "    </tr>\n",
              "    <tr>\n",
              "      <th>3</th>\n",
              "      <td>tiger</td>\n",
              "      <td>meat</td>\n",
              "      <td>300.0</td>\n",
              "      <td>mid</td>\n",
              "      <td>-47.727273</td>\n",
              "    </tr>\n",
              "    <tr>\n",
              "      <th>4</th>\n",
              "      <td>tiger</td>\n",
              "      <td>meat</td>\n",
              "      <td>320.0</td>\n",
              "      <td>mid</td>\n",
              "      <td>-27.727273</td>\n",
              "    </tr>\n",
              "    <tr>\n",
              "      <th>5</th>\n",
              "      <td>tiger</td>\n",
              "      <td>meat</td>\n",
              "      <td>330.0</td>\n",
              "      <td>mid</td>\n",
              "      <td>-17.727273</td>\n",
              "    </tr>\n",
              "    <tr>\n",
              "      <th>6</th>\n",
              "      <td>tiger</td>\n",
              "      <td>meat</td>\n",
              "      <td>290.0</td>\n",
              "      <td>mid</td>\n",
              "      <td>-57.727273</td>\n",
              "    </tr>\n",
              "    <tr>\n",
              "      <th>7</th>\n",
              "      <td>tiger</td>\n",
              "      <td>meat</td>\n",
              "      <td>310.0</td>\n",
              "      <td>mid</td>\n",
              "      <td>-37.727273</td>\n",
              "    </tr>\n",
              "    <tr>\n",
              "      <th>8</th>\n",
              "      <td>lion</td>\n",
              "      <td>meat</td>\n",
              "      <td>420.0</td>\n",
              "      <td>high</td>\n",
              "      <td>72.272727</td>\n",
              "    </tr>\n",
              "    <tr>\n",
              "      <th>9</th>\n",
              "      <td>lion</td>\n",
              "      <td>meat</td>\n",
              "      <td>600.0</td>\n",
              "      <td>high</td>\n",
              "      <td>252.272727</td>\n",
              "    </tr>\n",
              "    <tr>\n",
              "      <th>10</th>\n",
              "      <td>lion</td>\n",
              "      <td>meat</td>\n",
              "      <td>500.0</td>\n",
              "      <td>high</td>\n",
              "      <td>152.272727</td>\n",
              "    </tr>\n",
              "    <tr>\n",
              "      <th>11</th>\n",
              "      <td>lion</td>\n",
              "      <td>meat</td>\n",
              "      <td>390.0</td>\n",
              "      <td>mid</td>\n",
              "      <td>42.272727</td>\n",
              "    </tr>\n",
              "    <tr>\n",
              "      <th>12</th>\n",
              "      <td>zebra</td>\n",
              "      <td>vegetables</td>\n",
              "      <td>200.0</td>\n",
              "      <td>mid</td>\n",
              "      <td>-147.727273</td>\n",
              "    </tr>\n",
              "    <tr>\n",
              "      <th>13</th>\n",
              "      <td>zebra</td>\n",
              "      <td>vegetables</td>\n",
              "      <td>220.0</td>\n",
              "      <td>mid</td>\n",
              "      <td>-127.727273</td>\n",
              "    </tr>\n",
              "    <tr>\n",
              "      <th>14</th>\n",
              "      <td>zebra</td>\n",
              "      <td>vegetables</td>\n",
              "      <td>240.0</td>\n",
              "      <td>mid</td>\n",
              "      <td>-107.727273</td>\n",
              "    </tr>\n",
              "    <tr>\n",
              "      <th>15</th>\n",
              "      <td>zebra</td>\n",
              "      <td>vegetables</td>\n",
              "      <td>230.0</td>\n",
              "      <td>mid</td>\n",
              "      <td>-117.727273</td>\n",
              "    </tr>\n",
              "    <tr>\n",
              "      <th>16</th>\n",
              "      <td>zebra</td>\n",
              "      <td>vegetables</td>\n",
              "      <td>220.0</td>\n",
              "      <td>mid</td>\n",
              "      <td>-127.727273</td>\n",
              "    </tr>\n",
              "    <tr>\n",
              "      <th>17</th>\n",
              "      <td>zebra</td>\n",
              "      <td>vegetables</td>\n",
              "      <td>100.0</td>\n",
              "      <td>low</td>\n",
              "      <td>-247.727273</td>\n",
              "    </tr>\n",
              "    <tr>\n",
              "      <th>18</th>\n",
              "      <td>zebra</td>\n",
              "      <td>vegetables</td>\n",
              "      <td>80.0</td>\n",
              "      <td>low</td>\n",
              "      <td>-267.727273</td>\n",
              "    </tr>\n",
              "    <tr>\n",
              "      <th>19</th>\n",
              "      <td>giraffe</td>\n",
              "      <td>vegetables</td>\n",
              "      <td>NaN</td>\n",
              "      <td>NaN</td>\n",
              "      <td>NaN</td>\n",
              "    </tr>\n",
              "    <tr>\n",
              "      <th>20</th>\n",
              "      <td>hyppo</td>\n",
              "      <td>NaN</td>\n",
              "      <td>410.0</td>\n",
              "      <td>high</td>\n",
              "      <td>62.272727</td>\n",
              "    </tr>\n",
              "    <tr>\n",
              "      <th>21</th>\n",
              "      <td>hyppo</td>\n",
              "      <td>NaN</td>\n",
              "      <td>430.0</td>\n",
              "      <td>high</td>\n",
              "      <td>82.272727</td>\n",
              "    </tr>\n",
              "    <tr>\n",
              "      <th>22</th>\n",
              "      <td>hyppo</td>\n",
              "      <td>NaN</td>\n",
              "      <td>410.0</td>\n",
              "      <td>high</td>\n",
              "      <td>62.272727</td>\n",
              "    </tr>\n",
              "  </tbody>\n",
              "</table>\n",
              "</div>"
            ],
            "text/plain": [
              "      animal        food  water_need water_need_category  diff_from_mean\n",
              "0   elephant  vegetables       500.0                high      152.272727\n",
              "1   elephant  vegetables       600.0                high      252.272727\n",
              "2   elephant  vegetables       550.0                high      202.272727\n",
              "3      tiger        meat       300.0                 mid      -47.727273\n",
              "4      tiger        meat       320.0                 mid      -27.727273\n",
              "5      tiger        meat       330.0                 mid      -17.727273\n",
              "6      tiger        meat       290.0                 mid      -57.727273\n",
              "7      tiger        meat       310.0                 mid      -37.727273\n",
              "8       lion        meat       420.0                high       72.272727\n",
              "9       lion        meat       600.0                high      252.272727\n",
              "10      lion        meat       500.0                high      152.272727\n",
              "11      lion        meat       390.0                 mid       42.272727\n",
              "12     zebra  vegetables       200.0                 mid     -147.727273\n",
              "13     zebra  vegetables       220.0                 mid     -127.727273\n",
              "14     zebra  vegetables       240.0                 mid     -107.727273\n",
              "15     zebra  vegetables       230.0                 mid     -117.727273\n",
              "16     zebra  vegetables       220.0                 mid     -127.727273\n",
              "17     zebra  vegetables       100.0                 low     -247.727273\n",
              "18     zebra  vegetables        80.0                 low     -267.727273\n",
              "19   giraffe  vegetables         NaN                 NaN             NaN\n",
              "20     hyppo         NaN       410.0                high       62.272727\n",
              "21     hyppo         NaN       430.0                high       82.272727\n",
              "22     hyppo         NaN       410.0                high       62.272727"
            ]
          },
          "metadata": {
            "tags": []
          },
          "execution_count": 53
        }
      ]
    },
    {
      "cell_type": "code",
      "metadata": {
        "id": "inhFSqK9ztym"
      },
      "source": [
        "# TODO: merge wildlife_df and wildlife_eats such that only all the animals in wildlife_df gets included"
      ],
      "execution_count": null,
      "outputs": []
    },
    {
      "cell_type": "code",
      "metadata": {
        "id": "i5g9JDQ80wLu",
        "colab": {
          "base_uri": "https://localhost:8080/",
          "height": 731
        },
        "outputId": "bb266a2a-9a40-4058-e95a-95b4614aa739"
      },
      "source": [
        "#@title Solution (double click to see)\n",
        "# Hidden solution\n",
        "# merge wildlife_df and wildlife_eats such that only all the animals in wildlife_df gets included\n",
        "pd.merge(wildlife_eats, wildlife_df, how = 'right', on = 'animal')\n",
        "# or pd.merge(wildlife_df, wildlife_eats, how = 'left', on = 'animal')"
      ],
      "execution_count": null,
      "outputs": [
        {
          "output_type": "execute_result",
          "data": {
            "text/html": [
              "<div>\n",
              "<style scoped>\n",
              "    .dataframe tbody tr th:only-of-type {\n",
              "        vertical-align: middle;\n",
              "    }\n",
              "\n",
              "    .dataframe tbody tr th {\n",
              "        vertical-align: top;\n",
              "    }\n",
              "\n",
              "    .dataframe thead th {\n",
              "        text-align: right;\n",
              "    }\n",
              "</style>\n",
              "<table border=\"1\" class=\"dataframe\">\n",
              "  <thead>\n",
              "    <tr style=\"text-align: right;\">\n",
              "      <th></th>\n",
              "      <th>animal</th>\n",
              "      <th>food</th>\n",
              "      <th>water_need</th>\n",
              "      <th>water_need_category</th>\n",
              "      <th>diff_from_mean</th>\n",
              "    </tr>\n",
              "  </thead>\n",
              "  <tbody>\n",
              "    <tr>\n",
              "      <th>0</th>\n",
              "      <td>elephant</td>\n",
              "      <td>vegetables</td>\n",
              "      <td>500</td>\n",
              "      <td>high</td>\n",
              "      <td>152.272727</td>\n",
              "    </tr>\n",
              "    <tr>\n",
              "      <th>1</th>\n",
              "      <td>elephant</td>\n",
              "      <td>vegetables</td>\n",
              "      <td>600</td>\n",
              "      <td>high</td>\n",
              "      <td>252.272727</td>\n",
              "    </tr>\n",
              "    <tr>\n",
              "      <th>2</th>\n",
              "      <td>elephant</td>\n",
              "      <td>vegetables</td>\n",
              "      <td>550</td>\n",
              "      <td>high</td>\n",
              "      <td>202.272727</td>\n",
              "    </tr>\n",
              "    <tr>\n",
              "      <th>3</th>\n",
              "      <td>tiger</td>\n",
              "      <td>meat</td>\n",
              "      <td>300</td>\n",
              "      <td>mid</td>\n",
              "      <td>-47.727273</td>\n",
              "    </tr>\n",
              "    <tr>\n",
              "      <th>4</th>\n",
              "      <td>tiger</td>\n",
              "      <td>meat</td>\n",
              "      <td>320</td>\n",
              "      <td>mid</td>\n",
              "      <td>-27.727273</td>\n",
              "    </tr>\n",
              "    <tr>\n",
              "      <th>5</th>\n",
              "      <td>tiger</td>\n",
              "      <td>meat</td>\n",
              "      <td>330</td>\n",
              "      <td>mid</td>\n",
              "      <td>-17.727273</td>\n",
              "    </tr>\n",
              "    <tr>\n",
              "      <th>6</th>\n",
              "      <td>tiger</td>\n",
              "      <td>meat</td>\n",
              "      <td>290</td>\n",
              "      <td>mid</td>\n",
              "      <td>-57.727273</td>\n",
              "    </tr>\n",
              "    <tr>\n",
              "      <th>7</th>\n",
              "      <td>tiger</td>\n",
              "      <td>meat</td>\n",
              "      <td>310</td>\n",
              "      <td>mid</td>\n",
              "      <td>-37.727273</td>\n",
              "    </tr>\n",
              "    <tr>\n",
              "      <th>8</th>\n",
              "      <td>zebra</td>\n",
              "      <td>vegetables</td>\n",
              "      <td>200</td>\n",
              "      <td>mid</td>\n",
              "      <td>-147.727273</td>\n",
              "    </tr>\n",
              "    <tr>\n",
              "      <th>9</th>\n",
              "      <td>zebra</td>\n",
              "      <td>vegetables</td>\n",
              "      <td>220</td>\n",
              "      <td>mid</td>\n",
              "      <td>-127.727273</td>\n",
              "    </tr>\n",
              "    <tr>\n",
              "      <th>10</th>\n",
              "      <td>zebra</td>\n",
              "      <td>vegetables</td>\n",
              "      <td>240</td>\n",
              "      <td>mid</td>\n",
              "      <td>-107.727273</td>\n",
              "    </tr>\n",
              "    <tr>\n",
              "      <th>11</th>\n",
              "      <td>zebra</td>\n",
              "      <td>vegetables</td>\n",
              "      <td>230</td>\n",
              "      <td>mid</td>\n",
              "      <td>-117.727273</td>\n",
              "    </tr>\n",
              "    <tr>\n",
              "      <th>12</th>\n",
              "      <td>zebra</td>\n",
              "      <td>vegetables</td>\n",
              "      <td>220</td>\n",
              "      <td>mid</td>\n",
              "      <td>-127.727273</td>\n",
              "    </tr>\n",
              "    <tr>\n",
              "      <th>13</th>\n",
              "      <td>zebra</td>\n",
              "      <td>vegetables</td>\n",
              "      <td>100</td>\n",
              "      <td>low</td>\n",
              "      <td>-247.727273</td>\n",
              "    </tr>\n",
              "    <tr>\n",
              "      <th>14</th>\n",
              "      <td>zebra</td>\n",
              "      <td>vegetables</td>\n",
              "      <td>80</td>\n",
              "      <td>low</td>\n",
              "      <td>-267.727273</td>\n",
              "    </tr>\n",
              "    <tr>\n",
              "      <th>15</th>\n",
              "      <td>lion</td>\n",
              "      <td>meat</td>\n",
              "      <td>420</td>\n",
              "      <td>high</td>\n",
              "      <td>72.272727</td>\n",
              "    </tr>\n",
              "    <tr>\n",
              "      <th>16</th>\n",
              "      <td>lion</td>\n",
              "      <td>meat</td>\n",
              "      <td>600</td>\n",
              "      <td>high</td>\n",
              "      <td>252.272727</td>\n",
              "    </tr>\n",
              "    <tr>\n",
              "      <th>17</th>\n",
              "      <td>lion</td>\n",
              "      <td>meat</td>\n",
              "      <td>500</td>\n",
              "      <td>high</td>\n",
              "      <td>152.272727</td>\n",
              "    </tr>\n",
              "    <tr>\n",
              "      <th>18</th>\n",
              "      <td>lion</td>\n",
              "      <td>meat</td>\n",
              "      <td>390</td>\n",
              "      <td>mid</td>\n",
              "      <td>42.272727</td>\n",
              "    </tr>\n",
              "    <tr>\n",
              "      <th>19</th>\n",
              "      <td>hyppo</td>\n",
              "      <td>NaN</td>\n",
              "      <td>410</td>\n",
              "      <td>high</td>\n",
              "      <td>62.272727</td>\n",
              "    </tr>\n",
              "    <tr>\n",
              "      <th>20</th>\n",
              "      <td>hyppo</td>\n",
              "      <td>NaN</td>\n",
              "      <td>430</td>\n",
              "      <td>high</td>\n",
              "      <td>82.272727</td>\n",
              "    </tr>\n",
              "    <tr>\n",
              "      <th>21</th>\n",
              "      <td>hyppo</td>\n",
              "      <td>NaN</td>\n",
              "      <td>410</td>\n",
              "      <td>high</td>\n",
              "      <td>62.272727</td>\n",
              "    </tr>\n",
              "  </tbody>\n",
              "</table>\n",
              "</div>"
            ],
            "text/plain": [
              "      animal        food  water_need water_need_category  diff_from_mean\n",
              "0   elephant  vegetables         500                high      152.272727\n",
              "1   elephant  vegetables         600                high      252.272727\n",
              "2   elephant  vegetables         550                high      202.272727\n",
              "3      tiger        meat         300                 mid      -47.727273\n",
              "4      tiger        meat         320                 mid      -27.727273\n",
              "5      tiger        meat         330                 mid      -17.727273\n",
              "6      tiger        meat         290                 mid      -57.727273\n",
              "7      tiger        meat         310                 mid      -37.727273\n",
              "8      zebra  vegetables         200                 mid     -147.727273\n",
              "9      zebra  vegetables         220                 mid     -127.727273\n",
              "10     zebra  vegetables         240                 mid     -107.727273\n",
              "11     zebra  vegetables         230                 mid     -117.727273\n",
              "12     zebra  vegetables         220                 mid     -127.727273\n",
              "13     zebra  vegetables         100                 low     -247.727273\n",
              "14     zebra  vegetables          80                 low     -267.727273\n",
              "15      lion        meat         420                high       72.272727\n",
              "16      lion        meat         600                high      252.272727\n",
              "17      lion        meat         500                high      152.272727\n",
              "18      lion        meat         390                 mid       42.272727\n",
              "19     hyppo         NaN         410                high       62.272727\n",
              "20     hyppo         NaN         430                high       82.272727\n",
              "21     hyppo         NaN         410                high       62.272727"
            ]
          },
          "metadata": {
            "tags": []
          },
          "execution_count": 54
        }
      ]
    },
    {
      "cell_type": "markdown",
      "metadata": {
        "id": "wCz8XxyA1exx"
      },
      "source": [
        "## Joining\n",
        "\n",
        "Join is a more convenient method for combining the columns of two dataframes with different indexes into a single DataFrame. It is quite similar to \n",
        "merging but differs in that it joins on the index key instead of the column."
      ]
    },
    {
      "cell_type": "code",
      "metadata": {
        "id": "4YTxbKkA3ckD"
      },
      "source": [
        "# sample dataframe 1\n",
        "left = pd.DataFrame({'A': ['A0', 'A1', 'A2', 'A3'],\n",
        "                     'B': ['B0', 'B1', 'B2', 'B3']},\n",
        "                      index =[1, 2, 3, 4])\n",
        "\n",
        "# sample dataframe 2\n",
        "right = pd.DataFrame({'C': ['C0', 'C1', 'C2', 'C3'],\n",
        "                      'D': ['D0', 'D1', 'D2', 'D3']},\n",
        "                      index = [5, 4, 7, 1])"
      ],
      "execution_count": null,
      "outputs": []
    },
    {
      "cell_type": "code",
      "metadata": {
        "id": "H_qS7uJAOS6k",
        "colab": {
          "base_uri": "https://localhost:8080/",
          "height": 173
        },
        "outputId": "75527d80-8445-4bdd-a6aa-dda82dbc26be"
      },
      "source": [
        "left"
      ],
      "execution_count": null,
      "outputs": [
        {
          "output_type": "execute_result",
          "data": {
            "text/html": [
              "<div>\n",
              "<style scoped>\n",
              "    .dataframe tbody tr th:only-of-type {\n",
              "        vertical-align: middle;\n",
              "    }\n",
              "\n",
              "    .dataframe tbody tr th {\n",
              "        vertical-align: top;\n",
              "    }\n",
              "\n",
              "    .dataframe thead th {\n",
              "        text-align: right;\n",
              "    }\n",
              "</style>\n",
              "<table border=\"1\" class=\"dataframe\">\n",
              "  <thead>\n",
              "    <tr style=\"text-align: right;\">\n",
              "      <th></th>\n",
              "      <th>A</th>\n",
              "      <th>B</th>\n",
              "    </tr>\n",
              "  </thead>\n",
              "  <tbody>\n",
              "    <tr>\n",
              "      <th>1</th>\n",
              "      <td>A0</td>\n",
              "      <td>B0</td>\n",
              "    </tr>\n",
              "    <tr>\n",
              "      <th>2</th>\n",
              "      <td>A1</td>\n",
              "      <td>B1</td>\n",
              "    </tr>\n",
              "    <tr>\n",
              "      <th>3</th>\n",
              "      <td>A2</td>\n",
              "      <td>B2</td>\n",
              "    </tr>\n",
              "    <tr>\n",
              "      <th>4</th>\n",
              "      <td>A3</td>\n",
              "      <td>B3</td>\n",
              "    </tr>\n",
              "  </tbody>\n",
              "</table>\n",
              "</div>"
            ],
            "text/plain": [
              "    A   B\n",
              "1  A0  B0\n",
              "2  A1  B1\n",
              "3  A2  B2\n",
              "4  A3  B3"
            ]
          },
          "metadata": {
            "tags": []
          },
          "execution_count": 56
        }
      ]
    },
    {
      "cell_type": "code",
      "metadata": {
        "id": "MbVHqKyvOTEJ",
        "colab": {
          "base_uri": "https://localhost:8080/",
          "height": 173
        },
        "outputId": "3ee1aebe-a947-48be-aa14-fd7ca054a411"
      },
      "source": [
        "right"
      ],
      "execution_count": null,
      "outputs": [
        {
          "output_type": "execute_result",
          "data": {
            "text/html": [
              "<div>\n",
              "<style scoped>\n",
              "    .dataframe tbody tr th:only-of-type {\n",
              "        vertical-align: middle;\n",
              "    }\n",
              "\n",
              "    .dataframe tbody tr th {\n",
              "        vertical-align: top;\n",
              "    }\n",
              "\n",
              "    .dataframe thead th {\n",
              "        text-align: right;\n",
              "    }\n",
              "</style>\n",
              "<table border=\"1\" class=\"dataframe\">\n",
              "  <thead>\n",
              "    <tr style=\"text-align: right;\">\n",
              "      <th></th>\n",
              "      <th>C</th>\n",
              "      <th>D</th>\n",
              "    </tr>\n",
              "  </thead>\n",
              "  <tbody>\n",
              "    <tr>\n",
              "      <th>5</th>\n",
              "      <td>C0</td>\n",
              "      <td>D0</td>\n",
              "    </tr>\n",
              "    <tr>\n",
              "      <th>4</th>\n",
              "      <td>C1</td>\n",
              "      <td>D1</td>\n",
              "    </tr>\n",
              "    <tr>\n",
              "      <th>7</th>\n",
              "      <td>C2</td>\n",
              "      <td>D2</td>\n",
              "    </tr>\n",
              "    <tr>\n",
              "      <th>1</th>\n",
              "      <td>C3</td>\n",
              "      <td>D3</td>\n",
              "    </tr>\n",
              "  </tbody>\n",
              "</table>\n",
              "</div>"
            ],
            "text/plain": [
              "    C   D\n",
              "5  C0  D0\n",
              "4  C1  D1\n",
              "7  C2  D2\n",
              "1  C3  D3"
            ]
          },
          "metadata": {
            "tags": []
          },
          "execution_count": 57
        }
      ]
    },
    {
      "cell_type": "markdown",
      "metadata": {
        "id": "x--BLn0_5aUW"
      },
      "source": [
        "### Try it out!"
      ]
    },
    {
      "cell_type": "code",
      "metadata": {
        "id": "-OhGZup13q_8",
        "colab": {
          "base_uri": "https://localhost:8080/"
        },
        "outputId": "aecfe96a-7dc1-416a-fb54-992d4021c193"
      },
      "source": [
        "# What does this do? (look at the index)\n",
        "left.join(right)\n",
        "\n",
        "# What does this do? (look at the index)\n",
        "right.join(left)\n",
        "\n",
        "# What does this do? (look at the index)\n",
        "left.join(right, how = 'outer')\n",
        "\n",
        "# What does this do? (look at the index)\n",
        "right.join(left, how = 'outer')\n",
        "\n",
        "# you're welcome to try out other combinations as well"
      ],
      "execution_count": null,
      "outputs": [
        {
          "output_type": "execute_result",
          "data": {
            "text/html": [
              "<div>\n",
              "<style scoped>\n",
              "    .dataframe tbody tr th:only-of-type {\n",
              "        vertical-align: middle;\n",
              "    }\n",
              "\n",
              "    .dataframe tbody tr th {\n",
              "        vertical-align: top;\n",
              "    }\n",
              "\n",
              "    .dataframe thead th {\n",
              "        text-align: right;\n",
              "    }\n",
              "</style>\n",
              "<table border=\"1\" class=\"dataframe\">\n",
              "  <thead>\n",
              "    <tr style=\"text-align: right;\">\n",
              "      <th></th>\n",
              "      <th>C</th>\n",
              "      <th>D</th>\n",
              "      <th>A</th>\n",
              "      <th>B</th>\n",
              "    </tr>\n",
              "  </thead>\n",
              "  <tbody>\n",
              "    <tr>\n",
              "      <th>1</th>\n",
              "      <td>C3</td>\n",
              "      <td>D3</td>\n",
              "      <td>A0</td>\n",
              "      <td>B0</td>\n",
              "    </tr>\n",
              "    <tr>\n",
              "      <th>2</th>\n",
              "      <td>NaN</td>\n",
              "      <td>NaN</td>\n",
              "      <td>A1</td>\n",
              "      <td>B1</td>\n",
              "    </tr>\n",
              "    <tr>\n",
              "      <th>3</th>\n",
              "      <td>NaN</td>\n",
              "      <td>NaN</td>\n",
              "      <td>A2</td>\n",
              "      <td>B2</td>\n",
              "    </tr>\n",
              "    <tr>\n",
              "      <th>4</th>\n",
              "      <td>C1</td>\n",
              "      <td>D1</td>\n",
              "      <td>A3</td>\n",
              "      <td>B3</td>\n",
              "    </tr>\n",
              "    <tr>\n",
              "      <th>5</th>\n",
              "      <td>C0</td>\n",
              "      <td>D0</td>\n",
              "      <td>NaN</td>\n",
              "      <td>NaN</td>\n",
              "    </tr>\n",
              "    <tr>\n",
              "      <th>7</th>\n",
              "      <td>C2</td>\n",
              "      <td>D2</td>\n",
              "      <td>NaN</td>\n",
              "      <td>NaN</td>\n",
              "    </tr>\n",
              "  </tbody>\n",
              "</table>\n",
              "</div>"
            ],
            "text/plain": [
              "     C    D    A    B\n",
              "1   C3   D3   A0   B0\n",
              "2  NaN  NaN   A1   B1\n",
              "3  NaN  NaN   A2   B2\n",
              "4   C1   D1   A3   B3\n",
              "5   C0   D0  NaN  NaN\n",
              "7   C2   D2  NaN  NaN"
            ]
          },
          "metadata": {
            "tags": []
          },
          "execution_count": 58
        }
      ]
    },
    {
      "cell_type": "markdown",
      "metadata": {
        "id": "mJroR0uT8Ls3"
      },
      "source": [
        "# Multi-indexing / Hierarchical indexing\n",
        "\n",
        "Pandas Dataframes generally have an \"index\": a column of a dataset that gives the name for each row. It works like a key that we use to access specific parts of the dataframe. But Pandas also supports a **MultiIndex**, in which the index for a row is some composite key of several columns, or you can think of it as\n",
        "an index hierachy."
      ]
    },
    {
      "cell_type": "code",
      "metadata": {
        "id": "3Xgaqqs5t635",
        "colab": {
          "base_uri": "https://localhost:8080/"
        },
        "outputId": "1e989d15-5c4f-4251-8416-9739c93d8366"
      },
      "source": [
        "# going back to our wildlife_df dataframe\n",
        "wildlife_eats = pd.DataFrame([['elephant','vegetables'], ['tiger','meat'], ['kangaroo','vegetables'], ['zebra','vegetables'], ['giraffe','vegetables']], columns=['animal', 'food'])\n",
        "# add another column \n",
        "wildlife_eats['water_need'] = [500, 450, 200, 230, 130]\n",
        "# view\n",
        "wildlife_eats"
      ],
      "execution_count": null,
      "outputs": [
        {
          "output_type": "execute_result",
          "data": {
            "text/html": [
              "<div>\n",
              "<style scoped>\n",
              "    .dataframe tbody tr th:only-of-type {\n",
              "        vertical-align: middle;\n",
              "    }\n",
              "\n",
              "    .dataframe tbody tr th {\n",
              "        vertical-align: top;\n",
              "    }\n",
              "\n",
              "    .dataframe thead th {\n",
              "        text-align: right;\n",
              "    }\n",
              "</style>\n",
              "<table border=\"1\" class=\"dataframe\">\n",
              "  <thead>\n",
              "    <tr style=\"text-align: right;\">\n",
              "      <th></th>\n",
              "      <th>animal</th>\n",
              "      <th>food</th>\n",
              "      <th>water_need</th>\n",
              "    </tr>\n",
              "  </thead>\n",
              "  <tbody>\n",
              "    <tr>\n",
              "      <th>0</th>\n",
              "      <td>elephant</td>\n",
              "      <td>vegetables</td>\n",
              "      <td>500</td>\n",
              "    </tr>\n",
              "    <tr>\n",
              "      <th>1</th>\n",
              "      <td>tiger</td>\n",
              "      <td>meat</td>\n",
              "      <td>450</td>\n",
              "    </tr>\n",
              "    <tr>\n",
              "      <th>2</th>\n",
              "      <td>kangaroo</td>\n",
              "      <td>vegetables</td>\n",
              "      <td>200</td>\n",
              "    </tr>\n",
              "    <tr>\n",
              "      <th>3</th>\n",
              "      <td>zebra</td>\n",
              "      <td>vegetables</td>\n",
              "      <td>230</td>\n",
              "    </tr>\n",
              "    <tr>\n",
              "      <th>4</th>\n",
              "      <td>giraffe</td>\n",
              "      <td>vegetables</td>\n",
              "      <td>130</td>\n",
              "    </tr>\n",
              "  </tbody>\n",
              "</table>\n",
              "</div>"
            ],
            "text/plain": [
              "     animal        food  water_need\n",
              "0  elephant  vegetables         500\n",
              "1     tiger        meat         450\n",
              "2  kangaroo  vegetables         200\n",
              "3     zebra  vegetables         230\n",
              "4   giraffe  vegetables         130"
            ]
          },
          "metadata": {
            "tags": []
          },
          "execution_count": 59
        }
      ]
    },
    {
      "cell_type": "markdown",
      "metadata": {
        "id": "NCVT8p137RQT"
      },
      "source": [
        "You can see that, right now, the index here are assigned by pandas by default called RangeIndex (integers that start with 0). And we use it when we want/need\n",
        "to slice rows in the same way as how we would slice a list."
      ]
    },
    {
      "cell_type": "code",
      "metadata": {
        "id": "9QqDtO36-dyj",
        "colab": {
          "base_uri": "https://localhost:8080/"
        },
        "outputId": "37fd7e50-caf2-4d80-f4ab-c3f1c831c361"
      },
      "source": [
        "wildlife_eats.index"
      ],
      "execution_count": null,
      "outputs": [
        {
          "output_type": "execute_result",
          "data": {
            "text/plain": [
              "RangeIndex(start=0, stop=5, step=1)"
            ]
          },
          "metadata": {
            "tags": []
          },
          "execution_count": 60
        }
      ]
    },
    {
      "cell_type": "markdown",
      "metadata": {
        "id": "oU-YciRZ_II9"
      },
      "source": [
        "The thing with this index is that it's not so informative. \n",
        "\n",
        "If you're going to label the rows of your DataFrame, it would be good to label them in a meaningful manner, if possible. \n",
        "\n",
        "Can you do this with the wildlife_eats? A good way to think about this challenge is that you want a **unique and meaningful identifier for each row**. Check out the columns and see if any matches these criteria. Notice that the animal column contains unique animals so it makes sense to label each row by the animal column. \n",
        "\n",
        "**Something good to know:** it is super common to want to set_index on a time series column (which is just a column of date & time to which the data is relevant). E.g. weather stations would have time series data for their measurements, and it is very useful for that column to be the index."
      ]
    },
    {
      "cell_type": "code",
      "metadata": {
        "id": "tIRg3kV2_oCT",
        "colab": {
          "base_uri": "https://localhost:8080/"
        },
        "outputId": "5785a169-8aa8-4a70-e8e5-4701ee59cc33"
      },
      "source": [
        "# Set new index\n",
        "# inplace = True -> we are modifying the dataframe inplace.\n",
        "wildlife_eats.set_index((wildlife_eats['animal']), inplace=True)\n",
        "wildlife_eats"
      ],
      "execution_count": null,
      "outputs": [
        {
          "output_type": "execute_result",
          "data": {
            "text/html": [
              "<div>\n",
              "<style scoped>\n",
              "    .dataframe tbody tr th:only-of-type {\n",
              "        vertical-align: middle;\n",
              "    }\n",
              "\n",
              "    .dataframe tbody tr th {\n",
              "        vertical-align: top;\n",
              "    }\n",
              "\n",
              "    .dataframe thead th {\n",
              "        text-align: right;\n",
              "    }\n",
              "</style>\n",
              "<table border=\"1\" class=\"dataframe\">\n",
              "  <thead>\n",
              "    <tr style=\"text-align: right;\">\n",
              "      <th></th>\n",
              "      <th>animal</th>\n",
              "      <th>food</th>\n",
              "      <th>water_need</th>\n",
              "    </tr>\n",
              "    <tr>\n",
              "      <th>animal</th>\n",
              "      <th></th>\n",
              "      <th></th>\n",
              "      <th></th>\n",
              "    </tr>\n",
              "  </thead>\n",
              "  <tbody>\n",
              "    <tr>\n",
              "      <th>elephant</th>\n",
              "      <td>elephant</td>\n",
              "      <td>vegetables</td>\n",
              "      <td>500</td>\n",
              "    </tr>\n",
              "    <tr>\n",
              "      <th>tiger</th>\n",
              "      <td>tiger</td>\n",
              "      <td>meat</td>\n",
              "      <td>450</td>\n",
              "    </tr>\n",
              "    <tr>\n",
              "      <th>kangaroo</th>\n",
              "      <td>kangaroo</td>\n",
              "      <td>vegetables</td>\n",
              "      <td>200</td>\n",
              "    </tr>\n",
              "    <tr>\n",
              "      <th>zebra</th>\n",
              "      <td>zebra</td>\n",
              "      <td>vegetables</td>\n",
              "      <td>230</td>\n",
              "    </tr>\n",
              "    <tr>\n",
              "      <th>giraffe</th>\n",
              "      <td>giraffe</td>\n",
              "      <td>vegetables</td>\n",
              "      <td>130</td>\n",
              "    </tr>\n",
              "  </tbody>\n",
              "</table>\n",
              "</div>"
            ],
            "text/plain": [
              "            animal        food  water_need\n",
              "animal                                    \n",
              "elephant  elephant  vegetables         500\n",
              "tiger        tiger        meat         450\n",
              "kangaroo  kangaroo  vegetables         200\n",
              "zebra        zebra  vegetables         230\n",
              "giraffe    giraffe  vegetables         130"
            ]
          },
          "metadata": {
            "tags": []
          },
          "execution_count": 61
        }
      ]
    },
    {
      "cell_type": "markdown",
      "metadata": {
        "id": "a3drSTqrAl19"
      },
      "source": [
        "Now we can simply use indexing to get row we want, ex. wildlife_eats.loc['zebra'].\n",
        "\n",
        "This index achieves our purpose, for now...\n",
        "\n",
        "What if we added another row and column?\n"
      ]
    },
    {
      "cell_type": "code",
      "metadata": {
        "id": "CSz3QKZaBGrX",
        "colab": {
          "base_uri": "https://localhost:8080/"
        },
        "outputId": "810a449e-dd1a-498c-a2fb-9157b5c7ac5d"
      },
      "source": [
        "\n",
        "# Add rows\n",
        "wildlife_eats2 = pd.DataFrame([['elephant','vegetables', 240], ['zebra','vegetables', 140]], columns=['animal', 'food', 'water_need'])\n",
        "# set index\n",
        "wildlife_eats2.set_index((wildlife_eats2['animal']), inplace=True)\n",
        "# concatenate on row axis\n",
        "new_wildlife_eats = pd.concat([wildlife_eats, wildlife_eats2])\n",
        "# Add column\n",
        "new_wildlife_eats['fav_programming_language'] = ['python', 'python', 'python', 'java', 'c#', 'javascript', 'ruby']\n",
        "# view\n",
        "new_wildlife_eats\n"
      ],
      "execution_count": null,
      "outputs": [
        {
          "output_type": "execute_result",
          "data": {
            "text/html": [
              "<div>\n",
              "<style scoped>\n",
              "    .dataframe tbody tr th:only-of-type {\n",
              "        vertical-align: middle;\n",
              "    }\n",
              "\n",
              "    .dataframe tbody tr th {\n",
              "        vertical-align: top;\n",
              "    }\n",
              "\n",
              "    .dataframe thead th {\n",
              "        text-align: right;\n",
              "    }\n",
              "</style>\n",
              "<table border=\"1\" class=\"dataframe\">\n",
              "  <thead>\n",
              "    <tr style=\"text-align: right;\">\n",
              "      <th></th>\n",
              "      <th>animal</th>\n",
              "      <th>food</th>\n",
              "      <th>water_need</th>\n",
              "      <th>fav_programming_language</th>\n",
              "    </tr>\n",
              "    <tr>\n",
              "      <th>animal</th>\n",
              "      <th></th>\n",
              "      <th></th>\n",
              "      <th></th>\n",
              "      <th></th>\n",
              "    </tr>\n",
              "  </thead>\n",
              "  <tbody>\n",
              "    <tr>\n",
              "      <th>elephant</th>\n",
              "      <td>elephant</td>\n",
              "      <td>vegetables</td>\n",
              "      <td>500</td>\n",
              "      <td>python</td>\n",
              "    </tr>\n",
              "    <tr>\n",
              "      <th>tiger</th>\n",
              "      <td>tiger</td>\n",
              "      <td>meat</td>\n",
              "      <td>450</td>\n",
              "      <td>python</td>\n",
              "    </tr>\n",
              "    <tr>\n",
              "      <th>kangaroo</th>\n",
              "      <td>kangaroo</td>\n",
              "      <td>vegetables</td>\n",
              "      <td>200</td>\n",
              "      <td>python</td>\n",
              "    </tr>\n",
              "    <tr>\n",
              "      <th>zebra</th>\n",
              "      <td>zebra</td>\n",
              "      <td>vegetables</td>\n",
              "      <td>230</td>\n",
              "      <td>java</td>\n",
              "    </tr>\n",
              "    <tr>\n",
              "      <th>giraffe</th>\n",
              "      <td>giraffe</td>\n",
              "      <td>vegetables</td>\n",
              "      <td>130</td>\n",
              "      <td>c#</td>\n",
              "    </tr>\n",
              "    <tr>\n",
              "      <th>elephant</th>\n",
              "      <td>elephant</td>\n",
              "      <td>vegetables</td>\n",
              "      <td>240</td>\n",
              "      <td>javascript</td>\n",
              "    </tr>\n",
              "    <tr>\n",
              "      <th>zebra</th>\n",
              "      <td>zebra</td>\n",
              "      <td>vegetables</td>\n",
              "      <td>140</td>\n",
              "      <td>ruby</td>\n",
              "    </tr>\n",
              "  </tbody>\n",
              "</table>\n",
              "</div>"
            ],
            "text/plain": [
              "            animal        food  water_need fav_programming_language\n",
              "animal                                                             \n",
              "elephant  elephant  vegetables         500                   python\n",
              "tiger        tiger        meat         450                   python\n",
              "kangaroo  kangaroo  vegetables         200                   python\n",
              "zebra        zebra  vegetables         230                     java\n",
              "giraffe    giraffe  vegetables         130                       c#\n",
              "elephant  elephant  vegetables         240               javascript\n",
              "zebra        zebra  vegetables         140                     ruby"
            ]
          },
          "metadata": {
            "tags": []
          },
          "execution_count": 62
        }
      ]
    },
    {
      "cell_type": "markdown",
      "metadata": {
        "id": "bQJK7TUYCim8"
      },
      "source": [
        "Now, the animal index by itself isn't enough for us to identify each row uniquely. We need multi-index. Notice that, if we have two indexes (animal\n",
        "and fav_programming_language), then we can identify each row uniquely."
      ]
    },
    {
      "cell_type": "code",
      "metadata": {
        "id": "DCs2tkqWCtou",
        "colab": {
          "base_uri": "https://localhost:8080/"
        },
        "outputId": "1fe84342-1e1d-4f04-b770-2713a542a362"
      },
      "source": [
        "# Let's do it\n",
        "new_wildlife_eats2 = new_wildlife_eats.set_index(['animal', 'fav_programming_language'])\n",
        "# view it\n",
        "new_wildlife_eats2"
      ],
      "execution_count": null,
      "outputs": [
        {
          "output_type": "execute_result",
          "data": {
            "text/html": [
              "<div>\n",
              "<style scoped>\n",
              "    .dataframe tbody tr th:only-of-type {\n",
              "        vertical-align: middle;\n",
              "    }\n",
              "\n",
              "    .dataframe tbody tr th {\n",
              "        vertical-align: top;\n",
              "    }\n",
              "\n",
              "    .dataframe thead th {\n",
              "        text-align: right;\n",
              "    }\n",
              "</style>\n",
              "<table border=\"1\" class=\"dataframe\">\n",
              "  <thead>\n",
              "    <tr style=\"text-align: right;\">\n",
              "      <th></th>\n",
              "      <th></th>\n",
              "      <th>food</th>\n",
              "      <th>water_need</th>\n",
              "    </tr>\n",
              "    <tr>\n",
              "      <th>animal</th>\n",
              "      <th>fav_programming_language</th>\n",
              "      <th></th>\n",
              "      <th></th>\n",
              "    </tr>\n",
              "  </thead>\n",
              "  <tbody>\n",
              "    <tr>\n",
              "      <th>elephant</th>\n",
              "      <th>python</th>\n",
              "      <td>vegetables</td>\n",
              "      <td>500</td>\n",
              "    </tr>\n",
              "    <tr>\n",
              "      <th>tiger</th>\n",
              "      <th>python</th>\n",
              "      <td>meat</td>\n",
              "      <td>450</td>\n",
              "    </tr>\n",
              "    <tr>\n",
              "      <th>kangaroo</th>\n",
              "      <th>python</th>\n",
              "      <td>vegetables</td>\n",
              "      <td>200</td>\n",
              "    </tr>\n",
              "    <tr>\n",
              "      <th>zebra</th>\n",
              "      <th>java</th>\n",
              "      <td>vegetables</td>\n",
              "      <td>230</td>\n",
              "    </tr>\n",
              "    <tr>\n",
              "      <th>giraffe</th>\n",
              "      <th>c#</th>\n",
              "      <td>vegetables</td>\n",
              "      <td>130</td>\n",
              "    </tr>\n",
              "    <tr>\n",
              "      <th>elephant</th>\n",
              "      <th>javascript</th>\n",
              "      <td>vegetables</td>\n",
              "      <td>240</td>\n",
              "    </tr>\n",
              "    <tr>\n",
              "      <th>zebra</th>\n",
              "      <th>ruby</th>\n",
              "      <td>vegetables</td>\n",
              "      <td>140</td>\n",
              "    </tr>\n",
              "  </tbody>\n",
              "</table>\n",
              "</div>"
            ],
            "text/plain": [
              "                                         food  water_need\n",
              "animal   fav_programming_language                        \n",
              "elephant python                    vegetables         500\n",
              "tiger    python                          meat         450\n",
              "kangaroo python                    vegetables         200\n",
              "zebra    java                      vegetables         230\n",
              "giraffe  c#                        vegetables         130\n",
              "elephant javascript                vegetables         240\n",
              "zebra    ruby                      vegetables         140"
            ]
          },
          "metadata": {
            "tags": []
          },
          "execution_count": 63
        }
      ]
    },
    {
      "cell_type": "markdown",
      "metadata": {
        "id": "RLdptmOCGTBK"
      },
      "source": [
        "Now we've a created a multi-index, or hierarchical index, and you can see this by checking out the index:"
      ]
    },
    {
      "cell_type": "code",
      "metadata": {
        "id": "NXpsV7qNGcnN",
        "colab": {
          "base_uri": "https://localhost:8080/"
        },
        "outputId": "62cf602d-e432-4e5b-beaa-675b5878e953"
      },
      "source": [
        "new_wildlife_eats2.index"
      ],
      "execution_count": null,
      "outputs": [
        {
          "output_type": "execute_result",
          "data": {
            "text/plain": [
              "MultiIndex([('elephant',     'python'),\n",
              "            (   'tiger',     'python'),\n",
              "            ('kangaroo',     'python'),\n",
              "            (   'zebra',       'java'),\n",
              "            ( 'giraffe',         'c#'),\n",
              "            ('elephant', 'javascript'),\n",
              "            (   'zebra',       'ruby')],\n",
              "           names=['animal', 'fav_programming_language'])"
            ]
          },
          "metadata": {
            "tags": []
          },
          "execution_count": 64
        }
      ]
    },
    {
      "cell_type": "markdown",
      "metadata": {
        "id": "EGGUbCBxGmc7"
      },
      "source": [
        "This tells us that the DataFrame df now has a MultiIndex with two levels, the first given by the animal, the second by the the fav_programming_language. Recall that above you were able to slice the DataFrame using the index and the .loc accessor(ex. wildlife_eats.loc['zebra']. To be able to slice with a multi-index, we need to sort the index first:"
      ]
    },
    {
      "cell_type": "code",
      "metadata": {
        "id": "treyrQMnHTae",
        "colab": {
          "base_uri": "https://localhost:8080/"
        },
        "outputId": "958bea7d-0da5-4d54-c89c-dc9832abcaa7"
      },
      "source": [
        "# sort it\n",
        "new_wildlife_eats2.sort_index(inplace = True)\n",
        "# view it\n",
        "new_wildlife_eats2"
      ],
      "execution_count": null,
      "outputs": [
        {
          "output_type": "execute_result",
          "data": {
            "text/html": [
              "<div>\n",
              "<style scoped>\n",
              "    .dataframe tbody tr th:only-of-type {\n",
              "        vertical-align: middle;\n",
              "    }\n",
              "\n",
              "    .dataframe tbody tr th {\n",
              "        vertical-align: top;\n",
              "    }\n",
              "\n",
              "    .dataframe thead th {\n",
              "        text-align: right;\n",
              "    }\n",
              "</style>\n",
              "<table border=\"1\" class=\"dataframe\">\n",
              "  <thead>\n",
              "    <tr style=\"text-align: right;\">\n",
              "      <th></th>\n",
              "      <th></th>\n",
              "      <th>food</th>\n",
              "      <th>water_need</th>\n",
              "    </tr>\n",
              "    <tr>\n",
              "      <th>animal</th>\n",
              "      <th>fav_programming_language</th>\n",
              "      <th></th>\n",
              "      <th></th>\n",
              "    </tr>\n",
              "  </thead>\n",
              "  <tbody>\n",
              "    <tr>\n",
              "      <th rowspan=\"2\" valign=\"top\">elephant</th>\n",
              "      <th>javascript</th>\n",
              "      <td>vegetables</td>\n",
              "      <td>240</td>\n",
              "    </tr>\n",
              "    <tr>\n",
              "      <th>python</th>\n",
              "      <td>vegetables</td>\n",
              "      <td>500</td>\n",
              "    </tr>\n",
              "    <tr>\n",
              "      <th>giraffe</th>\n",
              "      <th>c#</th>\n",
              "      <td>vegetables</td>\n",
              "      <td>130</td>\n",
              "    </tr>\n",
              "    <tr>\n",
              "      <th>kangaroo</th>\n",
              "      <th>python</th>\n",
              "      <td>vegetables</td>\n",
              "      <td>200</td>\n",
              "    </tr>\n",
              "    <tr>\n",
              "      <th>tiger</th>\n",
              "      <th>python</th>\n",
              "      <td>meat</td>\n",
              "      <td>450</td>\n",
              "    </tr>\n",
              "    <tr>\n",
              "      <th rowspan=\"2\" valign=\"top\">zebra</th>\n",
              "      <th>java</th>\n",
              "      <td>vegetables</td>\n",
              "      <td>230</td>\n",
              "    </tr>\n",
              "    <tr>\n",
              "      <th>ruby</th>\n",
              "      <td>vegetables</td>\n",
              "      <td>140</td>\n",
              "    </tr>\n",
              "  </tbody>\n",
              "</table>\n",
              "</div>"
            ],
            "text/plain": [
              "                                         food  water_need\n",
              "animal   fav_programming_language                        \n",
              "elephant javascript                vegetables         240\n",
              "         python                    vegetables         500\n",
              "giraffe  c#                        vegetables         130\n",
              "kangaroo python                    vegetables         200\n",
              "tiger    python                          meat         450\n",
              "zebra    java                      vegetables         230\n",
              "         ruby                      vegetables         140"
            ]
          },
          "metadata": {
            "tags": []
          },
          "execution_count": 65
        }
      ]
    },
    {
      "cell_type": "markdown",
      "metadata": {
        "id": "JjFsReqvHhiP"
      },
      "source": [
        "Much more nicer! Now, we can go ahead and slice!"
      ]
    },
    {
      "cell_type": "code",
      "metadata": {
        "id": "USBDzyPUHq7g",
        "colab": {
          "base_uri": "https://localhost:8080/"
        },
        "outputId": "d54e89bf-8ca3-4b2c-a917-c5db1120df0a"
      },
      "source": [
        "new_wildlife_eats2.loc['elephant', 'javascript']"
      ],
      "execution_count": null,
      "outputs": [
        {
          "output_type": "execute_result",
          "data": {
            "text/plain": [
              "food          vegetables\n",
              "water_need           240\n",
              "Name: (elephant, javascript), dtype: object"
            ]
          },
          "metadata": {
            "tags": []
          },
          "execution_count": 66
        }
      ]
    },
    {
      "cell_type": "markdown",
      "metadata": {
        "id": "R19r2UyfH4O5"
      },
      "source": [
        "Ok, now we know that an elephant whose favourite language is javascript likes to eat vegetables and has water_need = 240 :D"
      ]
    },
    {
      "cell_type": "markdown",
      "metadata": {
        "id": "-_ptJ0qlIFOS"
      },
      "source": [
        "### Exercise time!\n",
        "**Your task:** add row / columns to new_wildlife_eats so that the two indexes animal and fav_programming language are now insufficient to identify each row uniquely.\n",
        "And then, add an index so that it does again. (Note: this is an open task so \n",
        "there won't be a solution. And you're welcome look at what I did above for reference :))"
      ]
    },
    {
      "cell_type": "code",
      "metadata": {
        "id": "8D70KWWOI2bX"
      },
      "source": [
        "# TODO: add rows/& columns to new_wildlife_eats so the two indexes we have now don't work.\n",
        "\n",
        "# TODO: add a new index so it works!\n",
        "\n",
        "# TODO: remember to sort the index\n",
        "\n",
        "# TODO: slice it!"
      ],
      "execution_count": null,
      "outputs": []
    },
    {
      "cell_type": "markdown",
      "metadata": {
        "id": "fDzaH1yfPskj"
      },
      "source": [
        "# Data Aggregation\n",
        "\n",
        "In theory, data aggregation is the process of turning the values of datasets into a single value. For example, one of the data aggregation methods that can be applied for the following DataFrame is one that sums up the water_need\n",
        "for all the animals.\n",
        "\n",
        "\n",
        " ![alt text](https://i.paste.pics/9K5P5.png)\n"
      ]
    },
    {
      "cell_type": "markdown",
      "metadata": {
        "id": "hwuCp70QSaxS"
      },
      "source": [
        "Now, we'll see this concept in practice."
      ]
    },
    {
      "cell_type": "markdown",
      "metadata": {
        "id": "USLDEQgSSn6x"
      },
      "source": [
        "1. count( )"
      ]
    },
    {
      "cell_type": "code",
      "metadata": {
        "id": "MwQruC8rSfhO"
      },
      "source": [
        "# We'll use the dataframe we started with - wildlife_df\n",
        "wildlife_df.count()"
      ],
      "execution_count": null,
      "outputs": []
    },
    {
      "cell_type": "markdown",
      "metadata": {
        "id": "fNFpCsXRTT1d"
      },
      "source": [
        "Recall that wildlife_df only have two columns, animal and water_need. The count()\n",
        "function counts the number of values in each column. In this case, we can see that each column has 22 values in it."
      ]
    },
    {
      "cell_type": "markdown",
      "metadata": {
        "id": "SZszVbmdYE8M"
      },
      "source": [
        "Now, what if I only wants to know how many values there are in the animal column? There're two ways we can do this."
      ]
    },
    {
      "cell_type": "code",
      "metadata": {
        "id": "p_jj7Q_OX9jc",
        "colab": {
          "base_uri": "https://localhost:8080/"
        },
        "outputId": "7fa595d2-d225-4fc4-9ff2-a862640d1517"
      },
      "source": [
        "# First way\n",
        "# apply the method on the animal part of the dataframe\n",
        "# note here that it doesn't matter if it's wildlife_df['animal'] or wildlife_df[['animal']] because\n",
        "# both dataframe and series has the count method\n",
        "# An advantage of applying the count method in series is that it'll give us a nicer output.\n",
        "\n",
        "# Try commenting the second method call to see what the first one's output looks like \n",
        "wildlife_df[['animal']].count()\n",
        "wildlife_df['animal'].count()"
      ],
      "execution_count": null,
      "outputs": [
        {
          "output_type": "execute_result",
          "data": {
            "text/plain": [
              "22"
            ]
          },
          "metadata": {
            "tags": []
          },
          "execution_count": 68
        }
      ]
    },
    {
      "cell_type": "code",
      "metadata": {
        "id": "-7pf1L8WYfPY",
        "colab": {
          "base_uri": "https://localhost:8080/"
        },
        "outputId": "e01861d5-e575-4da6-ec73-fbd4ec631dff"
      },
      "source": [
        "# Second way\n",
        "# This also works because wildlife_df.animal is the animal part of wildlife_df as a series\n",
        "wildlife_df.animal.count()"
      ],
      "execution_count": null,
      "outputs": [
        {
          "output_type": "execute_result",
          "data": {
            "text/plain": [
              "22"
            ]
          },
          "metadata": {
            "tags": []
          },
          "execution_count": 69
        }
      ]
    },
    {
      "cell_type": "markdown",
      "metadata": {
        "id": "s1-vVxRg6jtH"
      },
      "source": [
        "2. sum( )"
      ]
    },
    {
      "cell_type": "code",
      "metadata": {
        "id": "44VsvDzIJTMi",
        "colab": {
          "base_uri": "https://localhost:8080/"
        },
        "outputId": "b3ff5e80-a5ea-49de-819b-ad9993fe8347"
      },
      "source": [
        "# we can use this method get the sum of the values in the water_need column\n",
        "wildlife_df['water_need'].sum() "
      ],
      "execution_count": null,
      "outputs": [
        {
          "output_type": "execute_result",
          "data": {
            "text/plain": [
              "7650"
            ]
          },
          "metadata": {
            "tags": []
          },
          "execution_count": 70
        }
      ]
    },
    {
      "cell_type": "markdown",
      "metadata": {
        "id": "x_JZ44DIJ9eh"
      },
      "source": [
        "What will happen if we apply the same method on the animal column? Let's try it!"
      ]
    },
    {
      "cell_type": "code",
      "metadata": {
        "id": "tA2d6snrJ8lT",
        "colab": {
          "base_uri": "https://localhost:8080/",
          "height": 35
        },
        "outputId": "a4ad39b2-c212-480a-e8fe-1dd1350fb994"
      },
      "source": [
        "wildlife_df['animal'].sum()"
      ],
      "execution_count": null,
      "outputs": [
        {
          "output_type": "execute_result",
          "data": {
            "application/vnd.google.colaboratory.intrinsic+json": {
              "type": "string"
            },
            "text/plain": [
              "'elephantelephantelephanttigertigertigertigertigerzebrazebrazebrazebrazebrazebrazebralionlionlionlionhyppohyppohyppo'"
            ]
          },
          "metadata": {
            "tags": []
          },
          "execution_count": 71
        }
      ]
    },
    {
      "cell_type": "markdown",
      "metadata": {
        "id": "fbXsC3eWKPLO"
      },
      "source": [
        "So, python turns all the values in the animal column into one string of animal names, which is very cool."
      ]
    },
    {
      "cell_type": "markdown",
      "metadata": {
        "id": "b2mLJ98VLnle"
      },
      "source": [
        "3. min( ) and max( )"
      ]
    },
    {
      "cell_type": "code",
      "metadata": {
        "id": "jsV5uDEcL3_s",
        "colab": {
          "base_uri": "https://localhost:8080/"
        },
        "outputId": "9e3d3ec3-9ba2-46da-ee33-72d978eb5d73"
      },
      "source": [
        "# I guess you can already tell what these two methods do by their name.\n",
        "# Let's try to apply them on the water_need column!\n",
        "wildlife_df['water_need'].min()"
      ],
      "execution_count": null,
      "outputs": [
        {
          "output_type": "execute_result",
          "data": {
            "text/plain": [
              "80"
            ]
          },
          "metadata": {
            "tags": []
          },
          "execution_count": 72
        }
      ]
    },
    {
      "cell_type": "code",
      "metadata": {
        "id": "U1ipdzinMQFN",
        "colab": {
          "base_uri": "https://localhost:8080/"
        },
        "outputId": "fbb6930d-6863-4ee3-c529-9454bee9d697"
      },
      "source": [
        "wildlife_df['water_need'].max()"
      ],
      "execution_count": null,
      "outputs": [
        {
          "output_type": "execute_result",
          "data": {
            "text/plain": [
              "600"
            ]
          },
          "metadata": {
            "tags": []
          },
          "execution_count": 73
        }
      ]
    },
    {
      "cell_type": "markdown",
      "metadata": {
        "id": "Hrb2iCQ7Ms3F"
      },
      "source": [
        "That was simple.\n",
        "\n",
        "As an exercise, try the same methods on the animal column and see what you discover!"
      ]
    },
    {
      "cell_type": "code",
      "metadata": {
        "id": "B1aMO18lQ1AB"
      },
      "source": [
        "# Try it here\n",
        "\n",
        "# What have you discovered?"
      ],
      "execution_count": null,
      "outputs": []
    },
    {
      "cell_type": "markdown",
      "metadata": {
        "id": "ZvqhsP5WMTwj"
      },
      "source": [
        "## Exercise (+ learning) time!"
      ]
    },
    {
      "cell_type": "markdown",
      "metadata": {
        "id": "y3LDgHhdOLo8"
      },
      "source": [
        "We assume you got the mechanics of how these methods work now,\n",
        "so for this part, we invite you to find the difference between\n",
        "the mean for the first 5 rows of the wildlife_df dataframe's water_need column\n",
        "and the median for the last 5 rows of the wildlife_df dataframe's water_need column.\n",
        "\n",
        "Hint: use mean( ) and median( ) methods"
      ]
    },
    {
      "cell_type": "code",
      "metadata": {
        "id": "EngiwgF6MjXe"
      },
      "source": [
        "# TODO: save the first 5 columns of the wildlife_df dataframe to a variable \n",
        "# TODO: save the last 5 columns of the wildlife_df dataframe to a variable\n",
        "# TODO: find the statistics you need \n",
        "# TODO: find their difference"
      ],
      "execution_count": null,
      "outputs": []
    },
    {
      "cell_type": "code",
      "metadata": {
        "id": "aAXFX7s2Ppxz",
        "cellView": "form",
        "colab": {
          "base_uri": "https://localhost:8080/"
        },
        "outputId": "8b2b5d07-8209-41c1-d36a-b30246d8bfe6"
      },
      "source": [
        "#@title Solution (double click to see)\n",
        "# hidden solution\n",
        "# first five rows\n",
        "first_5 = wildlife_df.head()\n",
        "# last five rows\n",
        "last_5 = wildlife_df.tail()\n",
        "# the difference between the stats\n",
        "diff = first_5['water_need'].mean() - last_5['water_need'].median()\n",
        "diff"
      ],
      "execution_count": null,
      "outputs": [
        {
          "output_type": "execute_result",
          "data": {
            "text/plain": [
              "44.0"
            ]
          },
          "metadata": {
            "tags": []
          },
          "execution_count": 75
        }
      ]
    },
    {
      "cell_type": "markdown",
      "metadata": {
        "id": "XZcDYkA18Q7R"
      },
      "source": [
        "# Grouping\n",
        "\n",
        "From the last section, you've learned how to get certain aggregation values\n",
        "for any column of the dataframe. Of course, you can also get it for a specific number of rows. But these methods become insufficient by themselves when we want to get certain aggregation values for a certain group (ex. elephant, in the case of wildlife_df)*.\n",
        "\n",
        "*It is often useful to get aggregation values by type (ex. animal type). With that we can do some comparisons between the groups and/or find outliers."
      ]
    },
    {
      "cell_type": "markdown",
      "metadata": {
        "id": "Os5ocSKqT-j5"
      },
      "source": [
        "While we can always view the dataframe and then do some dataframe operations to get a dataframe of only elephants and then get the aggregation values, there\n",
        "is a much simpler way of achieving this, which is panda's groupby method.\n"
      ]
    },
    {
      "cell_type": "markdown",
      "metadata": {
        "id": "_Rku6njtT_4d"
      },
      "source": [
        "Here's an image for you to get the intuition:\n",
        "\n",
        "![alt text](https://data36.com/wp-content/uploads/2018/07/pandas-grouping-explained-768x510.png)\n",
        "\n",
        "cr: https://data36.com/wp-content/uploads/2018/07/pandas-grouping-explained-768x510.png"
      ]
    },
    {
      "cell_type": "markdown",
      "metadata": {
        "id": "5c-iq500jDtZ"
      },
      "source": [
        "### The groupby method"
      ]
    },
    {
      "cell_type": "markdown",
      "metadata": {
        "id": "BI-6Q4vmU6lW"
      },
      "source": [
        "Now, let's take the intuition into action!\n",
        "\n",
        "What you only need to do is to fit another method between\n",
        "wildlife_df and mean( ) --- groupby( )\n",
        "\n",
        "We call the groupby method with the name of the column we want to group on (the animal column, in this case) and then use [['water_need']] to specify the column that we want get a certain aggregation value on. This gives us the nice dataframe below that shows the mean water_need for each animal kind."
      ]
    },
    {
      "cell_type": "code",
      "metadata": {
        "id": "8l1tcgApHp2V",
        "colab": {
          "base_uri": "https://localhost:8080/",
          "height": 235
        },
        "outputId": "8c1d9d8e-d6e5-4b8f-df98-79810ecc7b90"
      },
      "source": [
        "wildlife_df.groupby('animal')[['water_need']].mean()\n",
        "# If you get rid of one pair of the [] for the \"water_need\", \n",
        "# it'll be a series"
      ],
      "execution_count": null,
      "outputs": [
        {
          "output_type": "execute_result",
          "data": {
            "text/html": [
              "<div>\n",
              "<style scoped>\n",
              "    .dataframe tbody tr th:only-of-type {\n",
              "        vertical-align: middle;\n",
              "    }\n",
              "\n",
              "    .dataframe tbody tr th {\n",
              "        vertical-align: top;\n",
              "    }\n",
              "\n",
              "    .dataframe thead th {\n",
              "        text-align: right;\n",
              "    }\n",
              "</style>\n",
              "<table border=\"1\" class=\"dataframe\">\n",
              "  <thead>\n",
              "    <tr style=\"text-align: right;\">\n",
              "      <th></th>\n",
              "      <th>water_need</th>\n",
              "    </tr>\n",
              "    <tr>\n",
              "      <th>animal</th>\n",
              "      <th></th>\n",
              "    </tr>\n",
              "  </thead>\n",
              "  <tbody>\n",
              "    <tr>\n",
              "      <th>elephant</th>\n",
              "      <td>550.000000</td>\n",
              "    </tr>\n",
              "    <tr>\n",
              "      <th>hyppo</th>\n",
              "      <td>416.666667</td>\n",
              "    </tr>\n",
              "    <tr>\n",
              "      <th>lion</th>\n",
              "      <td>477.500000</td>\n",
              "    </tr>\n",
              "    <tr>\n",
              "      <th>tiger</th>\n",
              "      <td>310.000000</td>\n",
              "    </tr>\n",
              "    <tr>\n",
              "      <th>zebra</th>\n",
              "      <td>184.285714</td>\n",
              "    </tr>\n",
              "  </tbody>\n",
              "</table>\n",
              "</div>"
            ],
            "text/plain": [
              "          water_need\n",
              "animal              \n",
              "elephant  550.000000\n",
              "hyppo     416.666667\n",
              "lion      477.500000\n",
              "tiger     310.000000\n",
              "zebra     184.285714"
            ]
          },
          "metadata": {
            "tags": []
          },
          "execution_count": 76
        }
      ]
    },
    {
      "cell_type": "markdown",
      "metadata": {
        "id": "qCGHIywiVypX"
      },
      "source": [
        "You can pass a lot more than a string argument to groupby() as the first argument:\n",
        "- A list of multiple column names\n",
        "- A dict or Pandas Series\n",
        "- A NumPy array or Pandas Index, or an array-like iterable of these\n",
        "\n",
        "Here's an example of grouping on two columns at a time:"
      ]
    },
    {
      "cell_type": "code",
      "metadata": {
        "id": "RC16vMppXP_P",
        "colab": {
          "base_uri": "https://localhost:8080/",
          "height": 297
        },
        "outputId": "256a3324-2d2e-44ba-f0d6-683526b29a29"
      },
      "source": [
        "new_wildlife_eats2.groupby(['animal', 'fav_programming_language'])[['water_need']].count()"
      ],
      "execution_count": null,
      "outputs": [
        {
          "output_type": "execute_result",
          "data": {
            "text/html": [
              "<div>\n",
              "<style scoped>\n",
              "    .dataframe tbody tr th:only-of-type {\n",
              "        vertical-align: middle;\n",
              "    }\n",
              "\n",
              "    .dataframe tbody tr th {\n",
              "        vertical-align: top;\n",
              "    }\n",
              "\n",
              "    .dataframe thead th {\n",
              "        text-align: right;\n",
              "    }\n",
              "</style>\n",
              "<table border=\"1\" class=\"dataframe\">\n",
              "  <thead>\n",
              "    <tr style=\"text-align: right;\">\n",
              "      <th></th>\n",
              "      <th></th>\n",
              "      <th>water_need</th>\n",
              "    </tr>\n",
              "    <tr>\n",
              "      <th>animal</th>\n",
              "      <th>fav_programming_language</th>\n",
              "      <th></th>\n",
              "    </tr>\n",
              "  </thead>\n",
              "  <tbody>\n",
              "    <tr>\n",
              "      <th rowspan=\"2\" valign=\"top\">elephant</th>\n",
              "      <th>javascript</th>\n",
              "      <td>1</td>\n",
              "    </tr>\n",
              "    <tr>\n",
              "      <th>python</th>\n",
              "      <td>1</td>\n",
              "    </tr>\n",
              "    <tr>\n",
              "      <th>giraffe</th>\n",
              "      <th>c#</th>\n",
              "      <td>1</td>\n",
              "    </tr>\n",
              "    <tr>\n",
              "      <th>kangaroo</th>\n",
              "      <th>python</th>\n",
              "      <td>1</td>\n",
              "    </tr>\n",
              "    <tr>\n",
              "      <th>tiger</th>\n",
              "      <th>python</th>\n",
              "      <td>1</td>\n",
              "    </tr>\n",
              "    <tr>\n",
              "      <th rowspan=\"2\" valign=\"top\">zebra</th>\n",
              "      <th>java</th>\n",
              "      <td>1</td>\n",
              "    </tr>\n",
              "    <tr>\n",
              "      <th>ruby</th>\n",
              "      <td>1</td>\n",
              "    </tr>\n",
              "  </tbody>\n",
              "</table>\n",
              "</div>"
            ],
            "text/plain": [
              "                                   water_need\n",
              "animal   fav_programming_language            \n",
              "elephant javascript                         1\n",
              "         python                             1\n",
              "giraffe  c#                                 1\n",
              "kangaroo python                             1\n",
              "tiger    python                             1\n",
              "zebra    java                               1\n",
              "         ruby                               1"
            ]
          },
          "metadata": {
            "tags": []
          },
          "execution_count": 77
        }
      ]
    },
    {
      "cell_type": "markdown",
      "metadata": {
        "id": "jnG4yKjBYZ5h"
      },
      "source": [
        "It might be more suitable to do this when 'animal' and 'fav_programming_language' do not uniquely identify each animal,\n",
        "but this is just to illustrate the point that you can groupby multiple columns at a time."
      ]
    },
    {
      "cell_type": "markdown",
      "metadata": {
        "id": "uZb6uc4dakqG"
      },
      "source": [
        "### Explore time!"
      ]
    },
    {
      "cell_type": "markdown",
      "metadata": {
        "id": "CQLVhQp3Zq8Z"
      },
      "source": [
        "If you look at the indexes of this dataframe more carefully, you'll see that they're sorted. Yes, groupby() has a parameter called sort that is true by default. We encourage you to look up pandas official documentation for groupby\n",
        "and play around with its parameters.\n",
        "\n",
        "https://pandas.pydata.org/pandas-docs/stable/reference/api/pandas.DataFrame.groupby.html"
      ]
    },
    {
      "cell_type": "code",
      "metadata": {
        "id": "HJCI-twDabUk"
      },
      "source": [
        "# Experiment with groupby's parameters!\n"
      ],
      "execution_count": null,
      "outputs": []
    },
    {
      "cell_type": "markdown",
      "metadata": {
        "id": "4P0q_KLMSLeb"
      },
      "source": [
        "### How does groupby work?\n",
        "\n"
      ]
    },
    {
      "cell_type": "markdown",
      "metadata": {
        "id": "sMx_c1fjhpKq"
      },
      "source": [
        "One term that’s frequently used along with.groupby() is split-apply-combine. This refers to these steps:\n",
        "\n",
        "- Split a table into groups\n",
        "- Apply some operations to each of those smaller tables\n",
        "- Combine the results"
      ]
    },
    {
      "cell_type": "markdown",
      "metadata": {
        "id": "LlgJ_vkPi7o9"
      },
      "source": [
        "It's hard to inspect the groupby method itself because it actually does none of the things listed above until we apply a method on it. So how do we mentally separate the three steps if we can't see them each occuring on their own?\n"
      ]
    },
    {
      "cell_type": "markdown",
      "metadata": {
        "id": "UJU_nmnskO9l"
      },
      "source": [
        "####Split\n",
        "\n",
        "One good way to visualize the split part is to iterate over the groupby object"
      ]
    },
    {
      "cell_type": "code",
      "metadata": {
        "id": "ZN7a3q4bk1Mb",
        "colab": {
          "base_uri": "https://localhost:8080/"
        },
        "outputId": "534a601b-d91e-4127-b4dd-528b251b1bd2"
      },
      "source": [
        "#groupby object\n",
        "animal_groups = wildlife_df.groupby('animal')\n",
        "\n",
        "#iterate over it\n",
        "#Use a double variable for loop to iterate over\n",
        "#values and groups in the grouped DataFrame.\n",
        "for animal, group in animal_groups:\n",
        "   print(f\"First 2 entries for {animal}\")\n",
        "   print(\"------------------------\")\n",
        "   print(group.head(2), end=\"\\n\\n\")"
      ],
      "execution_count": null,
      "outputs": [
        {
          "output_type": "stream",
          "text": [
            "First 2 entries for elephant\n",
            "------------------------\n",
            "           animal  water_need water_need_category  diff_from_mean\n",
            "uniq_id                                                          \n",
            "1001     elephant         500                high      152.272727\n",
            "1002     elephant         600                high      252.272727\n",
            "\n",
            "First 2 entries for hyppo\n",
            "------------------------\n",
            "        animal  water_need water_need_category  diff_from_mean\n",
            "uniq_id                                                       \n",
            "1020     hyppo         410                high       62.272727\n",
            "1021     hyppo         430                high       82.272727\n",
            "\n",
            "First 2 entries for lion\n",
            "------------------------\n",
            "        animal  water_need water_need_category  diff_from_mean\n",
            "uniq_id                                                       \n",
            "1016      lion         420                high       72.272727\n",
            "1017      lion         600                high      252.272727\n",
            "\n",
            "First 2 entries for tiger\n",
            "------------------------\n",
            "        animal  water_need water_need_category  diff_from_mean\n",
            "uniq_id                                                       \n",
            "1004     tiger         300                 mid      -47.727273\n",
            "1005     tiger         320                 mid      -27.727273\n",
            "\n",
            "First 2 entries for zebra\n",
            "------------------------\n",
            "        animal  water_need water_need_category  diff_from_mean\n",
            "uniq_id                                                       \n",
            "1009     zebra         200                 mid     -147.727273\n",
            "1010     zebra         220                 mid     -127.727273\n",
            "\n"
          ],
          "name": "stdout"
        }
      ]
    },
    {
      "cell_type": "markdown",
      "metadata": {
        "id": "eAMa3pj-n6uk"
      },
      "source": [
        "There are a few other methods and properties that let you look into the individual groups and their splits. The groups attribute will give you a dictionary of {group name: group label} pairs. For example, animal_groups is a dict with animal as keys. Here’s the value for the \"elephant\" key:"
      ]
    },
    {
      "cell_type": "code",
      "metadata": {
        "id": "NsHFMWa0oK2f",
        "colab": {
          "base_uri": "https://localhost:8080/"
        },
        "outputId": "7bc787f2-95db-4765-f6fb-20af3e33ed6f"
      },
      "source": [
        "animal_groups.groups['elephant']"
      ],
      "execution_count": null,
      "outputs": [
        {
          "output_type": "execute_result",
          "data": {
            "text/plain": [
              "Int64Index([1001, 1002, 1003], dtype='int64', name='uniq_id')"
            ]
          },
          "metadata": {
            "tags": []
          },
          "execution_count": 79
        }
      ]
    },
    {
      "cell_type": "markdown",
      "metadata": {
        "id": "mbsmpTg2oUfg"
      },
      "source": [
        "If you want to see the full subtable for only one group,\n",
        "you can use the get_group method:"
      ]
    },
    {
      "cell_type": "code",
      "metadata": {
        "id": "xINSL7e1oiOL",
        "colab": {
          "base_uri": "https://localhost:8080/",
          "height": 173
        },
        "outputId": "d622bf7e-aa80-4baf-c07d-2daa37c75c9f"
      },
      "source": [
        "elephant_group = animal_groups.get_group('elephant')\n",
        "elephant_group"
      ],
      "execution_count": null,
      "outputs": [
        {
          "output_type": "execute_result",
          "data": {
            "text/html": [
              "<div>\n",
              "<style scoped>\n",
              "    .dataframe tbody tr th:only-of-type {\n",
              "        vertical-align: middle;\n",
              "    }\n",
              "\n",
              "    .dataframe tbody tr th {\n",
              "        vertical-align: top;\n",
              "    }\n",
              "\n",
              "    .dataframe thead th {\n",
              "        text-align: right;\n",
              "    }\n",
              "</style>\n",
              "<table border=\"1\" class=\"dataframe\">\n",
              "  <thead>\n",
              "    <tr style=\"text-align: right;\">\n",
              "      <th></th>\n",
              "      <th>animal</th>\n",
              "      <th>water_need</th>\n",
              "      <th>water_need_category</th>\n",
              "      <th>diff_from_mean</th>\n",
              "    </tr>\n",
              "    <tr>\n",
              "      <th>uniq_id</th>\n",
              "      <th></th>\n",
              "      <th></th>\n",
              "      <th></th>\n",
              "      <th></th>\n",
              "    </tr>\n",
              "  </thead>\n",
              "  <tbody>\n",
              "    <tr>\n",
              "      <th>1001</th>\n",
              "      <td>elephant</td>\n",
              "      <td>500</td>\n",
              "      <td>high</td>\n",
              "      <td>152.272727</td>\n",
              "    </tr>\n",
              "    <tr>\n",
              "      <th>1002</th>\n",
              "      <td>elephant</td>\n",
              "      <td>600</td>\n",
              "      <td>high</td>\n",
              "      <td>252.272727</td>\n",
              "    </tr>\n",
              "    <tr>\n",
              "      <th>1003</th>\n",
              "      <td>elephant</td>\n",
              "      <td>550</td>\n",
              "      <td>high</td>\n",
              "      <td>202.272727</td>\n",
              "    </tr>\n",
              "  </tbody>\n",
              "</table>\n",
              "</div>"
            ],
            "text/plain": [
              "           animal  water_need water_need_category  diff_from_mean\n",
              "uniq_id                                                          \n",
              "1001     elephant         500                high      152.272727\n",
              "1002     elephant         600                high      252.272727\n",
              "1003     elephant         550                high      202.272727"
            ]
          },
          "metadata": {
            "tags": []
          },
          "execution_count": 80
        }
      ]
    },
    {
      "cell_type": "markdown",
      "metadata": {
        "id": "djU1yO3NoyNV"
      },
      "source": [
        "#### Apply\n",
        "\n",
        "You can think of this part as applying the same operation (or callable) to every subtable that is produced by the splitting stage. Let's try it on the elephant subtable to see what this step looks like on one of the subtables.\n"
      ]
    },
    {
      "cell_type": "code",
      "metadata": {
        "id": "Z129PdZ0pXcm",
        "colab": {
          "base_uri": "https://localhost:8080/"
        },
        "outputId": "e8bbe028-770f-40f5-c68c-14ecb9c490c8"
      },
      "source": [
        "elephant_group['water_need'].mean()"
      ],
      "execution_count": null,
      "outputs": [
        {
          "output_type": "execute_result",
          "data": {
            "text/plain": [
              "550.0"
            ]
          },
          "metadata": {
            "tags": []
          },
          "execution_count": 81
        }
      ]
    },
    {
      "cell_type": "markdown",
      "metadata": {
        "id": "sgc3fZcmqM-W"
      },
      "source": [
        "#### Combine\n",
        "\n",
        "This step simply takes the results of all of the applied operations on all of the sub-tables and combines them back together in an intuitive way."
      ]
    },
    {
      "cell_type": "code",
      "metadata": {
        "id": "n1TM7EQ5qYJA",
        "colab": {
          "base_uri": "https://localhost:8080/",
          "height": 235
        },
        "outputId": "1293b6c0-b517-4a1a-cb7d-d38bdd1f1bc9"
      },
      "source": [
        "# Review what the groupbydataframe looks like\n",
        "wildlife_df.groupby('animal')[['water_need']].mean()"
      ],
      "execution_count": null,
      "outputs": [
        {
          "output_type": "execute_result",
          "data": {
            "text/html": [
              "<div>\n",
              "<style scoped>\n",
              "    .dataframe tbody tr th:only-of-type {\n",
              "        vertical-align: middle;\n",
              "    }\n",
              "\n",
              "    .dataframe tbody tr th {\n",
              "        vertical-align: top;\n",
              "    }\n",
              "\n",
              "    .dataframe thead th {\n",
              "        text-align: right;\n",
              "    }\n",
              "</style>\n",
              "<table border=\"1\" class=\"dataframe\">\n",
              "  <thead>\n",
              "    <tr style=\"text-align: right;\">\n",
              "      <th></th>\n",
              "      <th>water_need</th>\n",
              "    </tr>\n",
              "    <tr>\n",
              "      <th>animal</th>\n",
              "      <th></th>\n",
              "    </tr>\n",
              "  </thead>\n",
              "  <tbody>\n",
              "    <tr>\n",
              "      <th>elephant</th>\n",
              "      <td>550.000000</td>\n",
              "    </tr>\n",
              "    <tr>\n",
              "      <th>hyppo</th>\n",
              "      <td>416.666667</td>\n",
              "    </tr>\n",
              "    <tr>\n",
              "      <th>lion</th>\n",
              "      <td>477.500000</td>\n",
              "    </tr>\n",
              "    <tr>\n",
              "      <th>tiger</th>\n",
              "      <td>310.000000</td>\n",
              "    </tr>\n",
              "    <tr>\n",
              "      <th>zebra</th>\n",
              "      <td>184.285714</td>\n",
              "    </tr>\n",
              "  </tbody>\n",
              "</table>\n",
              "</div>"
            ],
            "text/plain": [
              "          water_need\n",
              "animal              \n",
              "elephant  550.000000\n",
              "hyppo     416.666667\n",
              "lion      477.500000\n",
              "tiger     310.000000\n",
              "zebra     184.285714"
            ]
          },
          "metadata": {
            "tags": []
          },
          "execution_count": 82
        }
      ]
    },
    {
      "cell_type": "markdown",
      "metadata": {
        "id": "K5WSpEebqpCw"
      },
      "source": [
        "### Exercise time!\n",
        "\n",
        "**Your task:** find the lowest median water_need across all animal groups."
      ]
    },
    {
      "cell_type": "code",
      "metadata": {
        "id": "mboj2d_O8WKl"
      },
      "source": [
        "#Use wildlife_df\n",
        "#Try doing it without looking at the previous code blocks ;)\n",
        "#There're several ways of doing this. You're encouraged to do it\n",
        "#in another way to check your answer\n",
        "\n",
        "#TODO: use groupby to find the median water_need for all animal groups\n",
        "#TODO: print the lowest median water_need across all animal groups\n"
      ],
      "execution_count": null,
      "outputs": []
    },
    {
      "cell_type": "code",
      "metadata": {
        "id": "G9fYLLSg2mOm",
        "colab": {
          "base_uri": "https://localhost:8080/"
        },
        "outputId": "a041dca7-d3ca-464b-da67-cd30139ce3be"
      },
      "source": [
        "#@title Solution (double click to see)\n",
        "# Hidden solution\n",
        "#get the groupbydataframe\n",
        "wildlife_df.groupby('animal')['water_need'].median()\n",
        "# print the answer observed with the table\n",
        "print(220)"
      ],
      "execution_count": null,
      "outputs": [
        {
          "output_type": "stream",
          "text": [
            "220\n"
          ],
          "name": "stdout"
        }
      ]
    },
    {
      "cell_type": "markdown",
      "metadata": {
        "id": "W7dTxCW6dR_j"
      },
      "source": [
        "# Missing data cleaning"
      ]
    },
    {
      "cell_type": "markdown",
      "metadata": {
        "id": "VYFtxQgqda3g"
      },
      "source": [
        "In real life many, many, many things can go wrong, and the process of data colectiong it's no exception. Sensors can stop working, a bird can get inside an instrument or a humman made a mistake while writing the datasets.  \n",
        "\n",
        "All of this and more can make some data to be missing from the dataset, and knowing how to deal with missing values is a cornerstone of data processing.\n",
        "\n",
        "There are several ways to solve this problem, but let's see some of the most common.\n",
        "\n",
        "Missing values are often represented as nans, NaN or NA, tho it's often the case that people use strings like 'no', 'nan' or even ''. We will see how to treat this cases."
      ]
    },
    {
      "cell_type": "markdown",
      "metadata": {
        "id": "0vjyggewusLx"
      },
      "source": [
        "Lets generate a dataframe with some missing values:"
      ]
    },
    {
      "cell_type": "code",
      "metadata": {
        "colab": {
          "base_uri": "https://localhost:8080/",
          "height": 206
        },
        "id": "4fahExebw79G",
        "outputId": "321f7eac-330a-4df3-9734-eedeca685399"
      },
      "source": [
        "from numpy import nan as NA \n",
        "import pandas as pd\n",
        "#This just makes the writing of nulls easier\n",
        "\n",
        "# A simple dataframe\n",
        "data_frame = pd.DataFrame([[1, 2, 4, NA], [8, NA, NA, NA],\n",
        "                           [NA, NA, NA, NA], [NA, NA, 16, NA],\n",
        "                           [32, NA, 64, NA]], \n",
        "                          columns=['A', 'B', 'C', 'D'])\n",
        "data_frame"
      ],
      "execution_count": null,
      "outputs": [
        {
          "output_type": "execute_result",
          "data": {
            "text/html": [
              "<div>\n",
              "<style scoped>\n",
              "    .dataframe tbody tr th:only-of-type {\n",
              "        vertical-align: middle;\n",
              "    }\n",
              "\n",
              "    .dataframe tbody tr th {\n",
              "        vertical-align: top;\n",
              "    }\n",
              "\n",
              "    .dataframe thead th {\n",
              "        text-align: right;\n",
              "    }\n",
              "</style>\n",
              "<table border=\"1\" class=\"dataframe\">\n",
              "  <thead>\n",
              "    <tr style=\"text-align: right;\">\n",
              "      <th></th>\n",
              "      <th>A</th>\n",
              "      <th>B</th>\n",
              "      <th>C</th>\n",
              "      <th>D</th>\n",
              "    </tr>\n",
              "  </thead>\n",
              "  <tbody>\n",
              "    <tr>\n",
              "      <th>0</th>\n",
              "      <td>1.0</td>\n",
              "      <td>2.0</td>\n",
              "      <td>4.0</td>\n",
              "      <td>NaN</td>\n",
              "    </tr>\n",
              "    <tr>\n",
              "      <th>1</th>\n",
              "      <td>8.0</td>\n",
              "      <td>NaN</td>\n",
              "      <td>NaN</td>\n",
              "      <td>NaN</td>\n",
              "    </tr>\n",
              "    <tr>\n",
              "      <th>2</th>\n",
              "      <td>NaN</td>\n",
              "      <td>NaN</td>\n",
              "      <td>NaN</td>\n",
              "      <td>NaN</td>\n",
              "    </tr>\n",
              "    <tr>\n",
              "      <th>3</th>\n",
              "      <td>NaN</td>\n",
              "      <td>NaN</td>\n",
              "      <td>16.0</td>\n",
              "      <td>NaN</td>\n",
              "    </tr>\n",
              "    <tr>\n",
              "      <th>4</th>\n",
              "      <td>32.0</td>\n",
              "      <td>NaN</td>\n",
              "      <td>64.0</td>\n",
              "      <td>NaN</td>\n",
              "    </tr>\n",
              "  </tbody>\n",
              "</table>\n",
              "</div>"
            ],
            "text/plain": [
              "      A    B     C   D\n",
              "0   1.0  2.0   4.0 NaN\n",
              "1   8.0  NaN   NaN NaN\n",
              "2   NaN  NaN   NaN NaN\n",
              "3   NaN  NaN  16.0 NaN\n",
              "4  32.0  NaN  64.0 NaN"
            ]
          },
          "metadata": {
            "tags": []
          },
          "execution_count": 2
        }
      ]
    },
    {
      "cell_type": "markdown",
      "metadata": {
        "id": "qVXi_WtWzHJW"
      },
      "source": [
        "1. Filtering of missing values.\n",
        "\n",
        "It removes all the rows where one element is missing.\n",
        "\n",
        "This method it's the most intuitive, but can reduce considerably the amount of data. \n",
        "\n",
        "This can be done with .dropna()\n",
        "\n"
      ]
    },
    {
      "cell_type": "code",
      "metadata": {
        "colab": {
          "base_uri": "https://localhost:8080/",
          "height": 49
        },
        "id": "-b5JmNmQzGdp",
        "outputId": "67cb2567-36d9-4feb-d2cd-d2e5dabd7be5"
      },
      "source": [
        "data_frame.dropna()"
      ],
      "execution_count": null,
      "outputs": [
        {
          "output_type": "execute_result",
          "data": {
            "text/html": [
              "<div>\n",
              "<style scoped>\n",
              "    .dataframe tbody tr th:only-of-type {\n",
              "        vertical-align: middle;\n",
              "    }\n",
              "\n",
              "    .dataframe tbody tr th {\n",
              "        vertical-align: top;\n",
              "    }\n",
              "\n",
              "    .dataframe thead th {\n",
              "        text-align: right;\n",
              "    }\n",
              "</style>\n",
              "<table border=\"1\" class=\"dataframe\">\n",
              "  <thead>\n",
              "    <tr style=\"text-align: right;\">\n",
              "      <th></th>\n",
              "      <th>A</th>\n",
              "      <th>B</th>\n",
              "      <th>C</th>\n",
              "      <th>D</th>\n",
              "    </tr>\n",
              "  </thead>\n",
              "  <tbody>\n",
              "  </tbody>\n",
              "</table>\n",
              "</div>"
            ],
            "text/plain": [
              "Empty DataFrame\n",
              "Columns: [A, B, C, D]\n",
              "Index: []"
            ]
          },
          "metadata": {
            "tags": []
          },
          "execution_count": 3
        }
      ]
    },
    {
      "cell_type": "markdown",
      "metadata": {
        "id": "NuISLPJK6wxP"
      },
      "source": [
        "> Note: .dropna() also has an 'inplace' option."
      ]
    },
    {
      "cell_type": "markdown",
      "metadata": {
        "id": "IWohHv3v7Qhq"
      },
      "source": [
        "Using how = 'all' it will only drop the rows with only missing values."
      ]
    },
    {
      "cell_type": "code",
      "metadata": {
        "colab": {
          "base_uri": "https://localhost:8080/",
          "height": 175
        },
        "id": "uTk6moMB7P9q",
        "outputId": "ebf634ed-bbf6-46ff-c2ca-203f58f5c310"
      },
      "source": [
        "data_frame.dropna(how='all')"
      ],
      "execution_count": null,
      "outputs": [
        {
          "output_type": "execute_result",
          "data": {
            "text/html": [
              "<div>\n",
              "<style scoped>\n",
              "    .dataframe tbody tr th:only-of-type {\n",
              "        vertical-align: middle;\n",
              "    }\n",
              "\n",
              "    .dataframe tbody tr th {\n",
              "        vertical-align: top;\n",
              "    }\n",
              "\n",
              "    .dataframe thead th {\n",
              "        text-align: right;\n",
              "    }\n",
              "</style>\n",
              "<table border=\"1\" class=\"dataframe\">\n",
              "  <thead>\n",
              "    <tr style=\"text-align: right;\">\n",
              "      <th></th>\n",
              "      <th>A</th>\n",
              "      <th>B</th>\n",
              "      <th>C</th>\n",
              "      <th>D</th>\n",
              "    </tr>\n",
              "  </thead>\n",
              "  <tbody>\n",
              "    <tr>\n",
              "      <th>0</th>\n",
              "      <td>1.0</td>\n",
              "      <td>2.0</td>\n",
              "      <td>4.0</td>\n",
              "      <td>NaN</td>\n",
              "    </tr>\n",
              "    <tr>\n",
              "      <th>1</th>\n",
              "      <td>8.0</td>\n",
              "      <td>NaN</td>\n",
              "      <td>NaN</td>\n",
              "      <td>NaN</td>\n",
              "    </tr>\n",
              "    <tr>\n",
              "      <th>3</th>\n",
              "      <td>NaN</td>\n",
              "      <td>NaN</td>\n",
              "      <td>16.0</td>\n",
              "      <td>NaN</td>\n",
              "    </tr>\n",
              "    <tr>\n",
              "      <th>4</th>\n",
              "      <td>32.0</td>\n",
              "      <td>NaN</td>\n",
              "      <td>64.0</td>\n",
              "      <td>NaN</td>\n",
              "    </tr>\n",
              "  </tbody>\n",
              "</table>\n",
              "</div>"
            ],
            "text/plain": [
              "      A    B     C   D\n",
              "0   1.0  2.0   4.0 NaN\n",
              "1   8.0  NaN   NaN NaN\n",
              "3   NaN  NaN  16.0 NaN\n",
              "4  32.0  NaN  64.0 NaN"
            ]
          },
          "metadata": {
            "tags": []
          },
          "execution_count": 5
        }
      ]
    },
    {
      "cell_type": "markdown",
      "metadata": {
        "id": "nATHrpOTYXcz"
      },
      "source": [
        "It can also drop columns with only nans"
      ]
    },
    {
      "cell_type": "code",
      "metadata": {
        "colab": {
          "base_uri": "https://localhost:8080/",
          "height": 206
        },
        "id": "9Oa8FX5SYeHI",
        "outputId": "f0db77f4-9f79-42f5-817d-7f35f7d3101c"
      },
      "source": [
        "data_frame.dropna(how='all', axis=1)"
      ],
      "execution_count": null,
      "outputs": [
        {
          "output_type": "execute_result",
          "data": {
            "text/html": [
              "<div>\n",
              "<style scoped>\n",
              "    .dataframe tbody tr th:only-of-type {\n",
              "        vertical-align: middle;\n",
              "    }\n",
              "\n",
              "    .dataframe tbody tr th {\n",
              "        vertical-align: top;\n",
              "    }\n",
              "\n",
              "    .dataframe thead th {\n",
              "        text-align: right;\n",
              "    }\n",
              "</style>\n",
              "<table border=\"1\" class=\"dataframe\">\n",
              "  <thead>\n",
              "    <tr style=\"text-align: right;\">\n",
              "      <th></th>\n",
              "      <th>A</th>\n",
              "      <th>B</th>\n",
              "      <th>C</th>\n",
              "    </tr>\n",
              "  </thead>\n",
              "  <tbody>\n",
              "    <tr>\n",
              "      <th>0</th>\n",
              "      <td>1.0</td>\n",
              "      <td>2.0</td>\n",
              "      <td>4.0</td>\n",
              "    </tr>\n",
              "    <tr>\n",
              "      <th>1</th>\n",
              "      <td>8.0</td>\n",
              "      <td>NaN</td>\n",
              "      <td>NaN</td>\n",
              "    </tr>\n",
              "    <tr>\n",
              "      <th>2</th>\n",
              "      <td>NaN</td>\n",
              "      <td>NaN</td>\n",
              "      <td>NaN</td>\n",
              "    </tr>\n",
              "    <tr>\n",
              "      <th>3</th>\n",
              "      <td>NaN</td>\n",
              "      <td>NaN</td>\n",
              "      <td>16.0</td>\n",
              "    </tr>\n",
              "    <tr>\n",
              "      <th>4</th>\n",
              "      <td>32.0</td>\n",
              "      <td>NaN</td>\n",
              "      <td>64.0</td>\n",
              "    </tr>\n",
              "  </tbody>\n",
              "</table>\n",
              "</div>"
            ],
            "text/plain": [
              "      A    B     C\n",
              "0   1.0  2.0   4.0\n",
              "1   8.0  NaN   NaN\n",
              "2   NaN  NaN   NaN\n",
              "3   NaN  NaN  16.0\n",
              "4  32.0  NaN  64.0"
            ]
          },
          "metadata": {
            "tags": []
          },
          "execution_count": 9
        }
      ]
    },
    {
      "cell_type": "markdown",
      "metadata": {
        "id": "DTaPj1ID-eHg"
      },
      "source": [
        "2. Filling missing values\n",
        "\n",
        "Instead of just eliminating the rows with missing data, perhaps it could be better to fill them with certain values. \n",
        "\n",
        "This values will depend of the type of data you are trying to fill, but some common aproaches is to replace it with the mean, mode, the previous value or even just a 0 if the values are numerical or a default string for values of type string.\n",
        "\n",
        "\n",
        "This can be done with .fillna()\n",
        "\n"
      ]
    },
    {
      "cell_type": "code",
      "metadata": {
        "colab": {
          "base_uri": "https://localhost:8080/",
          "height": 206
        },
        "id": "wQURKB71-dQj",
        "outputId": "66b11a74-25c0-4453-caf4-c640488b9539"
      },
      "source": [
        "# Filling with 0\n",
        "data_frame.fillna(0)"
      ],
      "execution_count": null,
      "outputs": [
        {
          "output_type": "execute_result",
          "data": {
            "text/html": [
              "<div>\n",
              "<style scoped>\n",
              "    .dataframe tbody tr th:only-of-type {\n",
              "        vertical-align: middle;\n",
              "    }\n",
              "\n",
              "    .dataframe tbody tr th {\n",
              "        vertical-align: top;\n",
              "    }\n",
              "\n",
              "    .dataframe thead th {\n",
              "        text-align: right;\n",
              "    }\n",
              "</style>\n",
              "<table border=\"1\" class=\"dataframe\">\n",
              "  <thead>\n",
              "    <tr style=\"text-align: right;\">\n",
              "      <th></th>\n",
              "      <th>A</th>\n",
              "      <th>B</th>\n",
              "      <th>C</th>\n",
              "      <th>D</th>\n",
              "    </tr>\n",
              "  </thead>\n",
              "  <tbody>\n",
              "    <tr>\n",
              "      <th>0</th>\n",
              "      <td>1.0</td>\n",
              "      <td>2.0</td>\n",
              "      <td>4.0</td>\n",
              "      <td>0.0</td>\n",
              "    </tr>\n",
              "    <tr>\n",
              "      <th>1</th>\n",
              "      <td>8.0</td>\n",
              "      <td>0.0</td>\n",
              "      <td>0.0</td>\n",
              "      <td>0.0</td>\n",
              "    </tr>\n",
              "    <tr>\n",
              "      <th>2</th>\n",
              "      <td>0.0</td>\n",
              "      <td>0.0</td>\n",
              "      <td>0.0</td>\n",
              "      <td>0.0</td>\n",
              "    </tr>\n",
              "    <tr>\n",
              "      <th>3</th>\n",
              "      <td>0.0</td>\n",
              "      <td>0.0</td>\n",
              "      <td>16.0</td>\n",
              "      <td>0.0</td>\n",
              "    </tr>\n",
              "    <tr>\n",
              "      <th>4</th>\n",
              "      <td>32.0</td>\n",
              "      <td>0.0</td>\n",
              "      <td>64.0</td>\n",
              "      <td>0.0</td>\n",
              "    </tr>\n",
              "  </tbody>\n",
              "</table>\n",
              "</div>"
            ],
            "text/plain": [
              "      A    B     C    D\n",
              "0   1.0  2.0   4.0  0.0\n",
              "1   8.0  0.0   0.0  0.0\n",
              "2   0.0  0.0   0.0  0.0\n",
              "3   0.0  0.0  16.0  0.0\n",
              "4  32.0  0.0  64.0  0.0"
            ]
          },
          "metadata": {
            "tags": []
          },
          "execution_count": 6
        }
      ]
    },
    {
      "cell_type": "code",
      "metadata": {
        "colab": {
          "base_uri": "https://localhost:8080/",
          "height": 206
        },
        "id": "YrFQq4f0X992",
        "outputId": "cae10913-9f83-4a3d-e481-e0adbebb416c"
      },
      "source": [
        "# Filling with the mean\n",
        "data_frame.fillna(data_frame.mean())"
      ],
      "execution_count": null,
      "outputs": [
        {
          "output_type": "execute_result",
          "data": {
            "text/html": [
              "<div>\n",
              "<style scoped>\n",
              "    .dataframe tbody tr th:only-of-type {\n",
              "        vertical-align: middle;\n",
              "    }\n",
              "\n",
              "    .dataframe tbody tr th {\n",
              "        vertical-align: top;\n",
              "    }\n",
              "\n",
              "    .dataframe thead th {\n",
              "        text-align: right;\n",
              "    }\n",
              "</style>\n",
              "<table border=\"1\" class=\"dataframe\">\n",
              "  <thead>\n",
              "    <tr style=\"text-align: right;\">\n",
              "      <th></th>\n",
              "      <th>A</th>\n",
              "      <th>B</th>\n",
              "      <th>C</th>\n",
              "      <th>D</th>\n",
              "    </tr>\n",
              "  </thead>\n",
              "  <tbody>\n",
              "    <tr>\n",
              "      <th>0</th>\n",
              "      <td>1.000000</td>\n",
              "      <td>2.0</td>\n",
              "      <td>4.0</td>\n",
              "      <td>NaN</td>\n",
              "    </tr>\n",
              "    <tr>\n",
              "      <th>1</th>\n",
              "      <td>8.000000</td>\n",
              "      <td>2.0</td>\n",
              "      <td>28.0</td>\n",
              "      <td>NaN</td>\n",
              "    </tr>\n",
              "    <tr>\n",
              "      <th>2</th>\n",
              "      <td>13.666667</td>\n",
              "      <td>2.0</td>\n",
              "      <td>28.0</td>\n",
              "      <td>NaN</td>\n",
              "    </tr>\n",
              "    <tr>\n",
              "      <th>3</th>\n",
              "      <td>13.666667</td>\n",
              "      <td>2.0</td>\n",
              "      <td>16.0</td>\n",
              "      <td>NaN</td>\n",
              "    </tr>\n",
              "    <tr>\n",
              "      <th>4</th>\n",
              "      <td>32.000000</td>\n",
              "      <td>2.0</td>\n",
              "      <td>64.0</td>\n",
              "      <td>NaN</td>\n",
              "    </tr>\n",
              "  </tbody>\n",
              "</table>\n",
              "</div>"
            ],
            "text/plain": [
              "           A    B     C   D\n",
              "0   1.000000  2.0   4.0 NaN\n",
              "1   8.000000  2.0  28.0 NaN\n",
              "2  13.666667  2.0  28.0 NaN\n",
              "3  13.666667  2.0  16.0 NaN\n",
              "4  32.000000  2.0  64.0 NaN"
            ]
          },
          "metadata": {
            "tags": []
          },
          "execution_count": 8
        }
      ]
    },
    {
      "cell_type": "code",
      "metadata": {
        "colab": {
          "base_uri": "https://localhost:8080/",
          "height": 206
        },
        "id": "G5R1EvIRY4xz",
        "outputId": "abd02eda-b684-47bd-c63b-da823ef34c48"
      },
      "source": [
        "# Filling the values by column with a dictionary\n",
        "values = {'A':-1, 'D':0}\n",
        "data_frame.fillna(values)"
      ],
      "execution_count": null,
      "outputs": [
        {
          "output_type": "execute_result",
          "data": {
            "text/html": [
              "<div>\n",
              "<style scoped>\n",
              "    .dataframe tbody tr th:only-of-type {\n",
              "        vertical-align: middle;\n",
              "    }\n",
              "\n",
              "    .dataframe tbody tr th {\n",
              "        vertical-align: top;\n",
              "    }\n",
              "\n",
              "    .dataframe thead th {\n",
              "        text-align: right;\n",
              "    }\n",
              "</style>\n",
              "<table border=\"1\" class=\"dataframe\">\n",
              "  <thead>\n",
              "    <tr style=\"text-align: right;\">\n",
              "      <th></th>\n",
              "      <th>A</th>\n",
              "      <th>B</th>\n",
              "      <th>C</th>\n",
              "      <th>D</th>\n",
              "    </tr>\n",
              "  </thead>\n",
              "  <tbody>\n",
              "    <tr>\n",
              "      <th>0</th>\n",
              "      <td>1.0</td>\n",
              "      <td>2.0</td>\n",
              "      <td>4.0</td>\n",
              "      <td>0.0</td>\n",
              "    </tr>\n",
              "    <tr>\n",
              "      <th>1</th>\n",
              "      <td>8.0</td>\n",
              "      <td>NaN</td>\n",
              "      <td>NaN</td>\n",
              "      <td>0.0</td>\n",
              "    </tr>\n",
              "    <tr>\n",
              "      <th>2</th>\n",
              "      <td>-1.0</td>\n",
              "      <td>NaN</td>\n",
              "      <td>NaN</td>\n",
              "      <td>0.0</td>\n",
              "    </tr>\n",
              "    <tr>\n",
              "      <th>3</th>\n",
              "      <td>-1.0</td>\n",
              "      <td>NaN</td>\n",
              "      <td>16.0</td>\n",
              "      <td>0.0</td>\n",
              "    </tr>\n",
              "    <tr>\n",
              "      <th>4</th>\n",
              "      <td>32.0</td>\n",
              "      <td>NaN</td>\n",
              "      <td>64.0</td>\n",
              "      <td>0.0</td>\n",
              "    </tr>\n",
              "  </tbody>\n",
              "</table>\n",
              "</div>"
            ],
            "text/plain": [
              "      A    B     C    D\n",
              "0   1.0  2.0   4.0  0.0\n",
              "1   8.0  NaN   NaN  0.0\n",
              "2  -1.0  NaN   NaN  0.0\n",
              "3  -1.0  NaN  16.0  0.0\n",
              "4  32.0  NaN  64.0  0.0"
            ]
          },
          "metadata": {
            "tags": []
          },
          "execution_count": 11
        }
      ]
    },
    {
      "cell_type": "markdown",
      "metadata": {
        "id": "iNBLrr-0bj-6"
      },
      "source": [
        "We won't be seeing this methods in this material for now, but try to keep them in mind for future weeks. ;)\n",
        "\n",
        "3. Interpolating\n",
        "4. Classifying "
      ]
    },
    {
      "cell_type": "markdown",
      "metadata": {
        "id": "vLnBV47RduIw"
      },
      "source": [
        "# Replace"
      ]
    },
    {
      "cell_type": "markdown",
      "metadata": {
        "id": "3BCCjBQxdwJZ"
      },
      "source": [
        "Sometimes, due to some format differences the missing values are written as a string. In those cases we can replace those strings with the method .replace().\n",
        "\n"
      ]
    },
    {
      "cell_type": "code",
      "metadata": {
        "id": "EAiMtuSGfc_c"
      },
      "source": [
        "# Making a dataframe with 'nan'\n",
        "data_frame = pd.DataFrame([[1, 2, 4, 'NA'], [8, 'NA', 'NA', 'NA'],\n",
        "                           ['NA', 'NA', 'NA', 'NA'], ['NA', 'NA', 16, 'NA'],\n",
        "                           [32, 'NA', 64, 'NA']], \n",
        "                          columns=['A', 'B', 'C', 'D'])\n",
        "\n",
        "# Other common strings for missing values are 'nan', 'Null' or '' \n",
        "\n",
        "\n",
        "\n",
        "data_frame.replace('NA',NA, inplace=True)"
      ],
      "execution_count": null,
      "outputs": []
    },
    {
      "cell_type": "markdown",
      "metadata": {
        "id": "2xOmnO1Uar21"
      },
      "source": [
        "# Analyzing Missing Data\n"
      ]
    },
    {
      "cell_type": "markdown",
      "metadata": {
        "id": "K76-k5hubfUe"
      },
      "source": [
        "Before we can go around replacing missing data, perhaps it would be usefull to know how this data is distributed.\n",
        "\n",
        "Perhaps all the missing values are in useless features that we can remove and go directly to train a model or maybe the data is too compromised and we need to reevaluate the data extraction. \n",
        "\n",
        "As a start, we can count how many missing values are in the dataframe"
      ]
    },
    {
      "cell_type": "code",
      "metadata": {
        "colab": {
          "base_uri": "https://localhost:8080/"
        },
        "id": "MmvhemhRgd_Y",
        "outputId": "f49735ac-95bf-40a1-83b4-4ddf31739a02"
      },
      "source": [
        "data_frame.isnull().sum()"
      ],
      "execution_count": null,
      "outputs": [
        {
          "output_type": "execute_result",
          "data": {
            "text/plain": [
              "A    2\n",
              "B    4\n",
              "C    2\n",
              "D    5\n",
              "dtype: int64"
            ]
          },
          "metadata": {
            "tags": []
          },
          "execution_count": 17
        }
      ]
    },
    {
      "cell_type": "markdown",
      "metadata": {
        "id": "bf4awSDGudPf"
      },
      "source": [
        "The .info() method can give some information about the missing data too."
      ]
    },
    {
      "cell_type": "code",
      "metadata": {
        "colab": {
          "base_uri": "https://localhost:8080/"
        },
        "id": "CITdb9qZup3L",
        "outputId": "26a8f799-768e-4038-f7dd-cb21a7df6fd7"
      },
      "source": [
        "data_frame.info()"
      ],
      "execution_count": null,
      "outputs": [
        {
          "output_type": "stream",
          "text": [
            "<class 'pandas.core.frame.DataFrame'>\n",
            "RangeIndex: 5 entries, 0 to 4\n",
            "Data columns (total 4 columns):\n",
            " #   Column  Non-Null Count  Dtype  \n",
            "---  ------  --------------  -----  \n",
            " 0   A       3 non-null      float64\n",
            " 1   B       1 non-null      float64\n",
            " 2   C       3 non-null      float64\n",
            " 3   D       0 non-null      float64\n",
            "dtypes: float64(4)\n",
            "memory usage: 288.0 bytes\n"
          ],
          "name": "stdout"
        }
      ]
    },
    {
      "cell_type": "markdown",
      "metadata": {
        "id": "LQrDQv8wuxqP"
      },
      "source": [
        "Notice that it says the number of non-null elements, so the number of null elements by column is # rows - # non-null"
      ]
    },
    {
      "cell_type": "markdown",
      "metadata": {
        "id": "LuRRg_qhg-bG"
      },
      "source": [
        "The library missingno can help in visualize the exploration of the missing data."
      ]
    },
    {
      "cell_type": "code",
      "metadata": {
        "colab": {
          "base_uri": "https://localhost:8080/",
          "height": 329
        },
        "id": "Ue8QFlqthWij",
        "outputId": "b906df72-2906-438c-dedb-de5ee3e53071"
      },
      "source": [
        "import missingno as msno\n",
        "import matplotlib.pyplot as plt # Spolier for the next week\n",
        "\n",
        "\n",
        "fig, ax = plt.subplots(figsize = [5, 5]) \n",
        "msno.matrix(data_frame,ax = ax, sparkline=False)\n",
        "plt.show()"
      ],
      "execution_count": null,
      "outputs": [
        {
          "output_type": "display_data",
          "data": {
            "image/png": "[encoded data removed]",
            "text/plain": [
              "<Figure size 360x360 with 1 Axes>"
            ]
          },
          "metadata": {
            "tags": [],
            "needs_background": "light"
          }
        }
      ]
    },
    {
      "cell_type": "markdown",
      "metadata": {
        "id": "CBJ6qd42iLIF"
      },
      "source": [
        "The missingno heatmap can help us identify correlations between missing data."
      ]
    },
    {
      "cell_type": "code",
      "metadata": {
        "colab": {
          "base_uri": "https://localhost:8080/",
          "height": 332
        },
        "id": "-oNoRLBsiFCg",
        "outputId": "d161a744-f605-4519-fe83-fdc47db51fc4"
      },
      "source": [
        "fig, ax = plt.subplots(figsize = [5, 5]) \n",
        "msno.heatmap(data_frame,ax = ax)\n",
        "plt.show()"
      ],
      "execution_count": null,
      "outputs": [
        {
          "output_type": "display_data",
          "data": {
            "image/png": "[encoded data removed]",
            "text/plain": [
              "<Figure size 360x360 with 2 Axes>"
            ]
          },
          "metadata": {
            "tags": [],
            "needs_background": "light"
          }
        }
      ]
    },
    {
      "cell_type": "markdown",
      "metadata": {
        "id": "QRIB2q8P9ipk"
      },
      "source": [
        "This covers all the material for now!\n",
        "\n",
        "Congratulations!\n",
        "\n",
        "Pandas is an extremly big library. There are a lot more functions and methods than the ones seen here, and even those that we did have a lot of details and nuances. \n",
        "\n",
        "If you want to keep reading, we recommend checking the references, the Pandas cookbook or ask anyone of the AICE team."
      ]
    },
    {
      "cell_type": "markdown",
      "metadata": {
        "id": "UcKXksO9amjL"
      },
      "source": [
        "# Exercise"
      ]
    },
    {
      "cell_type": "markdown",
      "metadata": {
        "id": "1Qv5CU5Hh9tf"
      },
      "source": [
        "Let's suppose that you are hired to prepare some housing data for the city of Bogota to help them prepare a database with housing prices. It often happens that you get to work with data in languages you are not necessarily familiar with, so learning what it means in a different language is part of the drill!\r\n",
        "\r\n",
        "For this, they have provided you with some data obtained from *web-scraping* and some statistics by geographic zones called UPZ.\r\n",
        "\r\n",
        "1. The data collected in the folder data/raw is divided in folders with the format **wNN**. Where NN is the week of the year when the data was collected. Load the data to a single dataframe and remove the duplicate files. Also, generate a new categorical variable to indicate if the file name has ´furnished´ inside it (example: metrocuadrado_furnished_wNN.csv). **Hint**: For this last part pd.merge might be useful. \r\n",
        "> Optional: Report if there are any observations from files with ´furnished´ that are not contained inside files with text ´all´.  \r\n",
        "\r\n",
        "2. Clean the columns:\r\n",
        "\r\n",
        "    a)   Price and area of the property, number of rooms and number of bathrooms.\r\n",
        "\r\n",
        "    b)   You must separate ´property_type|rent_type|location´ into 3 different columns to indicate the type of the property (´casa´ or ´apartamento´, meaning 'house' or 'appartment'), the type of the rent (´arriendo´ or ´arriendo y venta´, meaning 'rent' and 'lease and sale') and the neighborhood of the property (in upercase for most of the observations). Call this last column ´location´. **Hint**: The methods str.split and str.strip from the class pd.Series might help. Finally, translate the property type and and type of rent to english (casa = house, apartamento = apartment, arriendo = rent, venta = sale).\r\n",
        "\r\n",
        "3. Create the following columns:\r\n",
        "    a) Generate a variable to represent the price by square meter \r\n",
        "    b) Get the number of ´garajes´ (garages) by processing the column ´url´\r\n",
        "\r\n",
        "\r\n",
        "**Optional:**\r\n",
        "\r\n",
        "The following questions are optional, so feel free to do them only if you want, though we recommend you do so. \r\n",
        "\r\n",
        "4. Classify the observations by type using the following table:\r\n",
        "**Hint**: The method query of pd.Dataframe might be useful.\r\n",
        "\r\n",
        "type of product | type of housing | min area | max area\r\n",
        "--- | --- | --- | ---\r\n",
        "1 | house      | 80  | < 120\r\n",
        "2 | house      | 120 | < 180\r\n",
        "3 | house      | 180 | < 240\r\n",
        "4 | house      | 240 | < 360\r\n",
        "5 | house      | 360 | < 460\r\n",
        "6 | apartment  | 40  | < 60\r\n",
        "7 | apartment  | 60  | < 80\r\n",
        "8 | apartment  | 80  | < 120\r\n",
        "\r\n",
        "5. Using the column ´neigborhood´, make a join with the file */data/assignacion_upz/barrio-upz-asignacion.csv* to get the UPZ code for each property. Report the number of observations and neighborhoods that can´t be assigned a code (aprox 90% of the data should have one).\r\n",
        "\r\n",
        "6. Use the file in *data/estadisticas_upz* to find a bunch of statistics for each UPZ code. Add this information to the dataframe by using the UPZ code (the name is not exactly UPZ, so you have to explore the data to make sure). Add a new column with the population density.\r\n",
        "\r\n",
        "7. Get the general information for each of the dataframe columns.\r\n",
        "\r\n",
        "8. Study the presence of missing values in the data base. Observe how this values are distributed and notice missing data mechanisms by finding observable patterns in the database. Find groups of columns with similar, systematic behaviour and draw some conclusions. Use missigno to back up your assertions. \r\n",
        "\r\n",
        "\r\n",
        "\r\n",
        "We could keep going in analyzing the data, but this is how far we will go for now. In case you want some more challenge, dont be afraid to ask and you shall be served! :D  \r\n"
      ]
    },
    {
      "cell_type": "markdown",
      "metadata": {
        "id": "0cHkmuGvtjrr"
      },
      "source": [
        "# Pandas Cookbook\n",
        "\n",
        "**Congratulations! You have completed this tutorial! Give yourself\n",
        "a pat on the back :)**\n",
        "\n",
        "We didn't cover all the advanced concepts of pandas in this tutorial,\n",
        "but you can find them here: \n",
        "\n",
        "https://pandas.pydata.org/pandas-docs/stable/user_guide/cookbook.html\n",
        "\n",
        "Feel free to go over them by yourself and experiment in this notebook :)"
      ]
    },
    {
      "cell_type": "markdown",
      "metadata": {
        "id": "kJjCS8MFkaxc"
      },
      "source": [
        "# References\n",
        "\n",
        "https://data36.com/pandas-tutorial-1-basics-reading-data-files-dataframes-data-selection/\n",
        "\n",
        "https://towardsdatascience.com/quick-dive-into-pandas-for-data-science-cc1c1a80d9c4\n",
        "\n",
        "https://www.learndatasci.com/tutorials/python-pandas-tutorial-complete-introduction-for-beginners/\n",
        "\n",
        "https://data36.com/pandas-tutorial-3-important-data-formatting-methods-merge-sort-reset_index-fillna/\n",
        "\n",
        "https://pandas.pydata.org/pandas-docs/stable/user_guide/merging.html\n",
        "\n",
        "https://www.datacamp.com/community/tutorials/pandas-multi-index\n",
        "\n",
        "https://data36.com/pandas-tutorial-2-aggregation-and-grouping/\n",
        "\n",
        "https://realpython.com/pandas-groupby/"
      ]
    },
    {
      "cell_type": "markdown",
      "metadata": {
        "id": "CEJh_JeLw1JX"
      },
      "source": [
        "# Further reference + cheatsheet\n",
        "\n",
        "https://pandas.pydata.org/pandas-docs/stable/reference/index.html\n",
        "\n",
        "https://drive.google.com/file/d/1UHK8wtWbADvHKXFC937IS6MTnlSZC_zB/view\n",
        "\n",
        "\n"
      ]
    }
  ]
}