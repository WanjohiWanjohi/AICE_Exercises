{
  "nbformat": 4,
  "nbformat_minor": 0,
  "metadata": {
    "colab": {
      "name": "AICP Challenge.ipynb",
      "provenance": [],
      "collapsed_sections": []
    },
    "kernelspec": {
      "name": "python3",
      "display_name": "Python 3"
    },
    "language_info": {
      "name": "python"
    }
  },
  "cells": [
    {
      "cell_type": "markdown",
      "metadata": {
        "id": "og2AXzNxyev7"
      },
      "source": [
        "# Introduction\n",
        "In this challenge you'll be taking the given dataset and working with predictive models to make certain inferences about it. This will be much more free form than the labs you've seen each week, but we decided to have this challenge on Google Colab, since its a familiar platform.\n",
        "\n",
        "# Data\n",
        "\n",
        "The dataset can be found [here](https://groups.inf.ed.ac.uk/f4k/GROUNDTRUTH/RECOG/). Note that you must have a 90/10 train/test split with this data!\n",
        "\n",
        "The data is composed from a total of 27370 fish images taken from underwater live video. It contains 23 classes that represent different species of fish. \n",
        "\n",
        "![An image](https://groups.inf.ed.ac.uk/f4k/GROUNDTRUTH/RECOG/images/gt_labels.png)\n",
        "\n",
        "\n",
        "The data is organised in 23 files, each containing a single class. The distribution of the images by class is as follows:\n",
        "\n",
        "Number | Species | Count\n",
        "--- | --- | ---\n",
        " 01 | Dascyllus reticulatus  |\t 12112  \n",
        " 02 | Plectroglyphidodon dickii | \t 2683 \n",
        " 03 | Chromis chrysura  |\t 3593 \n",
        " 04 | Amphiprion clarkii  |\t 4049 \n",
        " 05 | Chaetodon lunulatus  |\t 2534 \n",
        " 06 | Chaetodon trifascialis  |\t 190 \n",
        " 07 | Myripristis kuntee  |\t 450 \n",
        " 08 | Acanthurus nigrofuscus  |\t 218 \n",
        " 09 | Hemigymnus fasciatus  |\t 241 \t\n",
        " 10 | Neoniphon sammara   |\t 299 \t\n",
        " 11 | Abudefduf vaigiensis  |\t 98 \n",
        " 12 | Canthigaster valentini  |\t 147 \n",
        " 13 | Pomacentrus moluccensis  |\t 181 \n",
        " 14 | Zebrasoma scopas  |\t 90 \n",
        " 15 | Hemigymnus melapterus  |\t 42 \n",
        " 16 | Lutjanus fulvus  |\t 206 \n",
        " 17 | Scolopsis bilineata  |\t 49 \n",
        " 18 | Scaridae   |\t 56 \n",
        " 19 | Pempheris vanicolensis   |\t 29 \n",
        " 20 | Zanclus cornutus  |\t 21 \n",
        " 21 | Neoglyphidodon nigroris   |\t 16 \n",
        " 22 | Balistapus undulatus  | \t 41 \n",
        " 23 | Siganus fuscescens   |\t 25 \t\n",
        "\n",
        "Each image is named as \"tracking id_fish id\". The tracking id refers to the fish trajectory, so images sharing this id have the same fish. The fish id is unique for each image and ranges from 1 to 27370. \n",
        "\n",
        "\n",
        "# What is expected?\n",
        "\n",
        "There are 3 primary tasks we'd like you to address with this data:\n",
        "\n",
        "1. (4 pts) Data augmentation and cleaning. Take some time to sift through a bunch of the images, and see if there are useful changes you could make to them. Consider transformations you could use on images to increase the number of datapoints for particular categories.\n",
        "2. (4 pts) Explore models to make inferences on the data. We are primarily looking for models that predict fish species given an image. You are welcome to work with models that do other things, but those should be done after making a classification model. Consider the different models you could use. If you decide to use a neural net, consider different options for the architecture, learning rate, activation functions, and other hyperparameters. These will likely have a large impact on your results!\n",
        "3. (4 pts) Visualize what your model has learned in some way (hint: If you used a CNN, try plotting some of the learned convolutional filters). Can you make inferences about what the model learned or how? Take this time to also make some plots pertaining to accuracy. Feel free to dip into methods we didn't cover in the course, e.g. AUC, cross validation, etc.\n",
        "4. (Bonus 4 pts) Produce a writeup of your results. While this step is optional, it is highly reccomended. In the field of Machine Learning and Data Science, it is incredibly important to be able to communicate your ideas and results to others. This is excellent practice for the real world, but it also is a way to demonstrate to potential employers your ability to communicate complex ideas! Here's what we'd hope for in a writeup: \n",
        "\n",
        "  a) A short description of the problem you tackled, why it may be important or useful, and the results. (1-2 paragraphs)\n",
        "\n",
        "  b) A description of how and why you modified the data. (1-2 paragraphs)\n",
        "\n",
        "  c) An explanation of the models you tried out that showed promise, as well as the final model you chose to use. Assume the reader has a basic understanding of how these models may work. If you use methods not covered in the course (e.g. attention, generative models, etc), then explain these methods in a few sentences so the reader knows the basic idea behind it. (2-3 paragraphs)\n",
        "\n",
        "  d) Conclude by discussing the results you got. Who could use this information or model to solve a problem? (1 paragraph)\n",
        "\n",
        "\n",
        "\n",
        "Note that the description for step 4 is just a set of reccomendations! You don't have to strictly adhere to the paragraph reccomendations, and you can cover more or less content in your write up. However you should treat the description as your baseline with which to work off of.\n",
        "\n",
        "\n",
        "Lastly, we will award additional points based on the accuracy of your model. The additional points will be given as (% correct based on our testing)*4pts.\n"
      ]
    }
  ]
}