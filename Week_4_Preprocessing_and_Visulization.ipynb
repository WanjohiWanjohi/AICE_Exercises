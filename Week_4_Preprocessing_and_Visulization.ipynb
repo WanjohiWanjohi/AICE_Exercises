{
  "nbformat": 4,
  "nbformat_minor": 0,
  "metadata": {
    "colab": {
      "name": "Week 4 Preprocessing and Visulization.ipynb",
      "provenance": [],
      "collapsed_sections": [
        "mBrMdgkKP_sn",
        "IM_8YR3IdeAJ"
      ],
      "include_colab_link": true
    },
    "kernelspec": {
      "name": "python3",
      "display_name": "Python 3"
    }
  },
  "cells": [
    {
      "cell_type": "markdown",
      "metadata": {
        "id": "view-in-github",
        "colab_type": "text"
      },
      "source": [
        "<a href=\"https://colab.research.google.com/github/WanjohiWanjohi/AICE_Exercises/blob/week_4/Week_4_Preprocessing_and_Visulization.ipynb\" target=\"_parent\"><img src=\"https://colab.research.google.com/assets/colab-badge.svg\" alt=\"Open In Colab\"/></a>"
      ]
    },
    {
      "cell_type": "markdown",
      "metadata": {
        "id": "bS5S1QsvS8ZG"
      },
      "source": [
        "#Week 4 Pandas data preprocessing and visualization\n",
        "Proprietary material - Under Creative Commons 4.0 licence CC-BY-NC https://creativecommons.org/licenses/by-nc/4.0/legalcode"
      ]
    },
    {
      "cell_type": "markdown",
      "metadata": {
        "id": "6l8sujOcU_mr"
      },
      "source": [
        "# Tutorial Overview\r\n",
        "Hi everyone! Welcome to the week 4 tutorial - Data processing with Pandas! \r\n",
        "\r\n",
        "In the lecture, we will go through data processing to prepare data for downstream actions. Visualise our data, get insights and decide whether the feature is giving any information about the target.\r\n",
        "\r\n",
        "* Required Knowledge: Visulaization\r\n",
        "\r\n",
        "\r\n",
        "\r\n",
        "\r\n",
        "\r\n",
        "\r\n"
      ]
    },
    {
      "cell_type": "markdown",
      "metadata": {
        "id": "GxbMez0PVd1H"
      },
      "source": [
        "#What is data preprocessing?\r\n",
        "Data Preprocessing is a technique that is used to convert the raw data into a clean data set.\r\n",
        "We collect data from a wide range of sources and most of the time, it is collected in raw format which is not applicable for the analysis.\r\n",
        "\r\n",
        "***Quick fact***:  Research says that data scientists spend around 80% of their time only on preparing the data for processing and 76% of data scientists view data preparation as the least enjoyable part of their work’ ~ Forbes"
      ]
    },
    {
      "cell_type": "markdown",
      "metadata": {
        "id": "8CdNO1bVV46s"
      },
      "source": [
        "#Why do we preprocess data?\r\n",
        "\r\n",
        "Most of the time, we don’t get quality data. It often contains missing, noisy and inconsistent values. This can potentially reduce the accuracy of the end result. Therefore, we need to prepare data for processing further and escape from the bottleneck situation.\r\n",
        "\r\n",
        "\r\n",
        "***quality data!  quality results!***\r\n",
        "\r\n",
        "You can relate data preprocessing to the context of that story. Here, data is our tool, the axe! with which we are going to make our machine learn things/do the analysis to unravel so much of information. You need to clean and prepare that data before using it as a tool and get a surprising outcome.\r\n"
      ]
    },
    {
      "cell_type": "markdown",
      "metadata": {
        "id": "pRG-oHL6Ejhr"
      },
      "source": [
        "# Tidying datasets\n",
        "\n",
        "Another very important dimension of preprocessing is to adjust the format of the dataset, to make sure the data is in an easily readable and processable format. See https://www.jeannicholashould.com/tidy-data-in-python.html for a good example of what dataset tidying is about.\n",
        "\n"
      ]
    },
    {
      "cell_type": "markdown",
      "metadata": {
        "id": "XnMd581uWI_m"
      },
      "source": [
        "#Getting Started: Preprocessing — Titanic Dataset\r\n",
        "\r\n",
        "Our dataset has information about passengers of the RMS Titanic Ship. RMS Titanic sank in the early morning of 15 April 1912 in the North Atlantic Ocean, four days into the ship’s maiden voyage from Southampton to New York City. It ended as a tragic voyage.\r\n"
      ]
    },
    {
      "cell_type": "markdown",
      "metadata": {
        "id": "rdAc9wnrx6Vy"
      },
      "source": [
        "<img src='https://fanart.tv/fanart/movies/597/hdmovieclearart/titanic-54114e0d18b88.png'>"
      ]
    },
    {
      "cell_type": "markdown",
      "metadata": {
        "id": "2BynWFJ2Ta1V"
      },
      "source": [
        "# Inspecting Titanic Dataset\n"
      ]
    },
    {
      "cell_type": "markdown",
      "metadata": {
        "id": "xAQ3xzCUT8Gq"
      },
      "source": [
        "[Titanic Kaggle Competition](https://www.kaggle.com/c/titanic/overview)\n"
      ]
    },
    {
      "cell_type": "code",
      "metadata": {
        "id": "9PY2oAwcjEY6"
      },
      "source": [
        "import numpy as np\n",
        "import pandas as pd\n",
        "import matplotlib.pyplot as plt\n",
        "import seaborn as sns\n",
        "%matplotlib inline"
      ],
      "execution_count": null,
      "outputs": []
    },
    {
      "cell_type": "markdown",
      "metadata": {
        "id": "H3jLhOv6B2uf"
      },
      "source": [
        "#### Download the dataset files"
      ]
    },
    {
      "cell_type": "code",
      "metadata": {
        "id": "oLeSWOX1AxdP"
      },
      "source": [
        "!wget -q https://drive.google.com/drive/folders/1gP9ZUJ9x0__Vu4W5MOgaPwnJrsGnqfU0/titanic-train.csv -O train.csv"
      ],
      "execution_count": null,
      "outputs": []
    },
    {
      "cell_type": "markdown",
      "metadata": {
        "id": "s4i0P37CB7RR"
      },
      "source": [
        "#### Load the data into DataFrames"
      ]
    },
    {
      "cell_type": "code",
      "metadata": {
        "id": "mEgO4HSqTgbB"
      },
      "source": [
        "df_train = pd.read_csv(\"train.csv\")"
      ],
      "execution_count": null,
      "outputs": []
    },
    {
      "cell_type": "markdown",
      "metadata": {
        "id": "ou1poDPCB_bo"
      },
      "source": [
        "#### Get DataFrame info\r\n",
        "\r\n",
        "Let's check for the basic information about the dataset by running simple commands."
      ]
    },
    {
      "cell_type": "code",
      "metadata": {
        "colab": {
          "base_uri": "https://localhost:8080/"
        },
        "id": "Q4QDdtOvDlxz",
        "outputId": "5cd675a0-fe6f-4512-f739-716479f34d98"
      },
      "source": [
        "df_train.shape"
      ],
      "execution_count": null,
      "outputs": [
        {
          "output_type": "execute_result",
          "data": {
            "text/plain": [
              "(891, 12)"
            ]
          },
          "metadata": {
            "tags": []
          },
          "execution_count": 5
        }
      ]
    },
    {
      "cell_type": "code",
      "metadata": {
        "colab": {
          "base_uri": "https://localhost:8080/"
        },
        "id": "kEtKnp7ZDwou",
        "outputId": "5a5f563b-4cc9-4a07-ef1c-1cc5cd937909"
      },
      "source": [
        "df_train.columns"
      ],
      "execution_count": null,
      "outputs": [
        {
          "output_type": "execute_result",
          "data": {
            "text/plain": [
              "Index(['PassengerId', 'Survived', 'Pclass', 'Name', 'Sex', 'Age', 'SibSp',\n",
              "       'Parch', 'Ticket', 'Fare', 'Cabin', 'Embarked'],\n",
              "      dtype='object')"
            ]
          },
          "metadata": {
            "tags": []
          },
          "execution_count": 6
        }
      ]
    },
    {
      "cell_type": "code",
      "metadata": {
        "id": "ge1vjoRAihv_",
        "colab": {
          "base_uri": "https://localhost:8080/"
        },
        "outputId": "c494a835-dbfe-4602-cef3-1159ee40980e"
      },
      "source": [
        "df_train.info()"
      ],
      "execution_count": null,
      "outputs": [
        {
          "output_type": "stream",
          "text": [
            "<class 'pandas.core.frame.DataFrame'>\n",
            "RangeIndex: 891 entries, 0 to 890\n",
            "Data columns (total 12 columns):\n",
            " #   Column       Non-Null Count  Dtype  \n",
            "---  ------       --------------  -----  \n",
            " 0   PassengerId  891 non-null    int64  \n",
            " 1   Survived     891 non-null    int64  \n",
            " 2   Pclass       891 non-null    int64  \n",
            " 3   Name         891 non-null    object \n",
            " 4   Sex          891 non-null    object \n",
            " 5   Age          714 non-null    float64\n",
            " 6   SibSp        891 non-null    int64  \n",
            " 7   Parch        891 non-null    int64  \n",
            " 8   Ticket       891 non-null    object \n",
            " 9   Fare         891 non-null    float64\n",
            " 10  Cabin        204 non-null    object \n",
            " 11  Embarked     889 non-null    object \n",
            "dtypes: float64(2), int64(5), object(5)\n",
            "memory usage: 83.7+ KB\n"
          ],
          "name": "stdout"
        }
      ]
    },
    {
      "cell_type": "markdown",
      "metadata": {
        "id": "guwQg6o9leiu"
      },
      "source": [
        "The dataset has 12 columns related to passenger details: \n",
        "\n",
        "*   PassengerId: Passenger’s unique ID\n",
        "*   Survived: Survival status of the passengers (0 = No; 1 = Yes)\n",
        "*  Pclass: Passenger class (1 = First; 2 = Second; 3 = Third)\n",
        "*   Name: Passenger’s name\n",
        "*   Sex: Sex of the Passenger\n",
        "*   Age: Age of the Passenger\n",
        "*   SibSp: Number of siblings/spouses aboard\n",
        "*   ParCh: Number of parents/children aboard\n",
        "*   Ticket: Ticket number\n",
        "*   Fare: Passenger fare\n",
        "*   Cabin: Cabin\n",
        "*   Embarked: Port of embarkation (C = Cherbourg; Q = Queenstown; S = Southampton)\n"
      ]
    },
    {
      "cell_type": "code",
      "metadata": {
        "id": "d6JZdwiHiZHl",
        "colab": {
          "base_uri": "https://localhost:8080/",
          "height": 341
        },
        "outputId": "0d801dd0-e6e1-4cff-d412-0f781d9dad94"
      },
      "source": [
        "df_train.head()"
      ],
      "execution_count": null,
      "outputs": [
        {
          "output_type": "execute_result",
          "data": {
            "text/html": [
              "<div>\n",
              "<style scoped>\n",
              "    .dataframe tbody tr th:only-of-type {\n",
              "        vertical-align: middle;\n",
              "    }\n",
              "\n",
              "    .dataframe tbody tr th {\n",
              "        vertical-align: top;\n",
              "    }\n",
              "\n",
              "    .dataframe thead th {\n",
              "        text-align: right;\n",
              "    }\n",
              "</style>\n",
              "<table border=\"1\" class=\"dataframe\">\n",
              "  <thead>\n",
              "    <tr style=\"text-align: right;\">\n",
              "      <th></th>\n",
              "      <th>PassengerId</th>\n",
              "      <th>Survived</th>\n",
              "      <th>Pclass</th>\n",
              "      <th>Name</th>\n",
              "      <th>Sex</th>\n",
              "      <th>Age</th>\n",
              "      <th>SibSp</th>\n",
              "      <th>Parch</th>\n",
              "      <th>Ticket</th>\n",
              "      <th>Fare</th>\n",
              "      <th>Cabin</th>\n",
              "      <th>Embarked</th>\n",
              "    </tr>\n",
              "  </thead>\n",
              "  <tbody>\n",
              "    <tr>\n",
              "      <th>0</th>\n",
              "      <td>1</td>\n",
              "      <td>0</td>\n",
              "      <td>3</td>\n",
              "      <td>Braund, Mr. Owen Harris</td>\n",
              "      <td>male</td>\n",
              "      <td>22.0</td>\n",
              "      <td>1</td>\n",
              "      <td>0</td>\n",
              "      <td>A/5 21171</td>\n",
              "      <td>7.2500</td>\n",
              "      <td>NaN</td>\n",
              "      <td>S</td>\n",
              "    </tr>\n",
              "    <tr>\n",
              "      <th>1</th>\n",
              "      <td>2</td>\n",
              "      <td>1</td>\n",
              "      <td>1</td>\n",
              "      <td>Cumings, Mrs. John Bradley (Florence Briggs Th...</td>\n",
              "      <td>female</td>\n",
              "      <td>38.0</td>\n",
              "      <td>1</td>\n",
              "      <td>0</td>\n",
              "      <td>PC 17599</td>\n",
              "      <td>71.2833</td>\n",
              "      <td>C85</td>\n",
              "      <td>C</td>\n",
              "    </tr>\n",
              "    <tr>\n",
              "      <th>2</th>\n",
              "      <td>3</td>\n",
              "      <td>1</td>\n",
              "      <td>3</td>\n",
              "      <td>Heikkinen, Miss. Laina</td>\n",
              "      <td>female</td>\n",
              "      <td>26.0</td>\n",
              "      <td>0</td>\n",
              "      <td>0</td>\n",
              "      <td>STON/O2. 3101282</td>\n",
              "      <td>7.9250</td>\n",
              "      <td>NaN</td>\n",
              "      <td>S</td>\n",
              "    </tr>\n",
              "    <tr>\n",
              "      <th>3</th>\n",
              "      <td>4</td>\n",
              "      <td>1</td>\n",
              "      <td>1</td>\n",
              "      <td>Futrelle, Mrs. Jacques Heath (Lily May Peel)</td>\n",
              "      <td>female</td>\n",
              "      <td>35.0</td>\n",
              "      <td>1</td>\n",
              "      <td>0</td>\n",
              "      <td>113803</td>\n",
              "      <td>53.1000</td>\n",
              "      <td>C123</td>\n",
              "      <td>S</td>\n",
              "    </tr>\n",
              "    <tr>\n",
              "      <th>4</th>\n",
              "      <td>5</td>\n",
              "      <td>0</td>\n",
              "      <td>3</td>\n",
              "      <td>Allen, Mr. William Henry</td>\n",
              "      <td>male</td>\n",
              "      <td>35.0</td>\n",
              "      <td>0</td>\n",
              "      <td>0</td>\n",
              "      <td>373450</td>\n",
              "      <td>8.0500</td>\n",
              "      <td>NaN</td>\n",
              "      <td>S</td>\n",
              "    </tr>\n",
              "  </tbody>\n",
              "</table>\n",
              "</div>"
            ],
            "text/plain": [
              "   PassengerId  Survived  Pclass  ...     Fare Cabin  Embarked\n",
              "0            1         0       3  ...   7.2500   NaN         S\n",
              "1            2         1       1  ...  71.2833   C85         C\n",
              "2            3         1       3  ...   7.9250   NaN         S\n",
              "3            4         1       1  ...  53.1000  C123         S\n",
              "4            5         0       3  ...   8.0500   NaN         S\n",
              "\n",
              "[5 rows x 12 columns]"
            ]
          },
          "metadata": {
            "tags": []
          },
          "execution_count": 8
        }
      ]
    },
    {
      "cell_type": "markdown",
      "metadata": {
        "id": "1OW_f1w6CFQ9"
      },
      "source": [
        "#### Inspect for null values\r\n",
        "\r\n",
        "It returns a number of null values in each column."
      ]
    },
    {
      "cell_type": "code",
      "metadata": {
        "id": "gDG4P_IN3jGK",
        "colab": {
          "base_uri": "https://localhost:8080/"
        },
        "outputId": "a688b5c2-f29b-4d34-90de-c35b513dbe99"
      },
      "source": [
        "df_train.isnull().sum()"
      ],
      "execution_count": null,
      "outputs": [
        {
          "output_type": "execute_result",
          "data": {
            "text/plain": [
              "PassengerId      0\n",
              "Survived         0\n",
              "Pclass           0\n",
              "Name             0\n",
              "Sex              0\n",
              "Age            177\n",
              "SibSp            0\n",
              "Parch            0\n",
              "Ticket           0\n",
              "Fare             0\n",
              "Cabin          687\n",
              "Embarked         2\n",
              "dtype: int64"
            ]
          },
          "metadata": {
            "tags": []
          },
          "execution_count": 9
        }
      ]
    },
    {
      "cell_type": "markdown",
      "metadata": {
        "id": "CO-IFuOKELsS"
      },
      "source": [
        "# Handle missing values:\r\n",
        "\r\n",
        "there are 3 columns with Null values"
      ]
    },
    {
      "cell_type": "markdown",
      "metadata": {
        "id": "VW9Ja0txEXeX"
      },
      "source": [
        "# Exercise \r\n",
        "\r\n",
        "#### Q1 - Imputation\r\n",
        "**Imputation for null values in \"Age\".**   \r\n",
        "Hint: One could simply replace it with the mean value or get creative and guess the correct age with the title in the `Name`.\r\n",
        "\r\n",
        "**Imputation for null values in \"Cabin\".**  \r\n",
        "\r\n",
        "**Imputation for null values in \"Embarked\"**\r\n",
        "\r\n"
      ]
    },
    {
      "cell_type": "markdown",
      "metadata": {
        "id": "27Dbex3aGb6g"
      },
      "source": [
        "https://pandas.pydata.org/pandas-docs/stable/reference/api/pandas.DataFrame.fillna.html"
      ]
    },
    {
      "cell_type": "markdown",
      "metadata": {
        "id": "IcUdWbpIP7zL"
      },
      "source": [
        "## Age"
      ]
    },
    {
      "cell_type": "markdown",
      "metadata": {
        "id": "GA4DJPOSKzRl"
      },
      "source": [
        "We are going the impute the missing values in the ‘Age’ column by taking the mean value in each group. \r\n",
        "Before that lets see some statistics about Age in the data set."
      ]
    },
    {
      "cell_type": "code",
      "metadata": {
        "colab": {
          "base_uri": "https://localhost:8080/"
        },
        "id": "bv2PFp7QLvZd",
        "outputId": "f21e5938-8fab-4d62-9909-c02366f82494"
      },
      "source": [
        "df_train[df_train['Survived']==1]['Age'].describe()"
      ],
      "execution_count": null,
      "outputs": [
        {
          "output_type": "execute_result",
          "data": {
            "text/plain": [
              "count    290.000000\n",
              "mean      28.343690\n",
              "std       14.950952\n",
              "min        0.420000\n",
              "25%       19.000000\n",
              "50%       28.000000\n",
              "75%       36.000000\n",
              "max       80.000000\n",
              "Name: Age, dtype: float64"
            ]
          },
          "metadata": {
            "tags": []
          },
          "execution_count": 80
        }
      ]
    },
    {
      "cell_type": "code",
      "metadata": {
        "colab": {
          "base_uri": "https://localhost:8080/"
        },
        "id": "ju388H2wLzwH",
        "outputId": "52f22f3d-1f7d-4dad-c714-557b71a1f526"
      },
      "source": [
        "df_train[df_train['Survived']==0]['Age'].describe()"
      ],
      "execution_count": null,
      "outputs": [
        {
          "output_type": "execute_result",
          "data": {
            "text/plain": [
              "count    424.000000\n",
              "mean      30.626179\n",
              "std       14.172110\n",
              "min        1.000000\n",
              "25%       21.000000\n",
              "50%       28.000000\n",
              "75%       39.000000\n",
              "max       74.000000\n",
              "Name: Age, dtype: float64"
            ]
          },
          "metadata": {
            "tags": []
          },
          "execution_count": 81
        }
      ]
    },
    {
      "cell_type": "markdown",
      "metadata": {
        "id": "LidDKKXyL4MC"
      },
      "source": [
        "Lets visualise the same information with box plot:\r\n",
        "\r\n",
        "Bottom black horizontal line of blue box plot is minimum value\r\n",
        "First black horizontal line of rectangle shape of blue box plot is First quartile or 25%\r\n",
        "Second black horizontal line of rectangle shape of blue box plot is Second quartile or 50% or median.\r\n",
        "Third black horizontal line of rectangle shape of blue box plot is third quartile or 75%\r\n",
        "Top black horizontal line of rectangle shape of blue box plot is maximum value.\r\n",
        "Small diamond shape of blue box plot is outlier data or erroneous data."
      ]
    },
    {
      "cell_type": "code",
      "metadata": {
        "colab": {
          "base_uri": "https://localhost:8080/",
          "height": 297
        },
        "id": "MSuFu8nFL88v",
        "outputId": "84adb881-3928-46d4-f5dc-59bb03eedf84"
      },
      "source": [
        "sns.boxplot(x='Survived',y='Age',data=df_train)"
      ],
      "execution_count": null,
      "outputs": [
        {
          "output_type": "execute_result",
          "data": {
            "text/plain": [
              "<matplotlib.axes._subplots.AxesSubplot at 0x7f2b90561470>"
            ]
          },
          "metadata": {
            "tags": []
          },
          "execution_count": 82
        },
        {
          "output_type": "display_data",
          "data": {
            "image/png": "[encoded data removed]",
            "text/plain": [
              "<Figure size 432x288 with 1 Axes>"
            ]
          },
          "metadata": {
            "tags": [],
            "needs_background": "light"
          }
        }
      ]
    },
    {
      "cell_type": "code",
      "metadata": {
        "colab": {
          "base_uri": "https://localhost:8080/",
          "height": 753
        },
        "id": "AGKiKgJ5MDLg",
        "outputId": "2a6a05b2-a2cf-4912-8c21-60117b86abd4"
      },
      "source": [
        "sns.displot(df_train[df_train['Survived']==1]['Age'].dropna(), bins=15, kde=True, color='green')\r\n",
        "plt.title('Age distribution of Survived Titanic passengers');\r\n",
        "sns.displot(df_train[df_train['Survived']==0]['Age'].dropna(), bins=15, kde=True, color='red')\r\n",
        "plt.ylabel('Count')\r\n",
        "plt.title('Age distribution of Deceased Titanic passengers');"
      ],
      "execution_count": null,
      "outputs": [
        {
          "output_type": "display_data",
          "data": {
            "image/png": "[encoded data removed]",
            "text/plain": [
              "<Figure size 360x360 with 1 Axes>"
            ]
          },
          "metadata": {
            "tags": [],
            "needs_background": "light"
          }
        },
        {
          "output_type": "display_data",
          "data": {
            "image/png": "[encoded data removed]",
            "text/plain": [
              "<Figure size 360x360 with 1 Axes>"
            ]
          },
          "metadata": {
            "tags": [],
            "needs_background": "light"
          }
        }
      ]
    },
    {
      "cell_type": "markdown",
      "metadata": {
        "id": "mBrMdgkKP_sn"
      },
      "source": [
        "### Exercise \r\n",
        "\r\n",
        "**Imputation for null values in \"Age\".**   \r\n",
        "Hint: One could simply replace it with the mean value or get creative and guess the correct age with the title in the `Name`.\r\n"
      ]
    },
    {
      "cell_type": "code",
      "metadata": {
        "id": "4WTeUOMjMMse"
      },
      "source": [
        "df_train.Age = df_train.Age.fillna(df_train.Age.mean())"
      ],
      "execution_count": null,
      "outputs": []
    },
    {
      "cell_type": "markdown",
      "metadata": {
        "id": "q8W8w8xqHbHh"
      },
      "source": [
        "## Cabin"
      ]
    },
    {
      "cell_type": "markdown",
      "metadata": {
        "id": "YzXuLXe5QMa6"
      },
      "source": [
        "Lets explore the data first."
      ]
    },
    {
      "cell_type": "code",
      "metadata": {
        "colab": {
          "base_uri": "https://localhost:8080/"
        },
        "id": "HUM93MPmGlYa",
        "outputId": "563464f8-2ba2-4695-b9d7-a5876a5397a5"
      },
      "source": [
        "df_train['Cabin']"
      ],
      "execution_count": null,
      "outputs": [
        {
          "output_type": "execute_result",
          "data": {
            "text/plain": [
              "0       NaN\n",
              "1       C85\n",
              "2       NaN\n",
              "3      C123\n",
              "4       NaN\n",
              "       ... \n",
              "886     NaN\n",
              "887     B42\n",
              "888     NaN\n",
              "889    C148\n",
              "890     NaN\n",
              "Name: Cabin, Length: 891, dtype: object"
            ]
          },
          "metadata": {
            "tags": []
          },
          "execution_count": 89
        }
      ]
    },
    {
      "cell_type": "markdown",
      "metadata": {
        "id": "O9avKQOKIgMi"
      },
      "source": [
        "Cabin column has 687 missing values, when you see carefully, it has a unique character at the beginning which denotes the deck number. So I have extacted the first charecter. \r\n",
        "Using NaN value as an information for the model. "
      ]
    },
    {
      "cell_type": "code",
      "metadata": {
        "colab": {
          "base_uri": "https://localhost:8080/",
          "height": 280
        },
        "id": "TvDNAj-aHVYQ",
        "outputId": "c3390090-3168-42cc-d2d0-97ee076b7cb0"
      },
      "source": [
        "# Splitting the first letter to get class of the Cabin\r\n",
        "df_train['Cabin_init'] = df_train['Cabin'].apply(lambda x : str(x)[0])\r\n",
        "sns.barplot(x='Cabin_init', y='Survived', data=df_train);"
      ],
      "execution_count": null,
      "outputs": [
        {
          "output_type": "display_data",
          "data": {
            "image/png": "[encoded data removed]",
            "text/plain": [
              "<Figure size 432x288 with 1 Axes>"
            ]
          },
          "metadata": {
            "tags": [],
            "needs_background": "light"
          }
        }
      ]
    },
    {
      "cell_type": "markdown",
      "metadata": {
        "id": "d7WQXuf1PsB8"
      },
      "source": [
        "Fill the columns null with information as 'Not available' and rest as 'available'"
      ]
    },
    {
      "cell_type": "code",
      "metadata": {
        "colab": {
          "base_uri": "https://localhost:8080/",
          "height": 279
        },
        "id": "EG7MxvFrHXcr",
        "outputId": "9af757eb-c39b-4fb0-aed9-f043ea2e69e3"
      },
      "source": [
        "# Using NaN value as an information for the model.\r\n",
        "df_train.loc[df_train.Cabin.notnull(), 'Cabin']='available'\r\n",
        "df_train.loc[df_train.Cabin.isnull(), 'Cabin']='not available'\r\n",
        "sns.barplot(x='Cabin', y='Survived', data=df_train);"
      ],
      "execution_count": null,
      "outputs": [
        {
          "output_type": "display_data",
          "data": {
            "image/png": "[encoded data removed]",
            "text/plain": [
              "<Figure size 432x288 with 1 Axes>"
            ]
          },
          "metadata": {
            "tags": [],
            "needs_background": "light"
          }
        }
      ]
    },
    {
      "cell_type": "markdown",
      "metadata": {
        "id": "440aBbhJJli9"
      },
      "source": [
        "##Embarked\r\n",
        "we can simply impute the missing values with most commonly occurred value, which is ‘S’ in this case."
      ]
    },
    {
      "cell_type": "code",
      "metadata": {
        "colab": {
          "base_uri": "https://localhost:8080/"
        },
        "id": "foIUhq0mJk__",
        "outputId": "c43ec6bb-9b9d-4808-8651-40b128f72040"
      },
      "source": [
        "df_train[\"Embarked\"].value_counts()"
      ],
      "execution_count": null,
      "outputs": [
        {
          "output_type": "execute_result",
          "data": {
            "text/plain": [
              "S    644\n",
              "C    168\n",
              "Q     77\n",
              "Name: Embarked, dtype: int64"
            ]
          },
          "metadata": {
            "tags": []
          },
          "execution_count": 72
        }
      ]
    },
    {
      "cell_type": "code",
      "metadata": {
        "id": "8f2ZGEinKM4a"
      },
      "source": [
        "data['Embarked'] = data['Embarked'].fillna('S')"
      ],
      "execution_count": null,
      "outputs": []
    },
    {
      "cell_type": "markdown",
      "metadata": {
        "id": "I0EpNYt8MoLr"
      },
      "source": [
        "# Encoding categorical features\r\n",
        "\r\n",
        "Many machine learning algorithms support categorical values by converting to numerical values. we are converting few of them here.\r\n",
        "\r\n",
        "Columns which are categorical are  : \r\n",
        "\r\n",
        "*   Sex \r\n",
        "*   Cabin\r\n",
        "*   Embarked\r\n",
        "*   Pclass\r\n",
        "\r\n",
        "Initially, we are just going to replace the categorical values into numerical data using replace.\r\n"
      ]
    },
    {
      "cell_type": "markdown",
      "metadata": {
        "id": "qpkJMi81oSW7"
      },
      "source": [
        "## Sex\r\n",
        "\r\n",
        "Lets see the How many people survived? How many of them are male/female."
      ]
    },
    {
      "cell_type": "code",
      "metadata": {
        "colab": {
          "base_uri": "https://localhost:8080/"
        },
        "id": "z_xQ4RiecS17",
        "outputId": "81057adf-f414-4053-db33-6eb9a38fc92f"
      },
      "source": [
        "df_train[\"Survived\"].value_counts()"
      ],
      "execution_count": null,
      "outputs": [
        {
          "output_type": "execute_result",
          "data": {
            "text/plain": [
              "0    549\n",
              "1    342\n",
              "Name: Survived, dtype: int64"
            ]
          },
          "metadata": {
            "tags": []
          },
          "execution_count": 9
        }
      ]
    },
    {
      "cell_type": "code",
      "metadata": {
        "colab": {
          "base_uri": "https://localhost:8080/",
          "height": 279
        },
        "id": "Rw7u3NaMxvZg",
        "outputId": "8a5aa54b-11c2-46ac-cbdd-37f63a9a02ca"
      },
      "source": [
        "#Visualize the count of number of survivors\r\n",
        "sns.countplot(x='Survived', label=\"Count\", data=df_train);"
      ],
      "execution_count": null,
      "outputs": [
        {
          "output_type": "display_data",
          "data": {
            "image/png": "[encoded data removed]",
            "text/plain": [
              "<Figure size 432x288 with 1 Axes>"
            ]
          },
          "metadata": {
            "tags": [],
            "needs_background": "light"
          }
        }
      ]
    },
    {
      "cell_type": "markdown",
      "metadata": {
        "id": "r5RP0l_SoYc3"
      },
      "source": [
        "How many males and females on the ship?"
      ]
    },
    {
      "cell_type": "code",
      "metadata": {
        "colab": {
          "base_uri": "https://localhost:8080/"
        },
        "id": "-RKLiv4CeKgh",
        "outputId": "fde3bf3b-05f9-4c58-f5e1-69b5e2ddfffc"
      },
      "source": [
        "print('Number of male in this data sample: %d' %df_train[df_train['Sex'] == 'male']['PassengerId'].count())\r\n",
        "print('Number of female in this data sample: %d' %df_train[df_train['Sex'] == 'female']['PassengerId'].count())"
      ],
      "execution_count": null,
      "outputs": [
        {
          "output_type": "stream",
          "text": [
            "Number of male in this data sample: 577\n",
            "Number of female in this data sample: 314\n"
          ],
          "name": "stdout"
        }
      ]
    },
    {
      "cell_type": "code",
      "metadata": {
        "colab": {
          "base_uri": "https://localhost:8080/",
          "height": 281
        },
        "id": "Dt8fvmwbyFyk",
        "outputId": "0e62157c-ace4-4ccd-f95a-ae499d3aa287"
      },
      "source": [
        "# Visualize the count of number of female and male \r\n",
        "sns.countplot(x='Sex', data=df_train);"
      ],
      "execution_count": null,
      "outputs": [
        {
          "output_type": "display_data",
          "data": {
            "image/png": "[encoded data removed]",
            "text/plain": [
              "<Figure size 432x288 with 1 Axes>"
            ]
          },
          "metadata": {
            "tags": [],
            "needs_background": "light"
          }
        }
      ]
    },
    {
      "cell_type": "markdown",
      "metadata": {
        "id": "oM3JQV02owB7"
      },
      "source": [
        "How many males and females survived on the ship?"
      ]
    },
    {
      "cell_type": "markdown",
      "metadata": {
        "id": "IM_8YR3IdeAJ"
      },
      "source": [
        "##Exercise\r\n",
        "Count the number of females and males in each survived category"
      ]
    },
    {
      "cell_type": "code",
      "metadata": {
        "colab": {
          "base_uri": "https://localhost:8080/"
        },
        "id": "0szCtimsoi4w",
        "outputId": "7bc39122-8074-4414-ac53-7a6f3694bd23"
      },
      "source": [
        "print(df_train.groupby(['Survived','Sex']).size())"
      ],
      "execution_count": null,
      "outputs": [
        {
          "output_type": "stream",
          "text": [
            "Survived  Sex   \n",
            "0         female     81\n",
            "          male      468\n",
            "1         female    233\n",
            "          male      109\n",
            "dtype: int64\n"
          ],
          "name": "stdout"
        }
      ]
    },
    {
      "cell_type": "code",
      "metadata": {
        "colab": {
          "base_uri": "https://localhost:8080/",
          "height": 279
        },
        "id": "XvMxXtfTycf_",
        "outputId": "ed1e4147-d28c-46ab-bb27-aa2909594b5e"
      },
      "source": [
        "# Another way to look at the same data.\r\n",
        "sns.countplot(x='Sex', hue='Survived', data=df_train, palette='RdBu_r');"
      ],
      "execution_count": null,
      "outputs": [
        {
          "output_type": "display_data",
          "data": {
            "image/png": "[encoded data removed]",
            "text/plain": [
              "<Figure size 432x288 with 1 Axes>"
            ]
          },
          "metadata": {
            "tags": [],
            "needs_background": "light"
          }
        }
      ]
    },
    {
      "cell_type": "markdown",
      "metadata": {
        "id": "vbkkHtKrNqGf"
      },
      "source": [
        "Replace male/female to 1/0"
      ]
    },
    {
      "cell_type": "code",
      "metadata": {
        "id": "CK783KGxAw4B"
      },
      "source": [
        "data['Sex'].replace(['male', 'female'], ['1', '0'], inplace=True)"
      ],
      "execution_count": null,
      "outputs": []
    },
    {
      "cell_type": "markdown",
      "metadata": {
        "id": "0BeoeuDvOFAH"
      },
      "source": [
        "## Embarked"
      ]
    },
    {
      "cell_type": "code",
      "metadata": {
        "id": "m4L5QQNaOGyz"
      },
      "source": [
        "data['Embarked'] = data['Embarked'].replace(['C', 'Q', 'S'], ['1', '2', '3'])"
      ],
      "execution_count": null,
      "outputs": []
    },
    {
      "cell_type": "markdown",
      "metadata": {
        "id": "gYNc4nLCOZTD"
      },
      "source": [
        "## Cabin\r\n",
        "\r\n"
      ]
    },
    {
      "cell_type": "code",
      "metadata": {
        "colab": {
          "base_uri": "https://localhost:8080/",
          "height": 279
        },
        "id": "bM1UNhtsOarJ",
        "outputId": "90d25166-cb3e-445d-d69f-d41d70bc1d01"
      },
      "source": [
        "# Using NaN value as an information for the model.\r\n",
        "df_train.loc[df_train.Cabin.notnull(), 'Cabin']=1\r\n",
        "df_train.loc[df_train.Cabin.isnull(), 'Cabin']=0\r\n",
        "sns.barplot(x='Cabin', y='Survived', data=df_train);"
      ],
      "execution_count": null,
      "outputs": [
        {
          "output_type": "display_data",
          "data": {
            "image/png": "[encoded data removed]",
            "text/plain": [
              "<Figure size 432x288 with 1 Axes>"
            ]
          },
          "metadata": {
            "tags": [],
            "needs_background": "light"
          }
        }
      ]
    },
    {
      "cell_type": "code",
      "metadata": {
        "colab": {
          "base_uri": "https://localhost:8080/",
          "height": 280
        },
        "id": "EEC4HxCj1khD",
        "outputId": "01ce8241-395c-4479-d1f3-7916e567bf3c"
      },
      "source": [
        "df_train.Age = pd.cut(df_train.Age, (-1, 0, 5, 15, 25, 40, 60,120),\r\n",
        "                        labels=[\"Null\", \"baby\",\"child\", \"teen\", \"adult\", \"senior\", \"very_senior\"])\r\n",
        "\r\n",
        "average_age = df_train[[\"Age\", \"Survived\"]].groupby(['Age'],as_index=False).mean()\r\n",
        "sns.barplot(x='Age', y='Survived', data=average_age);"
      ],
      "execution_count": null,
      "outputs": [
        {
          "output_type": "display_data",
          "data": {
            "image/png": "[encoded data removed]",
            "text/plain": [
              "<Figure size 432x288 with 1 Axes>"
            ]
          },
          "metadata": {
            "tags": [],
            "needs_background": "light"
          }
        }
      ]
    },
    {
      "cell_type": "markdown",
      "metadata": {
        "id": "5kViEJAloEb7"
      },
      "source": [
        "## P class\r\n",
        "\r\n",
        "Were social-economic standing a factor in survival rate? Lets visualise and see"
      ]
    },
    {
      "cell_type": "code",
      "metadata": {
        "colab": {
          "base_uri": "https://localhost:8080/",
          "height": 279
        },
        "id": "pgXoSm0V0Vyq",
        "outputId": "6fd8017c-13bd-4c4d-f21e-9a719d8bdeae"
      },
      "source": [
        "# Comparing Social class with survival rate\r\n",
        "sns.barplot(x='Pclass', y='Survived', data=df_train);"
      ],
      "execution_count": null,
      "outputs": [
        {
          "output_type": "display_data",
          "data": {
            "image/png": "[encoded data removed]",
            "text/plain": [
              "<Figure size 432x288 with 1 Axes>"
            ]
          },
          "metadata": {
            "tags": [],
            "needs_background": "light"
          }
        }
      ]
    },
    {
      "cell_type": "code",
      "metadata": {
        "colab": {
          "base_uri": "https://localhost:8080/"
        },
        "id": "Npgtbi9MnzJc",
        "outputId": "76a881c5-7d1c-4fbc-b75d-8bab9226d84a"
      },
      "source": [
        "groupedby_class_survived_size = df_train.groupby(['Pclass','Survived','Sex']).size()\r\n",
        "groupedby_class_survived_size"
      ],
      "execution_count": null,
      "outputs": [
        {
          "output_type": "execute_result",
          "data": {
            "text/plain": [
              "Pclass  Survived  Sex   \n",
              "1       0         female      3\n",
              "                  male       77\n",
              "        1         female     91\n",
              "                  male       45\n",
              "2       0         female      6\n",
              "                  male       91\n",
              "        1         female     70\n",
              "                  male       17\n",
              "3       0         female     72\n",
              "                  male      300\n",
              "        1         female     72\n",
              "                  male       47\n",
              "dtype: int64"
            ]
          },
          "metadata": {
            "tags": []
          },
          "execution_count": 40
        }
      ]
    },
    {
      "cell_type": "markdown",
      "metadata": {
        "id": "FyvFuffz-R0Z"
      },
      "source": [
        "Encoding categorical variables: \r\n",
        "\r\n",
        "\r\n",
        "https://www.analyticsvidhya.com/blog/2020/03/one-hot-encoding-vs-label-encoding-using-scikit-learn/"
      ]
    },
    {
      "cell_type": "code",
      "metadata": {
        "id": "0GZxeoBXzpNp",
        "colab": {
          "base_uri": "https://localhost:8080/",
          "height": 202
        },
        "outputId": "f4322118-29ff-43cd-8107-3fb61b8c8e30"
      },
      "source": [
        "## Converting pclass into three separate boolean variables\r\n",
        "dummy_pclass = pd.get_dummies(df_train.Pclass, prefix='Pclass')\r\n",
        "dummy_pclass.head()"
      ],
      "execution_count": null,
      "outputs": [
        {
          "output_type": "execute_result",
          "data": {
            "text/html": [
              "<div>\n",
              "<style scoped>\n",
              "    .dataframe tbody tr th:only-of-type {\n",
              "        vertical-align: middle;\n",
              "    }\n",
              "\n",
              "    .dataframe tbody tr th {\n",
              "        vertical-align: top;\n",
              "    }\n",
              "\n",
              "    .dataframe thead th {\n",
              "        text-align: right;\n",
              "    }\n",
              "</style>\n",
              "<table border=\"1\" class=\"dataframe\">\n",
              "  <thead>\n",
              "    <tr style=\"text-align: right;\">\n",
              "      <th></th>\n",
              "      <th>Pclass_1</th>\n",
              "      <th>Pclass_2</th>\n",
              "      <th>Pclass_3</th>\n",
              "    </tr>\n",
              "  </thead>\n",
              "  <tbody>\n",
              "    <tr>\n",
              "      <th>0</th>\n",
              "      <td>0</td>\n",
              "      <td>0</td>\n",
              "      <td>1</td>\n",
              "    </tr>\n",
              "    <tr>\n",
              "      <th>1</th>\n",
              "      <td>1</td>\n",
              "      <td>0</td>\n",
              "      <td>0</td>\n",
              "    </tr>\n",
              "    <tr>\n",
              "      <th>2</th>\n",
              "      <td>0</td>\n",
              "      <td>0</td>\n",
              "      <td>1</td>\n",
              "    </tr>\n",
              "    <tr>\n",
              "      <th>3</th>\n",
              "      <td>1</td>\n",
              "      <td>0</td>\n",
              "      <td>0</td>\n",
              "    </tr>\n",
              "    <tr>\n",
              "      <th>4</th>\n",
              "      <td>0</td>\n",
              "      <td>0</td>\n",
              "      <td>1</td>\n",
              "    </tr>\n",
              "  </tbody>\n",
              "</table>\n",
              "</div>"
            ],
            "text/plain": [
              "   Pclass_1  Pclass_2  Pclass_3\n",
              "0         0         0         1\n",
              "1         1         0         0\n",
              "2         0         0         1\n",
              "3         1         0         0\n",
              "4         0         0         1"
            ]
          },
          "metadata": {
            "tags": []
          },
          "execution_count": 40
        }
      ]
    },
    {
      "cell_type": "code",
      "metadata": {
        "colab": {
          "base_uri": "https://localhost:8080/"
        },
        "id": "0PPDlY1p9ia-",
        "outputId": "a734627a-efc2-43b4-a59d-c2cf21edc782"
      },
      "source": [
        "# Merging these new classes with the main data.\r\n",
        "df_train = df_train.merge(dummy_pclass, left_index=True, right_index=True)\r\n",
        "df_train.info()"
      ],
      "execution_count": null,
      "outputs": [
        {
          "output_type": "stream",
          "text": [
            "<class 'pandas.core.frame.DataFrame'>\n",
            "RangeIndex: 891 entries, 0 to 890\n",
            "Data columns (total 15 columns):\n",
            " #   Column       Non-Null Count  Dtype  \n",
            "---  ------       --------------  -----  \n",
            " 0   PassengerId  891 non-null    int64  \n",
            " 1   Survived     891 non-null    int64  \n",
            " 2   Pclass       891 non-null    int64  \n",
            " 3   Name         891 non-null    object \n",
            " 4   Sex          891 non-null    object \n",
            " 5   Age          714 non-null    float64\n",
            " 6   SibSp        891 non-null    int64  \n",
            " 7   Parch        891 non-null    int64  \n",
            " 8   Ticket       891 non-null    object \n",
            " 9   Fare         891 non-null    float64\n",
            " 10  Cabin        204 non-null    object \n",
            " 11  Embarked     889 non-null    object \n",
            " 12  Pclass_1     891 non-null    uint8  \n",
            " 13  Pclass_2     891 non-null    uint8  \n",
            " 14  Pclass_3     891 non-null    uint8  \n",
            "dtypes: float64(2), int64(5), object(5), uint8(3)\n",
            "memory usage: 86.3+ KB\n"
          ],
          "name": "stdout"
        }
      ]
    },
    {
      "cell_type": "code",
      "metadata": {
        "colab": {
          "base_uri": "https://localhost:8080/"
        },
        "id": "tHQJygTXtXZ9",
        "outputId": "8abf72df-6c21-4232-8759-63c4fcaac808"
      },
      "source": [
        "groupedby_age_survived_size = df_train.groupby(['Age','Survived']).size()\r\n",
        "groupedby_age_survived_size"
      ],
      "execution_count": null,
      "outputs": [
        {
          "output_type": "execute_result",
          "data": {
            "text/plain": [
              "Age          Survived\n",
              "Null         0           125\n",
              "             1            52\n",
              "baby         0            13\n",
              "             1            31\n",
              "child        0            21\n",
              "             1            18\n",
              "teen         0           143\n",
              "             1            75\n",
              "adult        0           152\n",
              "             1           111\n",
              "senior       0            78\n",
              "             1            50\n",
              "very_senior  0            17\n",
              "             1             5\n",
              "dtype: int64"
            ]
          },
          "metadata": {
            "tags": []
          },
          "execution_count": 61
        }
      ]
    },
    {
      "cell_type": "code",
      "metadata": {
        "colab": {
          "base_uri": "https://localhost:8080/"
        },
        "id": "nmNLqsXy0-9G",
        "outputId": "ecdb0e14-f02a-4610-98af-e333af7a294d"
      },
      "source": [
        "print(df_train.groupby(['Age']).size())"
      ],
      "execution_count": null,
      "outputs": [
        {
          "output_type": "stream",
          "text": [
            "Age\n",
            "Null           177\n",
            "baby            44\n",
            "child           39\n",
            "teen           218\n",
            "adult          263\n",
            "senior         128\n",
            "very_senior     22\n",
            "dtype: int64\n"
          ],
          "name": "stdout"
        }
      ]
    },
    {
      "cell_type": "markdown",
      "metadata": {
        "id": "9NwEmxBk546N"
      },
      "source": [
        "# Create some new features\n",
        "\n",
        "\n"
      ]
    },
    {
      "cell_type": "markdown",
      "metadata": {
        "id": "DuKxgrtvQcPo"
      },
      "source": [
        "## Family details : \r\n",
        "\r\n",
        "we have 2 columns which talks about siblings and parent children information.\r\n",
        "SibSp: Number of siblings/spouses aboard\r\n",
        "ParCh: Number of parents/children aboard"
      ]
    },
    {
      "cell_type": "code",
      "metadata": {
        "id": "fHsfTyqS90Yq",
        "colab": {
          "base_uri": "https://localhost:8080/",
          "height": 279
        },
        "outputId": "1db16f4a-adeb-4e4d-cdcb-d9dd757dff98"
      },
      "source": [
        "# Combining Siblings with Parents to get family size? \n",
        "df_train['FamilySize'] = df_train['SibSp'] + df_train['Parch'] + 1\n",
        "sns.barplot(x='FamilySize', y='Survived', data=df_train);"
      ],
      "execution_count": null,
      "outputs": [
        {
          "output_type": "display_data",
          "data": {
            "image/png": "[encoded data removed]",
            "text/plain": [
              "<Figure size 432x288 with 1 Axes>"
            ]
          },
          "metadata": {
            "tags": [],
            "needs_background": "light"
          }
        }
      ]
    },
    {
      "cell_type": "code",
      "metadata": {
        "colab": {
          "base_uri": "https://localhost:8080/",
          "height": 279
        },
        "id": "Iy4jRKMhQ8PX",
        "outputId": "f07b59a2-4323-464f-f7e4-5f197be8b0e3"
      },
      "source": [
        "sns.countplot(x='FamilySize', data=df_train);"
      ],
      "execution_count": null,
      "outputs": [
        {
          "output_type": "display_data",
          "data": {
            "image/png": "[encoded data removed]",
            "text/plain": [
              "<Figure size 432x288 with 1 Axes>"
            ]
          },
          "metadata": {
            "tags": [],
            "needs_background": "light"
          }
        }
      ]
    },
    {
      "cell_type": "code",
      "metadata": {
        "id": "xTIYttmy-HML",
        "colab": {
          "base_uri": "https://localhost:8080/",
          "height": 279
        },
        "outputId": "3f809ab1-ef42-42c1-f495-1467af6957c4"
      },
      "source": [
        "# The data is so skewed. Why not further modify it as a new column?\n",
        "# A person without a family has lower chance of survival\n",
        "df_train['IsAlone'] = 0\n",
        "df_train.loc[df_train['FamilySize'] == 1, 'IsAlone'] = 1\n",
        "sns.barplot(x='IsAlone', y='Survived', data=df_train);"
      ],
      "execution_count": null,
      "outputs": [
        {
          "output_type": "display_data",
          "data": {
            "image/png": "[encoded data removed]",
            "text/plain": [
              "<Figure size 432x288 with 1 Axes>"
            ]
          },
          "metadata": {
            "tags": [],
            "needs_background": "light"
          }
        }
      ]
    },
    {
      "cell_type": "code",
      "metadata": {
        "colab": {
          "base_uri": "https://localhost:8080/"
        },
        "id": "kQr-vc4zyMsM",
        "outputId": "402f7d51-a44a-4f6b-983b-ef166541241e"
      },
      "source": [
        "print(df_train.groupby(['IsAlone','Survived']).size())"
      ],
      "execution_count": null,
      "outputs": [
        {
          "output_type": "stream",
          "text": [
            "IsAlone  Survived\n",
            "0        0           175\n",
            "         1           179\n",
            "1        0           374\n",
            "         1           163\n",
            "dtype: int64\n"
          ],
          "name": "stdout"
        }
      ]
    },
    {
      "cell_type": "markdown",
      "metadata": {
        "id": "iaVYZ3UGSL5r"
      },
      "source": [
        "## Age\r\n",
        "\r\n",
        "Bucketed the age group:"
      ]
    },
    {
      "cell_type": "code",
      "metadata": {
        "id": "W7Pz7zdJSQ9C"
      },
      "source": [
        "df_train.Age = pd.cut(df_train.Age, (-1, 0, 5, 15, 25, 40, 60,120),\r\n",
        "                        labels=[\"Null\", \"baby\",\"child\", \"teen\", \"adult\", \"senior\", \"very_senior\"])"
      ],
      "execution_count": null,
      "outputs": []
    },
    {
      "cell_type": "code",
      "metadata": {
        "colab": {
          "base_uri": "https://localhost:8080/",
          "height": 280
        },
        "id": "ycEoN6P3Siar",
        "outputId": "5199e12b-2576-422e-9675-6aa732449ea4"
      },
      "source": [
        "sns.countplot(x='Age', data=df_train);"
      ],
      "execution_count": null,
      "outputs": [
        {
          "output_type": "display_data",
          "data": {
            "image/png": "[encoded data removed]",
            "text/plain": [
              "<Figure size 432x288 with 1 Axes>"
            ]
          },
          "metadata": {
            "tags": [],
            "needs_background": "light"
          }
        }
      ]
    },
    {
      "cell_type": "code",
      "metadata": {
        "id": "B1jKQYJ9SakX"
      },
      "source": [
        "df_train.Age = pd.cut(df_train.Age, (-1, 0, 5, 15, 25, 40, 60,120),\r\n",
        "                        labels=[0, 1, 2, 3, 4, 5, 6])"
      ],
      "execution_count": null,
      "outputs": []
    },
    {
      "cell_type": "code",
      "metadata": {
        "colab": {
          "base_uri": "https://localhost:8080/",
          "height": 279
        },
        "id": "y3Dy7kI3fgWY",
        "outputId": "f64e711a-83b3-43d6-b93a-2a94723c72a7"
      },
      "source": [
        "sns.countplot(x='Age', data=df_train);"
      ],
      "execution_count": null,
      "outputs": [
        {
          "output_type": "display_data",
          "data": {
            "image/png": "[encoded data removed]",
            "text/plain": [
              "<Figure size 432x288 with 1 Axes>"
            ]
          },
          "metadata": {
            "tags": [],
            "needs_background": "light"
          }
        }
      ]
    },
    {
      "cell_type": "markdown",
      "metadata": {
        "id": "qDI5oGRJTTX_"
      },
      "source": [
        "## Drop the columns\n",
        "\n",
        "we are going to drop columns with the least priority. we can drop columns such as ‘PassengerId’ and ‘Ticket’ which ddont have any information about survival/non survival\n"
      ]
    },
    {
      "cell_type": "code",
      "metadata": {
        "id": "vyfdtcdcRlPF"
      },
      "source": [
        "df_train.drop(['Ticket','PassengerId'], 1, inplace=True)"
      ],
      "execution_count": null,
      "outputs": []
    },
    {
      "cell_type": "markdown",
      "metadata": {
        "id": "Yt7GsCZztCRQ"
      },
      "source": [
        "Now our data is free from missing values, categorical data, and unwanted columns and ready to be used for further processing."
      ]
    },
    {
      "cell_type": "code",
      "metadata": {
        "colab": {
          "base_uri": "https://localhost:8080/"
        },
        "id": "l79H19GqRtjA",
        "outputId": "20608cc6-d454-49db-cac1-3dbc113babba"
      },
      "source": [
        "df_train.info()"
      ],
      "execution_count": null,
      "outputs": [
        {
          "output_type": "stream",
          "text": [
            "<class 'pandas.core.frame.DataFrame'>\n",
            "RangeIndex: 891 entries, 0 to 890\n",
            "Data columns (total 14 columns):\n",
            " #   Column       Non-Null Count  Dtype  \n",
            "---  ------       --------------  -----  \n",
            " 0   PassengerId  891 non-null    int64  \n",
            " 1   Survived     891 non-null    int64  \n",
            " 2   Pclass       891 non-null    int64  \n",
            " 3   Name         891 non-null    object \n",
            " 4   Sex          891 non-null    object \n",
            " 5   Age          714 non-null    float64\n",
            " 6   SibSp        891 non-null    int64  \n",
            " 7   Parch        891 non-null    int64  \n",
            " 8   Ticket       891 non-null    object \n",
            " 9   Fare         891 non-null    float64\n",
            " 10  Cabin        891 non-null    object \n",
            " 11  Embarked     889 non-null    object \n",
            " 12  Cabin_init   891 non-null    object \n",
            " 13  FamilySize   891 non-null    int64  \n",
            "dtypes: float64(2), int64(6), object(6)\n",
            "memory usage: 97.6+ KB\n"
          ],
          "name": "stdout"
        }
      ]
    },
    {
      "cell_type": "code",
      "metadata": {
        "colab": {
          "base_uri": "https://localhost:8080/",
          "height": 341
        },
        "id": "IyzYtBtwR9dR",
        "outputId": "c7f00d77-0fb4-4cc6-973c-80357b6bf73d"
      },
      "source": [
        "df_train.head()"
      ],
      "execution_count": null,
      "outputs": [
        {
          "output_type": "execute_result",
          "data": {
            "text/html": [
              "<div>\n",
              "<style scoped>\n",
              "    .dataframe tbody tr th:only-of-type {\n",
              "        vertical-align: middle;\n",
              "    }\n",
              "\n",
              "    .dataframe tbody tr th {\n",
              "        vertical-align: top;\n",
              "    }\n",
              "\n",
              "    .dataframe thead th {\n",
              "        text-align: right;\n",
              "    }\n",
              "</style>\n",
              "<table border=\"1\" class=\"dataframe\">\n",
              "  <thead>\n",
              "    <tr style=\"text-align: right;\">\n",
              "      <th></th>\n",
              "      <th>Survived</th>\n",
              "      <th>Pclass</th>\n",
              "      <th>Name</th>\n",
              "      <th>Sex</th>\n",
              "      <th>Age</th>\n",
              "      <th>SibSp</th>\n",
              "      <th>Parch</th>\n",
              "      <th>Fare</th>\n",
              "      <th>Cabin</th>\n",
              "      <th>Embarked</th>\n",
              "      <th>Cabin_init</th>\n",
              "      <th>FamilySize</th>\n",
              "    </tr>\n",
              "  </thead>\n",
              "  <tbody>\n",
              "    <tr>\n",
              "      <th>0</th>\n",
              "      <td>0</td>\n",
              "      <td>3</td>\n",
              "      <td>Braund, Mr. Owen Harris</td>\n",
              "      <td>male</td>\n",
              "      <td>22.0</td>\n",
              "      <td>1</td>\n",
              "      <td>0</td>\n",
              "      <td>7.2500</td>\n",
              "      <td>not available</td>\n",
              "      <td>S</td>\n",
              "      <td>n</td>\n",
              "      <td>2</td>\n",
              "    </tr>\n",
              "    <tr>\n",
              "      <th>1</th>\n",
              "      <td>1</td>\n",
              "      <td>1</td>\n",
              "      <td>Cumings, Mrs. John Bradley (Florence Briggs Th...</td>\n",
              "      <td>female</td>\n",
              "      <td>38.0</td>\n",
              "      <td>1</td>\n",
              "      <td>0</td>\n",
              "      <td>71.2833</td>\n",
              "      <td>available</td>\n",
              "      <td>C</td>\n",
              "      <td>C</td>\n",
              "      <td>2</td>\n",
              "    </tr>\n",
              "    <tr>\n",
              "      <th>2</th>\n",
              "      <td>1</td>\n",
              "      <td>3</td>\n",
              "      <td>Heikkinen, Miss. Laina</td>\n",
              "      <td>female</td>\n",
              "      <td>26.0</td>\n",
              "      <td>0</td>\n",
              "      <td>0</td>\n",
              "      <td>7.9250</td>\n",
              "      <td>not available</td>\n",
              "      <td>S</td>\n",
              "      <td>n</td>\n",
              "      <td>1</td>\n",
              "    </tr>\n",
              "    <tr>\n",
              "      <th>3</th>\n",
              "      <td>1</td>\n",
              "      <td>1</td>\n",
              "      <td>Futrelle, Mrs. Jacques Heath (Lily May Peel)</td>\n",
              "      <td>female</td>\n",
              "      <td>35.0</td>\n",
              "      <td>1</td>\n",
              "      <td>0</td>\n",
              "      <td>53.1000</td>\n",
              "      <td>available</td>\n",
              "      <td>S</td>\n",
              "      <td>C</td>\n",
              "      <td>2</td>\n",
              "    </tr>\n",
              "    <tr>\n",
              "      <th>4</th>\n",
              "      <td>0</td>\n",
              "      <td>3</td>\n",
              "      <td>Allen, Mr. William Henry</td>\n",
              "      <td>male</td>\n",
              "      <td>35.0</td>\n",
              "      <td>0</td>\n",
              "      <td>0</td>\n",
              "      <td>8.0500</td>\n",
              "      <td>not available</td>\n",
              "      <td>S</td>\n",
              "      <td>n</td>\n",
              "      <td>1</td>\n",
              "    </tr>\n",
              "  </tbody>\n",
              "</table>\n",
              "</div>"
            ],
            "text/plain": [
              "   Survived  Pclass  ... Cabin_init FamilySize\n",
              "0         0       3  ...          n          2\n",
              "1         1       1  ...          C          2\n",
              "2         1       3  ...          n          1\n",
              "3         1       1  ...          C          2\n",
              "4         0       3  ...          n          1\n",
              "\n",
              "[5 rows x 12 columns]"
            ]
          },
          "metadata": {
            "tags": []
          },
          "execution_count": 97
        }
      ]
    }
  ]
}